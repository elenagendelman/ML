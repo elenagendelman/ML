{
 "cells": [
  {
   "cell_type": "markdown",
   "id": "6f57c0f2",
   "metadata": {},
   "source": [
    "* [Project Description](#Description)\n",
    "* [Exploratory Data Analysis EDA](#EDA)\n",
    "    * [Bar histograms](#histograms)\n",
    "    * [Heatmap](#Heatmap)\n",
    "* [Build churn prediction model](#Build)\n",
    "* [User Clustering](#Clustering)\n",
    "* [Conclusions](#Conclusions)"
   ]
  },
  {
   "cell_type": "markdown",
   "id": "b7c31cfb",
   "metadata": {},
   "source": [
    "# Description of the project <a id=\"Description\"></a>\n",
    "\n",
    "The network of fitness centers \"Bodybuilder-datascientist\" develops a strategy for interacting with users based on analytical data.\n",
    "\n",
    "A common problem for fitness clubs and other services is the outflow of customers. How to understand that the user is no longer with you? You can add to the outflow those who asked to close the contract or deleted the account. However, customers do not always leave defiantly: they often stop using the service quietly.\n",
    "Churn indicators are industry specific. When a user rarely but steadily buys in an online store, it doesn’t look like he “fell off”. But if you don’t visit a channel with daily updated content for two weeks, things are bad: the subscriber got bored and seems to have left you.\n",
    "For a fitness center, we can consider that a client has been churned if he has never visited the gym in the last month. Of course, it is possible that he left for Bali and upon arrival will definitely continue to go to fitness. However, the opposite is more often the case. If a client started a new life on Monday, went to the gym for a bit, and then disappeared, most likely he will not return.\n",
    "\n",
    "To combat churn, Bodybuilder Data Scientist's customer service department has digitized many user profiles. Your task is to analyze and prepare an action plan for customer retention. Namely:\n",
    "\n",
    "- learn to predict the probability of outflow (at the level of the next month) for each client;\n",
    "- form typical portraits of users: identify several of the most striking groups and characterize their main properties;\n",
    "- analyze the main features that most strongly affect the outflow;\n",
    "- formulate the main conclusions and develop recommendations for improving the quality of work with clients:\n",
    "     - identify target customer groups;\n",
    "     - propose measures to reduce churn;\n",
    "     - to define other features of interaction with clients."
   ]
  },
  {
   "cell_type": "code",
   "execution_count": 1,
   "id": "6f43e1e2",
   "metadata": {},
   "outputs": [],
   "source": [
    "import pandas as pd\n",
    "import seaborn as sns\n",
    "import matplotlib.pyplot as plt\n",
    "from sklearn.preprocessing import StandardScaler\n",
    "from sklearn.model_selection import train_test_split\n",
    "import matplotlib.pyplot as plt\n",
    "\n",
    "from sklearn.linear_model import LogisticRegression\n",
    "from sklearn.ensemble import RandomForestClassifier, GradientBoostingClassifier\n",
    "from sklearn.metrics import accuracy_score, precision_score, recall_score, f1_score\n",
    "\n",
    "from scipy.cluster.hierarchy import dendrogram, linkage \n",
    "from sklearn.cluster import KMeans"
   ]
  },
  {
   "cell_type": "code",
   "execution_count": 2,
   "id": "67770e4a",
   "metadata": {},
   "outputs": [],
   "source": [
    "def print_all_metrics(y_true, y_pred, y_proba, title='Метрики классификации'):\n",
    "    print(title)\n",
    "    print('\\tAccuracy: {:.2f}'.format(accuracy_score(y_true, y_pred)))\n",
    "    print('\\tPrecision: {:.2f}'.format(precision_score(y_true, y_pred)))\n",
    "    print('\\tRecall: {:.2f}'.format(recall_score(y_true, y_pred)))"
   ]
  },
  {
   "cell_type": "code",
   "execution_count": 3,
   "id": "470fe27e",
   "metadata": {},
   "outputs": [],
   "source": [
    "df = pd.read_csv('https://code.s3.yandex.net/datasets/gym_churn.csv')"
   ]
  },
  {
   "cell_type": "code",
   "execution_count": 4,
   "id": "649a173f",
   "metadata": {},
   "outputs": [
    {
     "name": "stdout",
     "output_type": "stream",
     "text": [
      "(4000, 14)\n"
     ]
    },
    {
     "data": {
      "text/html": [
       "<div>\n",
       "<style scoped>\n",
       "    .dataframe tbody tr th:only-of-type {\n",
       "        vertical-align: middle;\n",
       "    }\n",
       "\n",
       "    .dataframe tbody tr th {\n",
       "        vertical-align: top;\n",
       "    }\n",
       "\n",
       "    .dataframe thead th {\n",
       "        text-align: right;\n",
       "    }\n",
       "</style>\n",
       "<table border=\"1\" class=\"dataframe\">\n",
       "  <thead>\n",
       "    <tr style=\"text-align: right;\">\n",
       "      <th></th>\n",
       "      <th>gender</th>\n",
       "      <th>near_location</th>\n",
       "      <th>partner</th>\n",
       "      <th>promo_friends</th>\n",
       "      <th>phone</th>\n",
       "      <th>contract_period</th>\n",
       "      <th>group_visits</th>\n",
       "      <th>age</th>\n",
       "      <th>avg_additional_charges_total</th>\n",
       "      <th>month_to_end_contract</th>\n",
       "      <th>lifetime</th>\n",
       "      <th>avg_class_frequency_total</th>\n",
       "      <th>avg_class_frequency_current_month</th>\n",
       "      <th>churn</th>\n",
       "    </tr>\n",
       "  </thead>\n",
       "  <tbody>\n",
       "    <tr>\n",
       "      <th>0</th>\n",
       "      <td>1</td>\n",
       "      <td>1</td>\n",
       "      <td>1</td>\n",
       "      <td>1</td>\n",
       "      <td>0</td>\n",
       "      <td>6</td>\n",
       "      <td>1</td>\n",
       "      <td>29</td>\n",
       "      <td>14.227470</td>\n",
       "      <td>5.0</td>\n",
       "      <td>3</td>\n",
       "      <td>0.020398</td>\n",
       "      <td>0.000000</td>\n",
       "      <td>0</td>\n",
       "    </tr>\n",
       "    <tr>\n",
       "      <th>1</th>\n",
       "      <td>0</td>\n",
       "      <td>1</td>\n",
       "      <td>0</td>\n",
       "      <td>0</td>\n",
       "      <td>1</td>\n",
       "      <td>12</td>\n",
       "      <td>1</td>\n",
       "      <td>31</td>\n",
       "      <td>113.202938</td>\n",
       "      <td>12.0</td>\n",
       "      <td>7</td>\n",
       "      <td>1.922936</td>\n",
       "      <td>1.910244</td>\n",
       "      <td>0</td>\n",
       "    </tr>\n",
       "    <tr>\n",
       "      <th>2</th>\n",
       "      <td>0</td>\n",
       "      <td>1</td>\n",
       "      <td>1</td>\n",
       "      <td>0</td>\n",
       "      <td>1</td>\n",
       "      <td>1</td>\n",
       "      <td>0</td>\n",
       "      <td>28</td>\n",
       "      <td>129.448479</td>\n",
       "      <td>1.0</td>\n",
       "      <td>2</td>\n",
       "      <td>1.859098</td>\n",
       "      <td>1.736502</td>\n",
       "      <td>0</td>\n",
       "    </tr>\n",
       "    <tr>\n",
       "      <th>3</th>\n",
       "      <td>0</td>\n",
       "      <td>1</td>\n",
       "      <td>1</td>\n",
       "      <td>1</td>\n",
       "      <td>1</td>\n",
       "      <td>12</td>\n",
       "      <td>1</td>\n",
       "      <td>33</td>\n",
       "      <td>62.669863</td>\n",
       "      <td>12.0</td>\n",
       "      <td>2</td>\n",
       "      <td>3.205633</td>\n",
       "      <td>3.357215</td>\n",
       "      <td>0</td>\n",
       "    </tr>\n",
       "    <tr>\n",
       "      <th>4</th>\n",
       "      <td>1</td>\n",
       "      <td>1</td>\n",
       "      <td>1</td>\n",
       "      <td>1</td>\n",
       "      <td>1</td>\n",
       "      <td>1</td>\n",
       "      <td>0</td>\n",
       "      <td>26</td>\n",
       "      <td>198.362265</td>\n",
       "      <td>1.0</td>\n",
       "      <td>3</td>\n",
       "      <td>1.113884</td>\n",
       "      <td>1.120078</td>\n",
       "      <td>0</td>\n",
       "    </tr>\n",
       "  </tbody>\n",
       "</table>\n",
       "</div>"
      ],
      "text/plain": [
       "   gender  near_location  partner  promo_friends  phone  contract_period  \\\n",
       "0       1              1        1              1      0                6   \n",
       "1       0              1        0              0      1               12   \n",
       "2       0              1        1              0      1                1   \n",
       "3       0              1        1              1      1               12   \n",
       "4       1              1        1              1      1                1   \n",
       "\n",
       "   group_visits  age  avg_additional_charges_total  month_to_end_contract  \\\n",
       "0             1   29                     14.227470                    5.0   \n",
       "1             1   31                    113.202938                   12.0   \n",
       "2             0   28                    129.448479                    1.0   \n",
       "3             1   33                     62.669863                   12.0   \n",
       "4             0   26                    198.362265                    1.0   \n",
       "\n",
       "   lifetime  avg_class_frequency_total  avg_class_frequency_current_month  \\\n",
       "0         3                   0.020398                           0.000000   \n",
       "1         7                   1.922936                           1.910244   \n",
       "2         2                   1.859098                           1.736502   \n",
       "3         2                   3.205633                           3.357215   \n",
       "4         3                   1.113884                           1.120078   \n",
       "\n",
       "   churn  \n",
       "0      0  \n",
       "1      0  \n",
       "2      0  \n",
       "3      0  \n",
       "4      0  "
      ]
     },
     "execution_count": 4,
     "metadata": {},
     "output_type": "execute_result"
    }
   ],
   "source": [
    "print(df.shape)\n",
    "df.columns = df.columns.str.lower()\n",
    "df.head() "
   ]
  },
  {
   "cell_type": "markdown",
   "id": "7a0aee0e",
   "metadata": {},
   "source": [
    "- 'Churn' — outflow fact in the current month;\n",
    "- Current fields in the dataset:\n",
    "    - User data for the previous month before checking the outflow fact:\n",
    "        - 'gender'\n",
    "        - 'Near_Location' - living or working in the area where the fitness center is located\n",
    "        - 'Partner' - an employee of the club's partner company (cooperation with companies whose employees can receive discounts for a subscription - in this case, the fitness center stores information about the client's employer)\n",
    "        - Promo_friends - the fact of the initial entry as part of the \"bring a friend\" promotion (used a promo code from a friend when paying for the first subscription)\n",
    "        - 'Phone' — availability of a contact phone number\n",
    "        - 'Age' — age\n",
    "        - 'Lifetime' - time since the first access to the fitness center (in months)\n",
    "    - Information based on the log of visits, purchases and information about the current status of the client's subscription\n",
    "        - 'Contract_period' — duration of the current active subscription (month, 3 months, 6 months, year)\n",
    "        - 'Month_to_end_contract' — term until the end of the current active subscription (in months)\n",
    "        - 'Group_visits' — the fact of attending group classes\n",
    "        - 'Avg_class_frequency_total' — the average frequency of visits per week for the entire time since the start of the subscription\n",
    "        - 'Avg_class_frequency_current_month' — average frequency of visits per week for the previous month\n",
    "        - 'Avg_additional_charges_total' — total revenue from other services of the fitness center: cafe, sports goods, beauty and massage salon"
   ]
  },
  {
   "cell_type": "code",
   "execution_count": 5,
   "id": "64e1cd05",
   "metadata": {
    "scrolled": true
   },
   "outputs": [
    {
     "name": "stdout",
     "output_type": "stream",
     "text": [
      "<class 'pandas.core.frame.DataFrame'>\n",
      "RangeIndex: 4000 entries, 0 to 3999\n",
      "Data columns (total 14 columns):\n",
      " #   Column                             Non-Null Count  Dtype  \n",
      "---  ------                             --------------  -----  \n",
      " 0   gender                             4000 non-null   int64  \n",
      " 1   near_location                      4000 non-null   int64  \n",
      " 2   partner                            4000 non-null   int64  \n",
      " 3   promo_friends                      4000 non-null   int64  \n",
      " 4   phone                              4000 non-null   int64  \n",
      " 5   contract_period                    4000 non-null   int64  \n",
      " 6   group_visits                       4000 non-null   int64  \n",
      " 7   age                                4000 non-null   int64  \n",
      " 8   avg_additional_charges_total       4000 non-null   float64\n",
      " 9   month_to_end_contract              4000 non-null   float64\n",
      " 10  lifetime                           4000 non-null   int64  \n",
      " 11  avg_class_frequency_total          4000 non-null   float64\n",
      " 12  avg_class_frequency_current_month  4000 non-null   float64\n",
      " 13  churn                              4000 non-null   int64  \n",
      "dtypes: float64(4), int64(10)\n",
      "memory usage: 437.6 KB\n"
     ]
    }
   ],
   "source": [
    "df.info() #all data is clean"
   ]
  },
  {
   "cell_type": "markdown",
   "id": "eec5acd9",
   "metadata": {},
   "source": [
    "# Exploratory Data Analysis (EDA) <a id=\"EDA\"></a>"
   ]
  },
  {
   "cell_type": "code",
   "execution_count": 6,
   "id": "ce0bc70b",
   "metadata": {},
   "outputs": [
    {
     "data": {
      "text/html": [
       "<div>\n",
       "<style scoped>\n",
       "    .dataframe tbody tr th:only-of-type {\n",
       "        vertical-align: middle;\n",
       "    }\n",
       "\n",
       "    .dataframe tbody tr th {\n",
       "        vertical-align: top;\n",
       "    }\n",
       "\n",
       "    .dataframe thead th {\n",
       "        text-align: right;\n",
       "    }\n",
       "</style>\n",
       "<table border=\"1\" class=\"dataframe\">\n",
       "  <thead>\n",
       "    <tr style=\"text-align: right;\">\n",
       "      <th></th>\n",
       "      <th>gender</th>\n",
       "      <th>near_location</th>\n",
       "      <th>partner</th>\n",
       "      <th>promo_friends</th>\n",
       "      <th>phone</th>\n",
       "      <th>contract_period</th>\n",
       "      <th>group_visits</th>\n",
       "      <th>age</th>\n",
       "      <th>avg_additional_charges_total</th>\n",
       "      <th>month_to_end_contract</th>\n",
       "      <th>lifetime</th>\n",
       "      <th>avg_class_frequency_total</th>\n",
       "      <th>avg_class_frequency_current_month</th>\n",
       "      <th>churn</th>\n",
       "    </tr>\n",
       "  </thead>\n",
       "  <tbody>\n",
       "    <tr>\n",
       "      <th>count</th>\n",
       "      <td>4000.000000</td>\n",
       "      <td>4000.000000</td>\n",
       "      <td>4000.000000</td>\n",
       "      <td>4000.000000</td>\n",
       "      <td>4000.000000</td>\n",
       "      <td>4000.000000</td>\n",
       "      <td>4000.000000</td>\n",
       "      <td>4000.000000</td>\n",
       "      <td>4000.000000</td>\n",
       "      <td>4000.000000</td>\n",
       "      <td>4000.000000</td>\n",
       "      <td>4000.000000</td>\n",
       "      <td>4000.000000</td>\n",
       "      <td>4000.000000</td>\n",
       "    </tr>\n",
       "    <tr>\n",
       "      <th>mean</th>\n",
       "      <td>0.510250</td>\n",
       "      <td>0.845250</td>\n",
       "      <td>0.486750</td>\n",
       "      <td>0.308500</td>\n",
       "      <td>0.903500</td>\n",
       "      <td>4.681250</td>\n",
       "      <td>0.412250</td>\n",
       "      <td>29.184250</td>\n",
       "      <td>146.943728</td>\n",
       "      <td>4.322750</td>\n",
       "      <td>3.724750</td>\n",
       "      <td>1.879020</td>\n",
       "      <td>1.767052</td>\n",
       "      <td>0.265250</td>\n",
       "    </tr>\n",
       "    <tr>\n",
       "      <th>std</th>\n",
       "      <td>0.499957</td>\n",
       "      <td>0.361711</td>\n",
       "      <td>0.499887</td>\n",
       "      <td>0.461932</td>\n",
       "      <td>0.295313</td>\n",
       "      <td>4.549706</td>\n",
       "      <td>0.492301</td>\n",
       "      <td>3.258367</td>\n",
       "      <td>96.355602</td>\n",
       "      <td>4.191297</td>\n",
       "      <td>3.749267</td>\n",
       "      <td>0.972245</td>\n",
       "      <td>1.052906</td>\n",
       "      <td>0.441521</td>\n",
       "    </tr>\n",
       "    <tr>\n",
       "      <th>min</th>\n",
       "      <td>0.000000</td>\n",
       "      <td>0.000000</td>\n",
       "      <td>0.000000</td>\n",
       "      <td>0.000000</td>\n",
       "      <td>0.000000</td>\n",
       "      <td>1.000000</td>\n",
       "      <td>0.000000</td>\n",
       "      <td>18.000000</td>\n",
       "      <td>0.148205</td>\n",
       "      <td>1.000000</td>\n",
       "      <td>0.000000</td>\n",
       "      <td>0.000000</td>\n",
       "      <td>0.000000</td>\n",
       "      <td>0.000000</td>\n",
       "    </tr>\n",
       "    <tr>\n",
       "      <th>25%</th>\n",
       "      <td>0.000000</td>\n",
       "      <td>1.000000</td>\n",
       "      <td>0.000000</td>\n",
       "      <td>0.000000</td>\n",
       "      <td>1.000000</td>\n",
       "      <td>1.000000</td>\n",
       "      <td>0.000000</td>\n",
       "      <td>27.000000</td>\n",
       "      <td>68.868830</td>\n",
       "      <td>1.000000</td>\n",
       "      <td>1.000000</td>\n",
       "      <td>1.180875</td>\n",
       "      <td>0.963003</td>\n",
       "      <td>0.000000</td>\n",
       "    </tr>\n",
       "    <tr>\n",
       "      <th>50%</th>\n",
       "      <td>1.000000</td>\n",
       "      <td>1.000000</td>\n",
       "      <td>0.000000</td>\n",
       "      <td>0.000000</td>\n",
       "      <td>1.000000</td>\n",
       "      <td>1.000000</td>\n",
       "      <td>0.000000</td>\n",
       "      <td>29.000000</td>\n",
       "      <td>136.220159</td>\n",
       "      <td>1.000000</td>\n",
       "      <td>3.000000</td>\n",
       "      <td>1.832768</td>\n",
       "      <td>1.719574</td>\n",
       "      <td>0.000000</td>\n",
       "    </tr>\n",
       "    <tr>\n",
       "      <th>75%</th>\n",
       "      <td>1.000000</td>\n",
       "      <td>1.000000</td>\n",
       "      <td>1.000000</td>\n",
       "      <td>1.000000</td>\n",
       "      <td>1.000000</td>\n",
       "      <td>6.000000</td>\n",
       "      <td>1.000000</td>\n",
       "      <td>31.000000</td>\n",
       "      <td>210.949625</td>\n",
       "      <td>6.000000</td>\n",
       "      <td>5.000000</td>\n",
       "      <td>2.536078</td>\n",
       "      <td>2.510336</td>\n",
       "      <td>1.000000</td>\n",
       "    </tr>\n",
       "    <tr>\n",
       "      <th>max</th>\n",
       "      <td>1.000000</td>\n",
       "      <td>1.000000</td>\n",
       "      <td>1.000000</td>\n",
       "      <td>1.000000</td>\n",
       "      <td>1.000000</td>\n",
       "      <td>12.000000</td>\n",
       "      <td>1.000000</td>\n",
       "      <td>41.000000</td>\n",
       "      <td>552.590740</td>\n",
       "      <td>12.000000</td>\n",
       "      <td>31.000000</td>\n",
       "      <td>6.023668</td>\n",
       "      <td>6.146783</td>\n",
       "      <td>1.000000</td>\n",
       "    </tr>\n",
       "  </tbody>\n",
       "</table>\n",
       "</div>"
      ],
      "text/plain": [
       "            gender  near_location      partner  promo_friends        phone  \\\n",
       "count  4000.000000    4000.000000  4000.000000    4000.000000  4000.000000   \n",
       "mean      0.510250       0.845250     0.486750       0.308500     0.903500   \n",
       "std       0.499957       0.361711     0.499887       0.461932     0.295313   \n",
       "min       0.000000       0.000000     0.000000       0.000000     0.000000   \n",
       "25%       0.000000       1.000000     0.000000       0.000000     1.000000   \n",
       "50%       1.000000       1.000000     0.000000       0.000000     1.000000   \n",
       "75%       1.000000       1.000000     1.000000       1.000000     1.000000   \n",
       "max       1.000000       1.000000     1.000000       1.000000     1.000000   \n",
       "\n",
       "       contract_period  group_visits          age  \\\n",
       "count      4000.000000   4000.000000  4000.000000   \n",
       "mean          4.681250      0.412250    29.184250   \n",
       "std           4.549706      0.492301     3.258367   \n",
       "min           1.000000      0.000000    18.000000   \n",
       "25%           1.000000      0.000000    27.000000   \n",
       "50%           1.000000      0.000000    29.000000   \n",
       "75%           6.000000      1.000000    31.000000   \n",
       "max          12.000000      1.000000    41.000000   \n",
       "\n",
       "       avg_additional_charges_total  month_to_end_contract     lifetime  \\\n",
       "count                   4000.000000            4000.000000  4000.000000   \n",
       "mean                     146.943728               4.322750     3.724750   \n",
       "std                       96.355602               4.191297     3.749267   \n",
       "min                        0.148205               1.000000     0.000000   \n",
       "25%                       68.868830               1.000000     1.000000   \n",
       "50%                      136.220159               1.000000     3.000000   \n",
       "75%                      210.949625               6.000000     5.000000   \n",
       "max                      552.590740              12.000000    31.000000   \n",
       "\n",
       "       avg_class_frequency_total  avg_class_frequency_current_month  \\\n",
       "count                4000.000000                        4000.000000   \n",
       "mean                    1.879020                           1.767052   \n",
       "std                     0.972245                           1.052906   \n",
       "min                     0.000000                           0.000000   \n",
       "25%                     1.180875                           0.963003   \n",
       "50%                     1.832768                           1.719574   \n",
       "75%                     2.536078                           2.510336   \n",
       "max                     6.023668                           6.146783   \n",
       "\n",
       "             churn  \n",
       "count  4000.000000  \n",
       "mean      0.265250  \n",
       "std       0.441521  \n",
       "min       0.000000  \n",
       "25%       0.000000  \n",
       "50%       0.000000  \n",
       "75%       1.000000  \n",
       "max       1.000000  "
      ]
     },
     "execution_count": 6,
     "metadata": {},
     "output_type": "execute_result"
    }
   ],
   "source": [
    "df.describe()"
   ]
  },
  {
   "cell_type": "markdown",
   "id": "a73db7b3",
   "metadata": {},
   "source": [
    "On average, everything is calm - we have approximately the same spread for men and women and there is no strong difference in age. There is an interesting outlier in the Lifetime column - some visitor has been in the hall for 31 months (almost 3 years), and on average the hall is visited up to 3 times a week, with the exception of a person who comes there 6 days out of 7 from the start of the period."
   ]
  },
  {
   "cell_type": "code",
   "execution_count": 7,
   "id": "0f15f622",
   "metadata": {},
   "outputs": [
    {
     "data": {
      "text/html": [
       "<div>\n",
       "<style scoped>\n",
       "    .dataframe tbody tr th:only-of-type {\n",
       "        vertical-align: middle;\n",
       "    }\n",
       "\n",
       "    .dataframe tbody tr th {\n",
       "        vertical-align: top;\n",
       "    }\n",
       "\n",
       "    .dataframe thead th {\n",
       "        text-align: right;\n",
       "    }\n",
       "</style>\n",
       "<table border=\"1\" class=\"dataframe\">\n",
       "  <thead>\n",
       "    <tr style=\"text-align: right;\">\n",
       "      <th></th>\n",
       "      <th>gender</th>\n",
       "      <th>near_location</th>\n",
       "      <th>partner</th>\n",
       "      <th>promo_friends</th>\n",
       "      <th>phone</th>\n",
       "      <th>contract_period</th>\n",
       "      <th>group_visits</th>\n",
       "      <th>age</th>\n",
       "      <th>avg_additional_charges_total</th>\n",
       "      <th>month_to_end_contract</th>\n",
       "      <th>lifetime</th>\n",
       "      <th>avg_class_frequency_total</th>\n",
       "      <th>avg_class_frequency_current_month</th>\n",
       "    </tr>\n",
       "    <tr>\n",
       "      <th>churn</th>\n",
       "      <th></th>\n",
       "      <th></th>\n",
       "      <th></th>\n",
       "      <th></th>\n",
       "      <th></th>\n",
       "      <th></th>\n",
       "      <th></th>\n",
       "      <th></th>\n",
       "      <th></th>\n",
       "      <th></th>\n",
       "      <th></th>\n",
       "      <th></th>\n",
       "      <th></th>\n",
       "    </tr>\n",
       "  </thead>\n",
       "  <tbody>\n",
       "    <tr>\n",
       "      <th>0</th>\n",
       "      <td>0.510037</td>\n",
       "      <td>0.873086</td>\n",
       "      <td>0.534195</td>\n",
       "      <td>0.353522</td>\n",
       "      <td>0.903709</td>\n",
       "      <td>5.747193</td>\n",
       "      <td>0.464103</td>\n",
       "      <td>29.976523</td>\n",
       "      <td>158.445715</td>\n",
       "      <td>5.283089</td>\n",
       "      <td>4.711807</td>\n",
       "      <td>2.024876</td>\n",
       "      <td>2.027882</td>\n",
       "    </tr>\n",
       "    <tr>\n",
       "      <th>1</th>\n",
       "      <td>0.510839</td>\n",
       "      <td>0.768143</td>\n",
       "      <td>0.355325</td>\n",
       "      <td>0.183789</td>\n",
       "      <td>0.902922</td>\n",
       "      <td>1.728558</td>\n",
       "      <td>0.268615</td>\n",
       "      <td>26.989632</td>\n",
       "      <td>115.082899</td>\n",
       "      <td>1.662582</td>\n",
       "      <td>0.990575</td>\n",
       "      <td>1.474995</td>\n",
       "      <td>1.044546</td>\n",
       "    </tr>\n",
       "  </tbody>\n",
       "</table>\n",
       "</div>"
      ],
      "text/plain": [
       "         gender  near_location   partner  promo_friends     phone  \\\n",
       "churn                                                               \n",
       "0      0.510037       0.873086  0.534195       0.353522  0.903709   \n",
       "1      0.510839       0.768143  0.355325       0.183789  0.902922   \n",
       "\n",
       "       contract_period  group_visits        age  avg_additional_charges_total  \\\n",
       "churn                                                                           \n",
       "0             5.747193      0.464103  29.976523                    158.445715   \n",
       "1             1.728558      0.268615  26.989632                    115.082899   \n",
       "\n",
       "       month_to_end_contract  lifetime  avg_class_frequency_total  \\\n",
       "churn                                                               \n",
       "0                   5.283089  4.711807                   2.024876   \n",
       "1                   1.662582  0.990575                   1.474995   \n",
       "\n",
       "       avg_class_frequency_current_month  \n",
       "churn                                     \n",
       "0                               2.027882  \n",
       "1                               1.044546  "
      ]
     },
     "execution_count": 7,
     "metadata": {},
     "output_type": "execute_result"
    }
   ],
   "source": [
    "df.groupby('churn').mean()"
   ]
  },
  {
   "cell_type": "markdown",
   "id": "e91ee052",
   "metadata": {},
   "source": [
    "We see that for churn = 0 (those who stayed), on average, older people (almost 30 years old) are inherent, with an average frequency of visiting the hall 2 times a week for the previous month and have been customers of the hall for 4 months already. In most cases, this client receives a partner discount from the company for visiting the hall. His contract is likely for 6 months.\n",
    "On the contrary, a client who left the hall churn = 1 younger, on average 27 years old, is a client on average no more than 1 month and most likely took a subscription for 3 months. He rarely has an affiliate discount from the company."
   ]
  },
  {
   "cell_type": "markdown",
   "id": "268e9424",
   "metadata": {},
   "source": [
    "### Bar charts <a id=\"histograms\"></a>"
   ]
  },
  {
   "cell_type": "code",
   "execution_count": 8,
   "id": "79e434b0",
   "metadata": {},
   "outputs": [
    {
     "data": {
      "image/png": "[encoded data removed]",
      "text/plain": [
       "<Figure size 288x288 with 1 Axes>"
      ]
     },
     "metadata": {
      "needs_background": "light"
     },
     "output_type": "display_data"
    },
    {
     "data": {
      "image/png": "[encoded data removed]",
      "text/plain": [
       "<Figure size 288x288 with 1 Axes>"
      ]
     },
     "metadata": {
      "needs_background": "light"
     },
     "output_type": "display_data"
    },
    {
     "data": {
      "image/png": "[encoded data removed]",
      "text/plain": [
       "<Figure size 288x288 with 1 Axes>"
      ]
     },
     "metadata": {
      "needs_background": "light"
     },
     "output_type": "display_data"
    },
    {
     "data": {
      "image/png": "[encoded data removed]",
      "text/plain": [
       "<Figure size 288x288 with 1 Axes>"
      ]
     },
     "metadata": {
      "needs_background": "light"
     },
     "output_type": "display_data"
    },
    {
     "data": {
      "image/png": "[encoded data removed]",
      "text/plain": [
       "<Figure size 288x288 with 1 Axes>"
      ]
     },
     "metadata": {
      "needs_background": "light"
     },
     "output_type": "display_data"
    },
    {
     "data": {
      "image/png": "[encoded data removed]",
      "text/plain": [
       "<Figure size 288x288 with 1 Axes>"
      ]
     },
     "metadata": {
      "needs_background": "light"
     },
     "output_type": "display_data"
    },
    {
     "data": {
      "image/png": "[encoded data removed]",
      "text/plain": [
       "<Figure size 288x288 with 1 Axes>"
      ]
     },
     "metadata": {
      "needs_background": "light"
     },
     "output_type": "display_data"
    },
    {
     "data": {
      "image/png": "[encoded data removed]",
      "text/plain": [
       "<Figure size 288x288 with 1 Axes>"
      ]
     },
     "metadata": {
      "needs_background": "light"
     },
     "output_type": "display_data"
    },
    {
     "data": {
      "image/png": "[encoded data removed]",
      "text/plain": [
       "<Figure size 288x288 with 1 Axes>"
      ]
     },
     "metadata": {
      "needs_background": "light"
     },
     "output_type": "display_data"
    },
    {
     "data": {
      "image/png": "[encoded data removed]",
      "text/plain": [
       "<Figure size 288x288 with 1 Axes>"
      ]
     },
     "metadata": {
      "needs_background": "light"
     },
     "output_type": "display_data"
    },
    {
     "data": {
      "image/png": "[encoded data removed]",
      "text/plain": [
       "<Figure size 288x288 with 1 Axes>"
      ]
     },
     "metadata": {
      "needs_background": "light"
     },
     "output_type": "display_data"
    },
    {
     "data": {
      "image/png": "[encoded data removed]",
      "text/plain": [
       "<Figure size 288x288 with 1 Axes>"
      ]
     },
     "metadata": {
      "needs_background": "light"
     },
     "output_type": "display_data"
    },
    {
     "data": {
      "image/png": "[encoded data removed]",
      "text/plain": [
       "<Figure size 288x288 with 1 Axes>"
      ]
     },
     "metadata": {
      "needs_background": "light"
     },
     "output_type": "display_data"
    }
   ],
   "source": [
    "for col in df.drop('churn', axis = 1).columns: \n",
    "    plt.figure(figsize=(4, 4))\n",
    "    sns.barplot(x=\"churn\", y=col, data=df, palette=\"Blues_d\")\n",
    "    plt.show()"
   ]
  },
  {
   "cell_type": "markdown",
   "id": "25f774e4",
   "metadata": {},
   "source": [
    "### Heatmap <a id=\"Heatmap\"></a>\n"
   ]
  },
  {
   "cell_type": "code",
   "execution_count": 9,
   "id": "0a25bcc5",
   "metadata": {},
   "outputs": [
    {
     "data": {
      "image/png": "[encoded data removed]",
      "text/plain": [
       "<Figure size 720x720 with 2 Axes>"
      ]
     },
     "metadata": {
      "needs_background": "light"
     },
     "output_type": "display_data"
    }
   ],
   "source": [
    "#построим и отрисуем матрицу корреляций\n",
    "cm = df.corr().round(2) #вычисляем матрицу корреляций\n",
    "\n",
    "#нарисуем тепловую карту с подписями для матрицы корреляций\n",
    "f, ax = plt.subplots(figsize=(10, 10))\n",
    "\n",
    "sns.heatmap(cm, annot = True, square=True)#ваш код здесь\n",
    "ax.set_ylim(\n",
    "    10,0)\n",
    "plt.show()"
   ]
  },
  {
   "cell_type": "markdown",
   "id": "7f9146bf",
   "metadata": {},
   "source": [
    "Most of all, the connection with the outflow was found in the columns \"month_to_end_contract\", age and contract period. In contrast, gender and having a phone number have little to no effect on churn rates.\n",
    "Clients that are part of the \"partner\" and \"group_visits\" programs leave less frequently than clients that do not have this option. Also, clients with a lower contact period leave more often - it was probably from a three-month trial period and they didn’t like something, they decided not to take a longer term (6 or 12 months) and their lifetime, respectively, is much lower."
   ]
  },
  {
   "cell_type": "markdown",
   "id": "00cd4050",
   "metadata": {},
   "source": [
    "# Building a user churn prediction model <a id=\"Building\"></a>"
   ]
  },
  {
   "cell_type": "code",
   "execution_count": 10,
   "id": "d00073a0",
   "metadata": {},
   "outputs": [
    {
     "name": "stdout",
     "output_type": "stream",
     "text": [
      "[[ 0.96619602  0.43033148  1.02339868 -0.66734383 -3.05329013 -0.80408577\n",
      "  -0.84280208 -0.682639    0.8351644  -0.78713912 -0.9919009  -0.16257904\n",
      "  -0.39978493]\n",
      " [-1.03498667  0.43033148 -0.9771363  -0.66734383  0.32751555 -0.80408577\n",
      "  -0.84280208 -0.682639   -0.53243535 -0.78713912 -0.9919009  -1.16767761\n",
      "  -1.56162601]\n",
      " [ 0.96619602 -2.32379001  1.02339868  1.49847793  0.32751555  0.29976428\n",
      "  -0.84280208  0.54457718 -1.47121501  0.16841672  1.1213367  -0.14789419\n",
      "  -0.05848145]\n",
      " [-1.03498667  0.43033148 -0.9771363  -0.66734383  0.32751555  1.62438434\n",
      "  -0.84280208  0.23777313  1.48682485  1.60175048  0.3288726   1.22096866\n",
      "   1.30455254]\n",
      " [-1.03498667  0.43033148  1.02339868  1.49847793  0.32751555 -0.80408577\n",
      "  -0.84280208  0.54457718 -1.09788803 -0.78713912 -0.9919009  -1.91770149\n",
      "  -1.66462814]]\n"
     ]
    }
   ],
   "source": [
    "X = df.drop('churn', axis = 1)\n",
    "y = df['churn']\n",
    "\n",
    "#разделяем модель на обучающую и валидационную выборки\n",
    "X_train, X_test, y_train, y_test = train_test_split(X, y, test_size=0.2)\n",
    "\n",
    "#создадим объект класса StandardScaler и применим его к обучающей выборке\n",
    "scaler = StandardScaler()\n",
    "X_train_st = scaler.fit_transform(X_train)\n",
    "\n",
    "print(X_train_st[:5])\n",
    "\n",
    "#применяем стандартизацию к матрице признаков для тестовой выборки\n",
    "X_test_st = scaler.transform(X_test)\n"
   ]
  },
  {
   "cell_type": "code",
   "execution_count": 11,
   "id": "16dfa621",
   "metadata": {},
   "outputs": [
    {
     "name": "stdout",
     "output_type": "stream",
     "text": [
      "Метрики для модели логистической регрессии:\n",
      "\tAccuracy: 0.92\n",
      "\tPrecision: 0.87\n",
      "\tRecall: 0.81\n"
     ]
    }
   ],
   "source": [
    "lr_model = LogisticRegression(random_state=0)\n",
    "# обучим модель\n",
    "lr_model.fit(X_train_st, y_train)\n",
    "# воспользуемся уже обученной моделью, чтобы сделать прогнозы\n",
    "lr_predictions = lr_model.predict(X_test_st)\n",
    "lr_probabilities = lr_model.predict_proba(X_test_st)[:, 1]\n",
    "# выведем все метрики\n",
    "print_all_metrics(\n",
    "    y_test,\n",
    "    lr_predictions,\n",
    "    lr_probabilities,\n",
    "    title='Метрики для модели логистической регрессии:',\n",
    ")"
   ]
  },
  {
   "cell_type": "code",
   "execution_count": 12,
   "id": "6ae03555",
   "metadata": {},
   "outputs": [
    {
     "name": "stdout",
     "output_type": "stream",
     "text": [
      "Метрики для модели случайного леса:\n",
      "\tAccuracy: 0.92\n",
      "\tPrecision: 0.86\n",
      "\tRecall: 0.84\n"
     ]
    }
   ],
   "source": [
    "rf_model = RandomForestClassifier(n_estimators = 100, random_state = 0)  # Ваш код здесь\n",
    "# обучим модель случайного леса\n",
    "rf_model.fit(X_train_st, y_train)\n",
    "# воспользуемся уже обученной моделью, чтобы сделать прогнозы\n",
    "rf_predictions = rf_model.predict(X_test_st) # Ваш код здесь\n",
    "rf_probabilities = rf_model.predict_proba(X_test_st)[:, 1]# Ваш код здесь\n",
    "# выведем все метрики\n",
    "print_all_metrics(\n",
    "    y_test,\n",
    "    rf_predictions,\n",
    "    rf_probabilities,\n",
    "    title='Метрики для модели случайного леса:'\n",
    ")"
   ]
  },
  {
   "cell_type": "markdown",
   "id": "6510f8e3",
   "metadata": {},
   "source": [
    "We see that the Logistic Regression behaves better in all indicators (Accuracy, Precision and Recall)"
   ]
  },
  {
   "cell_type": "markdown",
   "id": "a34ced3c",
   "metadata": {},
   "source": [
    "# User clustering <a id=\"Clustering\"></a>"
   ]
  },
  {
   "cell_type": "markdown",
   "id": "318d0657",
   "metadata": {},
   "source": [
    "# Step 4: Cluster Users\n",
    "\n",
    "    Set aside the churn column and cluster the objects (users):\n",
    "        Standardize your data.\n",
    "        Build a distance matrix with the linkage() function on a standardized feature matrix and draw a dendrogram. Attention: drawing a dendrogram may take time! Based on the resulting graph, guess how many clusters can be identified.\n",
    "        Train a clustering model based on the K-Means algorithm and predict customer clusters. We will agree to take n=5 as the number of clusters so that your results can be compared with the results of other students. However, of course, in life no one will tell you the correct answer, and the decision is up to you (based on the study of the graph from the previous paragraph).\n",
    "        Look at the averages of the features for the clusters. Is it possible to notice something right away?\n",
    "        Plot the feature distributions for the clusters. Can you see something in them?\n",
    "        For each resulting cluster, calculate the churn rate (using the groupby() method). Do they differ in"
   ]
  },
  {
   "cell_type": "code",
   "execution_count": 13,
   "id": "18f43a80",
   "metadata": {},
   "outputs": [],
   "source": [
    "sc = StandardScaler()\n",
    "X_sc = sc.fit_transform(df)\n",
    "\n",
    "linked = linkage(X_sc, method = 'ward') "
   ]
  },
  {
   "cell_type": "code",
   "execution_count": 14,
   "id": "5c473de8",
   "metadata": {},
   "outputs": [
    {
     "data": {
      "image/png": "[encoded data removed]",
      "text/plain": [
       "<Figure size 1080x720 with 1 Axes>"
      ]
     },
     "metadata": {
      "needs_background": "light"
     },
     "output_type": "display_data"
    }
   ],
   "source": [
    "plt.figure(figsize=(15, 10))  \n",
    "dendrogram(linked, orientation='top')\n",
    "plt.show() \n",
    "#Предложенное оптимальное число кластеров 5 — пять разных цветов на графике."
   ]
  },
  {
   "cell_type": "code",
   "execution_count": 15,
   "id": "aaab5daf",
   "metadata": {},
   "outputs": [
    {
     "data": {
      "text/html": [
       "<div>\n",
       "<style scoped>\n",
       "    .dataframe tbody tr th:only-of-type {\n",
       "        vertical-align: middle;\n",
       "    }\n",
       "\n",
       "    .dataframe tbody tr th {\n",
       "        vertical-align: top;\n",
       "    }\n",
       "\n",
       "    .dataframe thead th {\n",
       "        text-align: right;\n",
       "    }\n",
       "</style>\n",
       "<table border=\"1\" class=\"dataframe\">\n",
       "  <thead>\n",
       "    <tr style=\"text-align: right;\">\n",
       "      <th></th>\n",
       "      <th>gender</th>\n",
       "      <th>near_location</th>\n",
       "      <th>partner</th>\n",
       "      <th>promo_friends</th>\n",
       "      <th>phone</th>\n",
       "      <th>contract_period</th>\n",
       "      <th>group_visits</th>\n",
       "      <th>age</th>\n",
       "      <th>avg_additional_charges_total</th>\n",
       "      <th>month_to_end_contract</th>\n",
       "      <th>lifetime</th>\n",
       "      <th>avg_class_frequency_total</th>\n",
       "      <th>avg_class_frequency_current_month</th>\n",
       "      <th>churn</th>\n",
       "    </tr>\n",
       "    <tr>\n",
       "      <th>cluster_km</th>\n",
       "      <th></th>\n",
       "      <th></th>\n",
       "      <th></th>\n",
       "      <th></th>\n",
       "      <th></th>\n",
       "      <th></th>\n",
       "      <th></th>\n",
       "      <th></th>\n",
       "      <th></th>\n",
       "      <th></th>\n",
       "      <th></th>\n",
       "      <th></th>\n",
       "      <th></th>\n",
       "      <th></th>\n",
       "    </tr>\n",
       "  </thead>\n",
       "  <tbody>\n",
       "    <tr>\n",
       "      <th>0</th>\n",
       "      <td>0.472832</td>\n",
       "      <td>0.826590</td>\n",
       "      <td>0.455491</td>\n",
       "      <td>0.261272</td>\n",
       "      <td>1.000000</td>\n",
       "      <td>2.751445</td>\n",
       "      <td>0.382659</td>\n",
       "      <td>30.046243</td>\n",
       "      <td>151.641903</td>\n",
       "      <td>2.546821</td>\n",
       "      <td>4.634682</td>\n",
       "      <td>1.169503</td>\n",
       "      <td>1.168325</td>\n",
       "      <td>0.001156</td>\n",
       "    </tr>\n",
       "    <tr>\n",
       "      <th>1</th>\n",
       "      <td>0.526178</td>\n",
       "      <td>0.869110</td>\n",
       "      <td>0.471204</td>\n",
       "      <td>0.308901</td>\n",
       "      <td>0.000000</td>\n",
       "      <td>4.816754</td>\n",
       "      <td>0.429319</td>\n",
       "      <td>29.340314</td>\n",
       "      <td>144.517762</td>\n",
       "      <td>4.502618</td>\n",
       "      <td>3.955497</td>\n",
       "      <td>1.857525</td>\n",
       "      <td>1.727260</td>\n",
       "      <td>0.261780</td>\n",
       "    </tr>\n",
       "    <tr>\n",
       "      <th>2</th>\n",
       "      <td>0.506908</td>\n",
       "      <td>0.759830</td>\n",
       "      <td>0.341126</td>\n",
       "      <td>0.179596</td>\n",
       "      <td>0.996812</td>\n",
       "      <td>1.566419</td>\n",
       "      <td>0.257173</td>\n",
       "      <td>26.907545</td>\n",
       "      <td>114.993470</td>\n",
       "      <td>1.513284</td>\n",
       "      <td>0.975558</td>\n",
       "      <td>1.448150</td>\n",
       "      <td>1.025562</td>\n",
       "      <td>0.997875</td>\n",
       "    </tr>\n",
       "    <tr>\n",
       "      <th>3</th>\n",
       "      <td>0.503125</td>\n",
       "      <td>0.938542</td>\n",
       "      <td>0.767708</td>\n",
       "      <td>0.562500</td>\n",
       "      <td>1.000000</td>\n",
       "      <td>11.200000</td>\n",
       "      <td>0.559375</td>\n",
       "      <td>29.880208</td>\n",
       "      <td>162.783361</td>\n",
       "      <td>10.251042</td>\n",
       "      <td>4.718750</td>\n",
       "      <td>2.028887</td>\n",
       "      <td>2.023255</td>\n",
       "      <td>0.015625</td>\n",
       "    </tr>\n",
       "    <tr>\n",
       "      <th>4</th>\n",
       "      <td>0.552817</td>\n",
       "      <td>0.842723</td>\n",
       "      <td>0.369718</td>\n",
       "      <td>0.212441</td>\n",
       "      <td>0.998826</td>\n",
       "      <td>2.674883</td>\n",
       "      <td>0.440141</td>\n",
       "      <td>29.969484</td>\n",
       "      <td>160.701876</td>\n",
       "      <td>2.468310</td>\n",
       "      <td>4.613850</td>\n",
       "      <td>2.916013</td>\n",
       "      <td>2.923022</td>\n",
       "      <td>0.007042</td>\n",
       "    </tr>\n",
       "  </tbody>\n",
       "</table>\n",
       "</div>"
      ],
      "text/plain": [
       "              gender  near_location   partner  promo_friends     phone  \\\n",
       "cluster_km                                                               \n",
       "0           0.472832       0.826590  0.455491       0.261272  1.000000   \n",
       "1           0.526178       0.869110  0.471204       0.308901  0.000000   \n",
       "2           0.506908       0.759830  0.341126       0.179596  0.996812   \n",
       "3           0.503125       0.938542  0.767708       0.562500  1.000000   \n",
       "4           0.552817       0.842723  0.369718       0.212441  0.998826   \n",
       "\n",
       "            contract_period  group_visits        age  \\\n",
       "cluster_km                                             \n",
       "0                  2.751445      0.382659  30.046243   \n",
       "1                  4.816754      0.429319  29.340314   \n",
       "2                  1.566419      0.257173  26.907545   \n",
       "3                 11.200000      0.559375  29.880208   \n",
       "4                  2.674883      0.440141  29.969484   \n",
       "\n",
       "            avg_additional_charges_total  month_to_end_contract  lifetime  \\\n",
       "cluster_km                                                                  \n",
       "0                             151.641903               2.546821  4.634682   \n",
       "1                             144.517762               4.502618  3.955497   \n",
       "2                             114.993470               1.513284  0.975558   \n",
       "3                             162.783361              10.251042  4.718750   \n",
       "4                             160.701876               2.468310  4.613850   \n",
       "\n",
       "            avg_class_frequency_total  avg_class_frequency_current_month  \\\n",
       "cluster_km                                                                 \n",
       "0                            1.169503                           1.168325   \n",
       "1                            1.857525                           1.727260   \n",
       "2                            1.448150                           1.025562   \n",
       "3                            2.028887                           2.023255   \n",
       "4                            2.916013                           2.923022   \n",
       "\n",
       "               churn  \n",
       "cluster_km            \n",
       "0           0.001156  \n",
       "1           0.261780  \n",
       "2           0.997875  \n",
       "3           0.015625  \n",
       "4           0.007042  "
      ]
     },
     "execution_count": 15,
     "metadata": {},
     "output_type": "execute_result"
    }
   ],
   "source": [
    "km = KMeans(n_clusters = 5) # задаём число кластеров, равное 5\n",
    "labels = km.fit_predict(X_sc) # применяем алгоритм к данным и формируем вектор кластеров \n",
    "\n",
    "df['cluster_km'] = labels\n",
    "\n",
    "# выводим статистику по средним значениям наших признаков по кластеру\n",
    "df.groupby('cluster_km').mean()"
   ]
  },
  {
   "cell_type": "markdown",
   "id": "b29a009f",
   "metadata": {},
   "source": [
    "Clustering the data, you can see that those who go to group classes also have Promo_friends and have the longest contract on average. The lowest churn rate is for the cluster that visits the gym on average 2 times a week and has the longest lifetime (time since the first visit to the fitness center). Those who have the highest churn process have the least visits to the gym and their lifetime is the lowest, they are also the youngest of all other clusters."
   ]
  },
  {
   "cell_type": "markdown",
   "id": "eaebb45b",
   "metadata": {},
   "source": [
    "# Conclusions <a id=\"Conclusions\"></a>"
   ]
  },
  {
   "cell_type": "markdown",
   "id": "a7742bc4",
   "metadata": {},
   "source": [
    "After the experiment, it was found that the use of the Logistic Regression model is the most reasonable - its metrics cope much better with the accuracy of the task, in contrast to the Random Forest metrics. The decision was made based on Accuracy, Precision and Recall metrics\n",
    "\n",
    "Important principles:\n",
    "- To retain clients, you can somehow force them to visit the hall more than once a week. For example, to give certain bonuses or a discount for those who visit the hall more than the conditional 9-10 times a month. Let's say, when visiting the hall from 10 times a month, a discount is issued for the purchase of a new (three / half-year subscription) subscription. On average, for those who visit the gym about twice a week, lifetime was higher\n",
    "- If we want to increase net users with longer term subscriptions, we can advertise the Promo_friends program more actively. It was found that invited friends are more likely to participate in group classes and their contract is one of the longest on average.\n",
    "- It was also revealed that the lowest churn rate for clients included in the \"Partner\" column is an employee of the club's partner company. In this case, we could increase the number of companies in this area. By the way, they are most often part of the \"promo_friends\" campaign, which means that it is more pleasant to work with fellow friends in the gym than alone and increases the number of client visits. They, apparently, are more satisfied with the products of the hall - their purchasing power is above all.\n",
    "- Clients with a shorter contract leave more often than clients with a longer contact. In this case, you can reduce the price difference and make the six-month period more profitable for the purchase. In this case, the client will have more time to return to the hall if the subscription is initially longer."
   ]
  },
  {
   "cell_type": "markdown",
   "id": "a50fecb8",
   "metadata": {},
   "source": [
    "* [Project Description](#Description)\n",
    "* [Exploratory Data Analysis EDA](#EDA)\n",
    "    * [Bar histograms](#histograms)\n",
    "    * [Heatmap](#Heatmap)\n",
    "* [Build churn prediction model](#Build)\n",
    "* [User Clustering](#Clustering)\n",
    "* [Conclusions](#Conclusions)"
   ]
  },
  {
   "cell_type": "code",
   "execution_count": null,
   "id": "547f867a",
   "metadata": {},
   "outputs": [],
   "source": []
  }
 ],
 "metadata": {
  "kernelspec": {
   "display_name": "Python 3",
   "language": "python",
   "name": "python3"
  },
  "language_info": {
   "codemirror_mode": {
    "name": "ipython",
    "version": 3
   },
   "file_extension": ".py",
   "mimetype": "text/x-python",
   "name": "python",
   "nbconvert_exporter": "python",
   "pygments_lexer": "ipython3",
   "version": "3.8.8"
  }
 },
 "nbformat": 4,
 "nbformat_minor": 5
}
