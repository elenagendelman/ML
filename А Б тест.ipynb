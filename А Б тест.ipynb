{
 "cells": [
  {
   "cell_type": "markdown",
   "metadata": {},
   "source": [
    "<div style=\"border:solid Chocolate 2px; padding: 40px\">\n",
    "\n",
    "<b>Елена, привет!👋</b>\n",
    "\n",
    "Меня зовут Арина У., я буду ревьюером твоего проекта. Надеюсь, тебе будет удобно, если если мы будем общаться \"ты\". Но, если это не удобно, обязательно скажи об этом😏 \n",
    "\n",
    "Пожалуйста, не удаляй мои комментарии, они будут особенно полезны для нашей работы в случае повторной проверки проекта. \n",
    "\n",
    "Ты также можешь реагировать на мои комментарии своими, выделяя их цветами и наиболее понравившимся тебе способом оформления, но явно  отличающимся от моих комментариев. Это нужно, чтобы не создавалась путаница😉\n",
    "\n",
    "Ты можешь найти мои комментарии, обозначенные <font color='green'>зеленым</font>, <font color='gold'>желтым</font> и <font color='red'>красным</font> цветами, например:\n",
    "\n",
    "<br/>\n",
    "\n",
    "<div class=\"alert alert-success\">\n",
    "<h2> Комментарий ревьюера <a class=\"tocSkip\"> </h2>\n",
    "\n",
    "<b>Все отлично!👍:</b> В случае, если решение на отдельном шаге является полностью правильным.\n",
    "</div>\n",
    "\n",
    "<br/>\n",
    "\n",
    "<div class=\"alert alert-warning\">\n",
    "    <h2> Комментарий ревьюера <a class=\"tocSkip\"> </h2>\n",
    "    \n",
    "<b>Некоторые замечания и рекомендации💡:</b> В случае, когда решение на отдельном шаге станет еще лучше, если внести небольшие коррективы.\n",
    "</div>\n",
    "\n",
    "\n",
    "<br/>\n",
    "\n",
    "<div class=\"alert alert-block alert-danger\">\n",
    "<h2> Комментарий ревьюера <a class=\"tocSkip\"></h2>\n",
    "\n",
    "    \n",
    "<b>На доработку🤔:</b> В случае, когда решение на отдельном шаге требует существенной переработки и внесения правок. Напоминаю, что проект не может быть принят с первого раза, если ревью содержит комментарии, рекомендующие доработать шаги.\n",
    "</div>\n",
    "    \n",
    "Увидев у тебя ошибку, в первый раз я лишь укажу на ее наличие и дам тебе возможность самой найти и исправить ее. На реальной работе твой руководитель будет поступать также, и я пытаюсь подготовить тебя именно к работе аналитиком. Но если ты пока не справишься с такой задачей - при следующей проверке я дам более точную подсказку!🤓"
   ]
  },
  {
   "cell_type": "code",
   "execution_count": 1,
   "metadata": {},
   "outputs": [],
   "source": [
    "import pandas as pd\n",
    "import datetime as dt\n",
    "import numpy as np\n",
    "import scipy.stats as stats\n",
    "from scipy import stats as st\n",
    "import matplotlib.pyplot as plt "
   ]
  },
  {
   "cell_type": "markdown",
   "metadata": {},
   "source": [
    "* [Приоритизация гипотез.](#Приоритизация)\n",
    "   * [Приоритизации гипотез по фреймоворку ICE](#айс)\n",
    "   * [Приоритизации гипотез по фреймоворку RICE](#райс) \n",
    "* [Анализ A/B-теста](#анализ)\n",
    "  * [График кумулятивной выручки по группам](#кум_груп)\n",
    "  * [График кумулятивного среднего чека по группам](#кум_чек)\n",
    "  * [График относительного изменения кумулятивной конверсии группы B к группе A](#б_а)\n",
    "  * [График кумулятивной конверсии по группам](#кум_конв)\n",
    "  * [Точечный график количества заказов по пользователям](#кол_зак)\n",
    "  * [Точечный график стоимостей заказов](#стоим)\n",
    "  * [Статистическая значимость различий в конверсии между группами по «сырым» данным. ](#сырой_конв)\n",
    "  * [Статистическая значимость различий в среднем чеке заказа между группами по «сырым» данным ](#сырой_чек)\n",
    "  * [Статистическая значимость  различий в конверсии между группами по «очищенным» данным](#чис_конв)\n",
    "  * [Статистическая значимость  различий в среднем чеке заказа между группами по «очищенным» данным ](#чис_чек)\n",
    "* [Вывод](#вывод) "
   ]
  },
  {
   "cell_type": "code",
   "execution_count": 2,
   "metadata": {},
   "outputs": [
    {
     "data": {
      "text/html": [
       "<div>\n",
       "<style scoped>\n",
       "    .dataframe tbody tr th:only-of-type {\n",
       "        vertical-align: middle;\n",
       "    }\n",
       "\n",
       "    .dataframe tbody tr th {\n",
       "        vertical-align: top;\n",
       "    }\n",
       "\n",
       "    .dataframe thead th {\n",
       "        text-align: right;\n",
       "    }\n",
       "</style>\n",
       "<table border=\"1\" class=\"dataframe\">\n",
       "  <thead>\n",
       "    <tr style=\"text-align: right;\">\n",
       "      <th></th>\n",
       "      <th>hypothesis</th>\n",
       "      <th>reach</th>\n",
       "      <th>impact</th>\n",
       "      <th>confidence</th>\n",
       "      <th>efforts</th>\n",
       "    </tr>\n",
       "  </thead>\n",
       "  <tbody>\n",
       "    <tr>\n",
       "      <td>0</td>\n",
       "      <td>Добавить два новых канала привлечения трафика,...</td>\n",
       "      <td>3</td>\n",
       "      <td>10</td>\n",
       "      <td>8</td>\n",
       "      <td>6</td>\n",
       "    </tr>\n",
       "    <tr>\n",
       "      <td>1</td>\n",
       "      <td>Запустить собственную службу доставки, что сок...</td>\n",
       "      <td>2</td>\n",
       "      <td>5</td>\n",
       "      <td>4</td>\n",
       "      <td>10</td>\n",
       "    </tr>\n",
       "    <tr>\n",
       "      <td>2</td>\n",
       "      <td>Добавить блоки рекомендаций товаров на сайт ин...</td>\n",
       "      <td>8</td>\n",
       "      <td>3</td>\n",
       "      <td>7</td>\n",
       "      <td>3</td>\n",
       "    </tr>\n",
       "    <tr>\n",
       "      <td>3</td>\n",
       "      <td>Изменить структура категорий, что увеличит кон...</td>\n",
       "      <td>8</td>\n",
       "      <td>3</td>\n",
       "      <td>3</td>\n",
       "      <td>8</td>\n",
       "    </tr>\n",
       "    <tr>\n",
       "      <td>4</td>\n",
       "      <td>Изменить цвет фона главной страницы, чтобы уве...</td>\n",
       "      <td>3</td>\n",
       "      <td>1</td>\n",
       "      <td>1</td>\n",
       "      <td>1</td>\n",
       "    </tr>\n",
       "    <tr>\n",
       "      <td>5</td>\n",
       "      <td>Добавить страницу отзывов клиентов о магазине,...</td>\n",
       "      <td>3</td>\n",
       "      <td>2</td>\n",
       "      <td>2</td>\n",
       "      <td>3</td>\n",
       "    </tr>\n",
       "    <tr>\n",
       "      <td>6</td>\n",
       "      <td>Показать на главной странице баннеры с актуаль...</td>\n",
       "      <td>5</td>\n",
       "      <td>3</td>\n",
       "      <td>8</td>\n",
       "      <td>3</td>\n",
       "    </tr>\n",
       "    <tr>\n",
       "      <td>7</td>\n",
       "      <td>Добавить форму подписки на все основные страни...</td>\n",
       "      <td>10</td>\n",
       "      <td>7</td>\n",
       "      <td>8</td>\n",
       "      <td>5</td>\n",
       "    </tr>\n",
       "    <tr>\n",
       "      <td>8</td>\n",
       "      <td>Запустить акцию, дающую скидку на товар в день...</td>\n",
       "      <td>1</td>\n",
       "      <td>9</td>\n",
       "      <td>9</td>\n",
       "      <td>5</td>\n",
       "    </tr>\n",
       "  </tbody>\n",
       "</table>\n",
       "</div>"
      ],
      "text/plain": [
       "                                          hypothesis  reach  impact  \\\n",
       "0  Добавить два новых канала привлечения трафика,...      3      10   \n",
       "1  Запустить собственную службу доставки, что сок...      2       5   \n",
       "2  Добавить блоки рекомендаций товаров на сайт ин...      8       3   \n",
       "3  Изменить структура категорий, что увеличит кон...      8       3   \n",
       "4  Изменить цвет фона главной страницы, чтобы уве...      3       1   \n",
       "5  Добавить страницу отзывов клиентов о магазине,...      3       2   \n",
       "6  Показать на главной странице баннеры с актуаль...      5       3   \n",
       "7  Добавить форму подписки на все основные страни...     10       7   \n",
       "8  Запустить акцию, дающую скидку на товар в день...      1       9   \n",
       "\n",
       "   confidence  efforts  \n",
       "0           8        6  \n",
       "1           4       10  \n",
       "2           7        3  \n",
       "3           3        8  \n",
       "4           1        1  \n",
       "5           2        3  \n",
       "6           8        3  \n",
       "7           8        5  \n",
       "8           9        5  "
      ]
     },
     "execution_count": 2,
     "metadata": {},
     "output_type": "execute_result"
    }
   ],
   "source": [
    "hypothesis = pd.read_csv(\"https://code.s3.yandex.net/datasets/hypothesis.csv\")\n",
    "hypothesis.columns =hypothesis.columns.str.lower()\n",
    "hypothesis"
   ]
  },
  {
   "cell_type": "code",
   "execution_count": 3,
   "metadata": {},
   "outputs": [
    {
     "data": {
      "text/html": [
       "<div>\n",
       "<style scoped>\n",
       "    .dataframe tbody tr th:only-of-type {\n",
       "        vertical-align: middle;\n",
       "    }\n",
       "\n",
       "    .dataframe tbody tr th {\n",
       "        vertical-align: top;\n",
       "    }\n",
       "\n",
       "    .dataframe thead th {\n",
       "        text-align: right;\n",
       "    }\n",
       "</style>\n",
       "<table border=\"1\" class=\"dataframe\">\n",
       "  <thead>\n",
       "    <tr style=\"text-align: right;\">\n",
       "      <th></th>\n",
       "      <th>transactionId</th>\n",
       "      <th>visitorId</th>\n",
       "      <th>date</th>\n",
       "      <th>revenue</th>\n",
       "      <th>group</th>\n",
       "    </tr>\n",
       "  </thead>\n",
       "  <tbody>\n",
       "    <tr>\n",
       "      <td>0</td>\n",
       "      <td>3667963787</td>\n",
       "      <td>3312258926</td>\n",
       "      <td>2019-08-15</td>\n",
       "      <td>1650</td>\n",
       "      <td>B</td>\n",
       "    </tr>\n",
       "    <tr>\n",
       "      <td>1</td>\n",
       "      <td>2804400009</td>\n",
       "      <td>3642806036</td>\n",
       "      <td>2019-08-15</td>\n",
       "      <td>730</td>\n",
       "      <td>B</td>\n",
       "    </tr>\n",
       "    <tr>\n",
       "      <td>2</td>\n",
       "      <td>2961555356</td>\n",
       "      <td>4069496402</td>\n",
       "      <td>2019-08-15</td>\n",
       "      <td>400</td>\n",
       "      <td>A</td>\n",
       "    </tr>\n",
       "    <tr>\n",
       "      <td>3</td>\n",
       "      <td>3797467345</td>\n",
       "      <td>1196621759</td>\n",
       "      <td>2019-08-15</td>\n",
       "      <td>9759</td>\n",
       "      <td>B</td>\n",
       "    </tr>\n",
       "    <tr>\n",
       "      <td>4</td>\n",
       "      <td>2282983706</td>\n",
       "      <td>2322279887</td>\n",
       "      <td>2019-08-15</td>\n",
       "      <td>2308</td>\n",
       "      <td>B</td>\n",
       "    </tr>\n",
       "  </tbody>\n",
       "</table>\n",
       "</div>"
      ],
      "text/plain": [
       "   transactionId   visitorId        date  revenue group\n",
       "0     3667963787  3312258926  2019-08-15     1650     B\n",
       "1     2804400009  3642806036  2019-08-15      730     B\n",
       "2     2961555356  4069496402  2019-08-15      400     A\n",
       "3     3797467345  1196621759  2019-08-15     9759     B\n",
       "4     2282983706  2322279887  2019-08-15     2308     B"
      ]
     },
     "metadata": {},
     "output_type": "display_data"
    }
   ],
   "source": [
    "orders = pd.read_csv(\"https://code.s3.yandex.net/datasets/orders.csv\")\n",
    "display(orders.head())"
   ]
  },
  {
   "cell_type": "code",
   "execution_count": 4,
   "metadata": {},
   "outputs": [
    {
     "data": {
      "text/html": [
       "<div>\n",
       "<style scoped>\n",
       "    .dataframe tbody tr th:only-of-type {\n",
       "        vertical-align: middle;\n",
       "    }\n",
       "\n",
       "    .dataframe tbody tr th {\n",
       "        vertical-align: top;\n",
       "    }\n",
       "\n",
       "    .dataframe thead th {\n",
       "        text-align: right;\n",
       "    }\n",
       "</style>\n",
       "<table border=\"1\" class=\"dataframe\">\n",
       "  <thead>\n",
       "    <tr style=\"text-align: right;\">\n",
       "      <th></th>\n",
       "      <th>date</th>\n",
       "      <th>group</th>\n",
       "      <th>visitors</th>\n",
       "    </tr>\n",
       "  </thead>\n",
       "  <tbody>\n",
       "    <tr>\n",
       "      <td>0</td>\n",
       "      <td>2019-08-01</td>\n",
       "      <td>A</td>\n",
       "      <td>719</td>\n",
       "    </tr>\n",
       "    <tr>\n",
       "      <td>1</td>\n",
       "      <td>2019-08-02</td>\n",
       "      <td>A</td>\n",
       "      <td>619</td>\n",
       "    </tr>\n",
       "    <tr>\n",
       "      <td>2</td>\n",
       "      <td>2019-08-03</td>\n",
       "      <td>A</td>\n",
       "      <td>507</td>\n",
       "    </tr>\n",
       "    <tr>\n",
       "      <td>3</td>\n",
       "      <td>2019-08-04</td>\n",
       "      <td>A</td>\n",
       "      <td>717</td>\n",
       "    </tr>\n",
       "    <tr>\n",
       "      <td>4</td>\n",
       "      <td>2019-08-05</td>\n",
       "      <td>A</td>\n",
       "      <td>756</td>\n",
       "    </tr>\n",
       "  </tbody>\n",
       "</table>\n",
       "</div>"
      ],
      "text/plain": [
       "         date group  visitors\n",
       "0  2019-08-01     A       719\n",
       "1  2019-08-02     A       619\n",
       "2  2019-08-03     A       507\n",
       "3  2019-08-04     A       717\n",
       "4  2019-08-05     A       756"
      ]
     },
     "execution_count": 4,
     "metadata": {},
     "output_type": "execute_result"
    }
   ],
   "source": [
    "visitors = pd.read_csv(\"https://code.s3.yandex.net/datasets/visitors.csv\")\n",
    "visitors.head()"
   ]
  },
  {
   "cell_type": "code",
   "execution_count": 5,
   "metadata": {},
   "outputs": [],
   "source": [
    "orders['date'] = orders['date'].map(\n",
    "    lambda x: dt.datetime.strptime(x, '%Y-%m-%d')\n",
    ")\n",
    "visitors['date'] = visitors['date'].map(\n",
    "    lambda x: dt.datetime.strptime(x, '%Y-%m-%d')\n",
    ")"
   ]
  },
  {
   "cell_type": "code",
   "execution_count": 6,
   "metadata": {},
   "outputs": [
    {
     "name": "stdout",
     "output_type": "stream",
     "text": [
      "hypothesis [9, 5]\n",
      "hypothesis: False\n",
      "orders [1197, 5]\n",
      "orders: False\n",
      "visitors [62, 3]\n",
      "visitors: False\n"
     ]
    }
   ],
   "source": [
    "dataset = {\n",
    "    'hypothesis': hypothesis,\n",
    "    'orders': orders,\n",
    "    'visitors': visitors\n",
    "}\n",
    "\n",
    "for x, y in dataset.items():\n",
    "    print(f'{x}', (list(y.shape)))\n",
    "    print(f'{x}: {y.isnull().any().any()}')\n",
    "    "
   ]
  },
  {
   "cell_type": "code",
   "execution_count": 7,
   "metadata": {
    "scrolled": true
   },
   "outputs": [
    {
     "name": "stdout",
     "output_type": "stream",
     "text": [
      "<class 'pandas.core.frame.DataFrame'>\n",
      "RangeIndex: 62 entries, 0 to 61\n",
      "Data columns (total 3 columns):\n",
      "date        62 non-null datetime64[ns]\n",
      "group       62 non-null object\n",
      "visitors    62 non-null int64\n",
      "dtypes: datetime64[ns](1), int64(1), object(1)\n",
      "memory usage: 1.6+ KB\n"
     ]
    },
    {
     "data": {
      "text/plain": [
       "'visitors:'"
      ]
     },
     "metadata": {},
     "output_type": "display_data"
    },
    {
     "data": {
      "text/plain": [
       "False"
      ]
     },
     "metadata": {},
     "output_type": "display_data"
    },
    {
     "data": {
      "text/plain": [
       "False"
      ]
     },
     "metadata": {},
     "output_type": "display_data"
    },
    {
     "data": {
      "text/plain": [
       "None"
      ]
     },
     "metadata": {},
     "output_type": "display_data"
    },
    {
     "name": "stdout",
     "output_type": "stream",
     "text": [
      "\n",
      "<class 'pandas.core.frame.DataFrame'>\n",
      "RangeIndex: 9 entries, 0 to 8\n",
      "Data columns (total 5 columns):\n",
      "hypothesis    9 non-null object\n",
      "reach         9 non-null int64\n",
      "impact        9 non-null int64\n",
      "confidence    9 non-null int64\n",
      "efforts       9 non-null int64\n",
      "dtypes: int64(4), object(1)\n",
      "memory usage: 488.0+ bytes\n"
     ]
    },
    {
     "data": {
      "text/plain": [
       "'hypothesis:'"
      ]
     },
     "metadata": {},
     "output_type": "display_data"
    },
    {
     "data": {
      "text/plain": [
       "False"
      ]
     },
     "metadata": {},
     "output_type": "display_data"
    },
    {
     "data": {
      "text/plain": [
       "False"
      ]
     },
     "metadata": {},
     "output_type": "display_data"
    },
    {
     "data": {
      "text/plain": [
       "None"
      ]
     },
     "metadata": {},
     "output_type": "display_data"
    },
    {
     "name": "stdout",
     "output_type": "stream",
     "text": [
      "\n",
      "<class 'pandas.core.frame.DataFrame'>\n",
      "RangeIndex: 1197 entries, 0 to 1196\n",
      "Data columns (total 5 columns):\n",
      "transactionId    1197 non-null int64\n",
      "visitorId        1197 non-null int64\n",
      "date             1197 non-null datetime64[ns]\n",
      "revenue          1197 non-null int64\n",
      "group            1197 non-null object\n",
      "dtypes: datetime64[ns](1), int64(3), object(1)\n",
      "memory usage: 46.9+ KB\n"
     ]
    },
    {
     "data": {
      "text/plain": [
       "'orders:'"
      ]
     },
     "metadata": {},
     "output_type": "display_data"
    },
    {
     "data": {
      "text/plain": [
       "False"
      ]
     },
     "metadata": {},
     "output_type": "display_data"
    },
    {
     "data": {
      "text/plain": [
       "False"
      ]
     },
     "metadata": {},
     "output_type": "display_data"
    },
    {
     "data": {
      "text/plain": [
       "None"
      ]
     },
     "metadata": {},
     "output_type": "display_data"
    }
   ],
   "source": [
    "display(\"visitors:\", visitors.duplicated().any(), visitors.isnull().any().any(), visitors.info())\n",
    "print()\n",
    "display(\"hypothesis:\",hypothesis.duplicated().any(), hypothesis.isnull().any().any(), hypothesis.info())\n",
    "print()\n",
    "display(\"orders:\", orders.duplicated().any(), orders.isnull().any().any(), orders.info())"
   ]
  },
  {
   "cell_type": "code",
   "execution_count": 8,
   "metadata": {
    "scrolled": false
   },
   "outputs": [
    {
     "data": {
      "text/plain": [
       "date_x           0\n",
       "group            0\n",
       "visitors         0\n",
       "transactionId    0\n",
       "visitorId        0\n",
       "date_y           0\n",
       "revenue          0\n",
       "dtype: int64"
      ]
     },
     "execution_count": 8,
     "metadata": {},
     "output_type": "execute_result"
    }
   ],
   "source": [
    "visitors_orders = pd.merge(visitors, orders, on = 'group')\n",
    "visitors_orders.isna().sum()"
   ]
  },
  {
   "cell_type": "markdown",
   "metadata": {},
   "source": [
    "<div class=\"alert alert-success\">\n",
    "<h2> Комментарий ревьюера <a class=\"tocSkip\"> </h2>\n",
    "\n",
    "<b>Все отлично!👍:</b>\n",
    "    \n",
    "Елена, хорошая работа! Ты произвела основные действия по предобработке данных, все получилось! "
   ]
  },
  {
   "cell_type": "markdown",
   "metadata": {},
   "source": [
    "\n",
    "<div class=\"alert alert-warning\">\n",
    "    <h2> Комментарий ревьюера <a class=\"tocSkip\"> </h2>\n",
    "    \n",
    "<b>Некоторые замечания и рекомендации💡:</b>\n",
    "    \n",
    "Также можно проверить корректность разбиения пользователей на группы - может быть есть пользователи, попавшие в обе группы? Если таковые пользователи есть, нужно их выявить и выработать стратегию работы с такими данными. Пересечение групп сильно влияет на результаты теста, если процент достаточно большой. Если есть возможность их можно удалить и посмотреть, какие результаты получаются без них, в любом случае к результатам теста придется относится осторожно."
   ]
  },
  {
   "cell_type": "markdown",
   "metadata": {},
   "source": [
    "# Приоритизация гипотез.<a id=\"Приоритизация\"></a> "
   ]
  },
  {
   "cell_type": "markdown",
   "metadata": {},
   "source": [
    "# Приоритизации гипотез по фреймоворку ICE <a id=\"айс\"></a> "
   ]
  },
  {
   "cell_type": "markdown",
   "metadata": {},
   "source": [
    "# Приоритизации гипотез по фреймоворку RICE <a id=\"райс\"></a>"
   ]
  },
  {
   "cell_type": "code",
   "execution_count": 9,
   "metadata": {},
   "outputs": [
    {
     "data": {
      "text/html": [
       "<div>\n",
       "<style scoped>\n",
       "    .dataframe tbody tr th:only-of-type {\n",
       "        vertical-align: middle;\n",
       "    }\n",
       "\n",
       "    .dataframe tbody tr th {\n",
       "        vertical-align: top;\n",
       "    }\n",
       "\n",
       "    .dataframe thead th {\n",
       "        text-align: right;\n",
       "    }\n",
       "</style>\n",
       "<table border=\"1\" class=\"dataframe\">\n",
       "  <thead>\n",
       "    <tr style=\"text-align: right;\">\n",
       "      <th></th>\n",
       "      <th>hypothesis</th>\n",
       "      <th>reach</th>\n",
       "      <th>impact</th>\n",
       "      <th>confidence</th>\n",
       "      <th>efforts</th>\n",
       "      <th>ICE</th>\n",
       "      <th>RICE</th>\n",
       "    </tr>\n",
       "  </thead>\n",
       "  <tbody>\n",
       "    <tr>\n",
       "      <td>0</td>\n",
       "      <td>Добавить два новых канала привлечения трафика,...</td>\n",
       "      <td>3</td>\n",
       "      <td>10</td>\n",
       "      <td>8</td>\n",
       "      <td>6</td>\n",
       "      <td>13.33</td>\n",
       "      <td>40.0</td>\n",
       "    </tr>\n",
       "    <tr>\n",
       "      <td>1</td>\n",
       "      <td>Запустить собственную службу доставки, что сок...</td>\n",
       "      <td>2</td>\n",
       "      <td>5</td>\n",
       "      <td>4</td>\n",
       "      <td>10</td>\n",
       "      <td>2.00</td>\n",
       "      <td>4.0</td>\n",
       "    </tr>\n",
       "    <tr>\n",
       "      <td>2</td>\n",
       "      <td>Добавить блоки рекомендаций товаров на сайт ин...</td>\n",
       "      <td>8</td>\n",
       "      <td>3</td>\n",
       "      <td>7</td>\n",
       "      <td>3</td>\n",
       "      <td>7.00</td>\n",
       "      <td>56.0</td>\n",
       "    </tr>\n",
       "    <tr>\n",
       "      <td>3</td>\n",
       "      <td>Изменить структура категорий, что увеличит кон...</td>\n",
       "      <td>8</td>\n",
       "      <td>3</td>\n",
       "      <td>3</td>\n",
       "      <td>8</td>\n",
       "      <td>1.12</td>\n",
       "      <td>9.0</td>\n",
       "    </tr>\n",
       "    <tr>\n",
       "      <td>4</td>\n",
       "      <td>Изменить цвет фона главной страницы, чтобы уве...</td>\n",
       "      <td>3</td>\n",
       "      <td>1</td>\n",
       "      <td>1</td>\n",
       "      <td>1</td>\n",
       "      <td>1.00</td>\n",
       "      <td>3.0</td>\n",
       "    </tr>\n",
       "    <tr>\n",
       "      <td>5</td>\n",
       "      <td>Добавить страницу отзывов клиентов о магазине,...</td>\n",
       "      <td>3</td>\n",
       "      <td>2</td>\n",
       "      <td>2</td>\n",
       "      <td>3</td>\n",
       "      <td>1.33</td>\n",
       "      <td>4.0</td>\n",
       "    </tr>\n",
       "    <tr>\n",
       "      <td>6</td>\n",
       "      <td>Показать на главной странице баннеры с актуаль...</td>\n",
       "      <td>5</td>\n",
       "      <td>3</td>\n",
       "      <td>8</td>\n",
       "      <td>3</td>\n",
       "      <td>8.00</td>\n",
       "      <td>40.0</td>\n",
       "    </tr>\n",
       "    <tr>\n",
       "      <td>7</td>\n",
       "      <td>Добавить форму подписки на все основные страни...</td>\n",
       "      <td>10</td>\n",
       "      <td>7</td>\n",
       "      <td>8</td>\n",
       "      <td>5</td>\n",
       "      <td>11.20</td>\n",
       "      <td>112.0</td>\n",
       "    </tr>\n",
       "    <tr>\n",
       "      <td>8</td>\n",
       "      <td>Запустить акцию, дающую скидку на товар в день...</td>\n",
       "      <td>1</td>\n",
       "      <td>9</td>\n",
       "      <td>9</td>\n",
       "      <td>5</td>\n",
       "      <td>16.20</td>\n",
       "      <td>16.2</td>\n",
       "    </tr>\n",
       "  </tbody>\n",
       "</table>\n",
       "</div>"
      ],
      "text/plain": [
       "                                          hypothesis  reach  impact  \\\n",
       "0  Добавить два новых канала привлечения трафика,...      3      10   \n",
       "1  Запустить собственную службу доставки, что сок...      2       5   \n",
       "2  Добавить блоки рекомендаций товаров на сайт ин...      8       3   \n",
       "3  Изменить структура категорий, что увеличит кон...      8       3   \n",
       "4  Изменить цвет фона главной страницы, чтобы уве...      3       1   \n",
       "5  Добавить страницу отзывов клиентов о магазине,...      3       2   \n",
       "6  Показать на главной странице баннеры с актуаль...      5       3   \n",
       "7  Добавить форму подписки на все основные страни...     10       7   \n",
       "8  Запустить акцию, дающую скидку на товар в день...      1       9   \n",
       "\n",
       "   confidence  efforts    ICE   RICE  \n",
       "0           8        6  13.33   40.0  \n",
       "1           4       10   2.00    4.0  \n",
       "2           7        3   7.00   56.0  \n",
       "3           3        8   1.12    9.0  \n",
       "4           1        1   1.00    3.0  \n",
       "5           2        3   1.33    4.0  \n",
       "6           8        3   8.00   40.0  \n",
       "7           8        5  11.20  112.0  \n",
       "8           9        5  16.20   16.2  "
      ]
     },
     "execution_count": 9,
     "metadata": {},
     "output_type": "execute_result"
    }
   ],
   "source": [
    "hypothesis['ICE'] = ((hypothesis['impact'] * hypothesis['confidence']) / hypothesis['efforts']).round(2)\n",
    "hypothesis['RICE'] = (hypothesis['impact'] * hypothesis['confidence'] * hypothesis['reach']) / hypothesis['efforts']\n",
    "hypothesis"
   ]
  },
  {
   "cell_type": "markdown",
   "metadata": {},
   "source": [
    "- Reach — скольких пользователей затронет изменение, которое вы хотите внести;\n",
    "- Impact — насколько сильно изменение повлияет на пользователей, их опыт и удовлетворение от продукта;\n",
    "- Confidence — насколько вы уверены, что это изменение повлияет на пользователей именно так;\n",
    "- Efforts — сколько стоит протестировать эту гипотезу.\n",
    "\n",
    "Видим, что самый высокие Impact у гипотез под номером 0 и 8 и самый высокий Confidence у номеров 0 и 8 (также у номеров 6 и 7). Их efforts в то же время держатся на среднем уровне. Заранее можно сделать предолжение, что ICE для 0 и 8 гиротез будут одними из самыз высоких. В то же время impact, confidence и reach на высоком уровне для 7-ой гипотезы и его efforts не превышают нормы. Его RICE вероятно будет одним из самых выоских."
   ]
  },
  {
   "cell_type": "code",
   "execution_count": 10,
   "metadata": {},
   "outputs": [
    {
     "data": {
      "text/html": [
       "<div>\n",
       "<style scoped>\n",
       "    .dataframe tbody tr th:only-of-type {\n",
       "        vertical-align: middle;\n",
       "    }\n",
       "\n",
       "    .dataframe tbody tr th {\n",
       "        vertical-align: top;\n",
       "    }\n",
       "\n",
       "    .dataframe thead th {\n",
       "        text-align: right;\n",
       "    }\n",
       "</style>\n",
       "<table border=\"1\" class=\"dataframe\">\n",
       "  <thead>\n",
       "    <tr style=\"text-align: right;\">\n",
       "      <th></th>\n",
       "      <th>hypothesis</th>\n",
       "      <th>ICE</th>\n",
       "      <th>RICE</th>\n",
       "    </tr>\n",
       "  </thead>\n",
       "  <tbody>\n",
       "    <tr>\n",
       "      <td>8</td>\n",
       "      <td>Запустить акцию, дающую скидку на товар в день...</td>\n",
       "      <td>16.20</td>\n",
       "      <td>16.2</td>\n",
       "    </tr>\n",
       "    <tr>\n",
       "      <td>0</td>\n",
       "      <td>Добавить два новых канала привлечения трафика,...</td>\n",
       "      <td>13.33</td>\n",
       "      <td>40.0</td>\n",
       "    </tr>\n",
       "    <tr>\n",
       "      <td>7</td>\n",
       "      <td>Добавить форму подписки на все основные страни...</td>\n",
       "      <td>11.20</td>\n",
       "      <td>112.0</td>\n",
       "    </tr>\n",
       "    <tr>\n",
       "      <td>6</td>\n",
       "      <td>Показать на главной странице баннеры с актуаль...</td>\n",
       "      <td>8.00</td>\n",
       "      <td>40.0</td>\n",
       "    </tr>\n",
       "    <tr>\n",
       "      <td>2</td>\n",
       "      <td>Добавить блоки рекомендаций товаров на сайт ин...</td>\n",
       "      <td>7.00</td>\n",
       "      <td>56.0</td>\n",
       "    </tr>\n",
       "    <tr>\n",
       "      <td>1</td>\n",
       "      <td>Запустить собственную службу доставки, что сок...</td>\n",
       "      <td>2.00</td>\n",
       "      <td>4.0</td>\n",
       "    </tr>\n",
       "    <tr>\n",
       "      <td>5</td>\n",
       "      <td>Добавить страницу отзывов клиентов о магазине,...</td>\n",
       "      <td>1.33</td>\n",
       "      <td>4.0</td>\n",
       "    </tr>\n",
       "    <tr>\n",
       "      <td>3</td>\n",
       "      <td>Изменить структура категорий, что увеличит кон...</td>\n",
       "      <td>1.12</td>\n",
       "      <td>9.0</td>\n",
       "    </tr>\n",
       "    <tr>\n",
       "      <td>4</td>\n",
       "      <td>Изменить цвет фона главной страницы, чтобы уве...</td>\n",
       "      <td>1.00</td>\n",
       "      <td>3.0</td>\n",
       "    </tr>\n",
       "  </tbody>\n",
       "</table>\n",
       "</div>"
      ],
      "text/plain": [
       "                                          hypothesis    ICE   RICE\n",
       "8  Запустить акцию, дающую скидку на товар в день...  16.20   16.2\n",
       "0  Добавить два новых канала привлечения трафика,...  13.33   40.0\n",
       "7  Добавить форму подписки на все основные страни...  11.20  112.0\n",
       "6  Показать на главной странице баннеры с актуаль...   8.00   40.0\n",
       "2  Добавить блоки рекомендаций товаров на сайт ин...   7.00   56.0\n",
       "1  Запустить собственную службу доставки, что сок...   2.00    4.0\n",
       "5  Добавить страницу отзывов клиентов о магазине,...   1.33    4.0\n",
       "3  Изменить структура категорий, что увеличит кон...   1.12    9.0\n",
       "4  Изменить цвет фона главной страницы, чтобы уве...   1.00    3.0"
      ]
     },
     "metadata": {},
     "output_type": "display_data"
    }
   ],
   "source": [
    "hypothesis_sorted = pd.DataFrame()\n",
    "hypothesis_sorted['hypothesis'] = hypothesis['hypothesis']\n",
    "hypothesis_sorted['ICE'] = hypothesis['ICE']\n",
    "hypothesis_sorted['RICE'] = hypothesis['RICE']\n",
    "display(hypothesis_sorted.sort_values(by='ICE', ascending = False))"
   ]
  },
  {
   "cell_type": "markdown",
   "metadata": {},
   "source": [
    "Наиболее перспективные гипотезы по ICE - 8, 0 и 7, как и предполашалось выше. "
   ]
  },
  {
   "cell_type": "code",
   "execution_count": 11,
   "metadata": {},
   "outputs": [
    {
     "data": {
      "text/html": [
       "<div>\n",
       "<style scoped>\n",
       "    .dataframe tbody tr th:only-of-type {\n",
       "        vertical-align: middle;\n",
       "    }\n",
       "\n",
       "    .dataframe tbody tr th {\n",
       "        vertical-align: top;\n",
       "    }\n",
       "\n",
       "    .dataframe thead th {\n",
       "        text-align: right;\n",
       "    }\n",
       "</style>\n",
       "<table border=\"1\" class=\"dataframe\">\n",
       "  <thead>\n",
       "    <tr style=\"text-align: right;\">\n",
       "      <th></th>\n",
       "      <th>hypothesis</th>\n",
       "      <th>ICE</th>\n",
       "      <th>RICE</th>\n",
       "    </tr>\n",
       "  </thead>\n",
       "  <tbody>\n",
       "    <tr>\n",
       "      <td>7</td>\n",
       "      <td>Добавить форму подписки на все основные страни...</td>\n",
       "      <td>11.20</td>\n",
       "      <td>112.0</td>\n",
       "    </tr>\n",
       "    <tr>\n",
       "      <td>2</td>\n",
       "      <td>Добавить блоки рекомендаций товаров на сайт ин...</td>\n",
       "      <td>7.00</td>\n",
       "      <td>56.0</td>\n",
       "    </tr>\n",
       "    <tr>\n",
       "      <td>0</td>\n",
       "      <td>Добавить два новых канала привлечения трафика,...</td>\n",
       "      <td>13.33</td>\n",
       "      <td>40.0</td>\n",
       "    </tr>\n",
       "    <tr>\n",
       "      <td>6</td>\n",
       "      <td>Показать на главной странице баннеры с актуаль...</td>\n",
       "      <td>8.00</td>\n",
       "      <td>40.0</td>\n",
       "    </tr>\n",
       "    <tr>\n",
       "      <td>8</td>\n",
       "      <td>Запустить акцию, дающую скидку на товар в день...</td>\n",
       "      <td>16.20</td>\n",
       "      <td>16.2</td>\n",
       "    </tr>\n",
       "    <tr>\n",
       "      <td>3</td>\n",
       "      <td>Изменить структура категорий, что увеличит кон...</td>\n",
       "      <td>1.12</td>\n",
       "      <td>9.0</td>\n",
       "    </tr>\n",
       "    <tr>\n",
       "      <td>1</td>\n",
       "      <td>Запустить собственную службу доставки, что сок...</td>\n",
       "      <td>2.00</td>\n",
       "      <td>4.0</td>\n",
       "    </tr>\n",
       "    <tr>\n",
       "      <td>5</td>\n",
       "      <td>Добавить страницу отзывов клиентов о магазине,...</td>\n",
       "      <td>1.33</td>\n",
       "      <td>4.0</td>\n",
       "    </tr>\n",
       "    <tr>\n",
       "      <td>4</td>\n",
       "      <td>Изменить цвет фона главной страницы, чтобы уве...</td>\n",
       "      <td>1.00</td>\n",
       "      <td>3.0</td>\n",
       "    </tr>\n",
       "  </tbody>\n",
       "</table>\n",
       "</div>"
      ],
      "text/plain": [
       "                                          hypothesis    ICE   RICE\n",
       "7  Добавить форму подписки на все основные страни...  11.20  112.0\n",
       "2  Добавить блоки рекомендаций товаров на сайт ин...   7.00   56.0\n",
       "0  Добавить два новых канала привлечения трафика,...  13.33   40.0\n",
       "6  Показать на главной странице баннеры с актуаль...   8.00   40.0\n",
       "8  Запустить акцию, дающую скидку на товар в день...  16.20   16.2\n",
       "3  Изменить структура категорий, что увеличит кон...   1.12    9.0\n",
       "1  Запустить собственную службу доставки, что сок...   2.00    4.0\n",
       "5  Добавить страницу отзывов клиентов о магазине,...   1.33    4.0\n",
       "4  Изменить цвет фона главной страницы, чтобы уве...   1.00    3.0"
      ]
     },
     "metadata": {},
     "output_type": "display_data"
    }
   ],
   "source": [
    "display(hypothesis_sorted.sort_values(by='RICE', ascending = False))"
   ]
  },
  {
   "cell_type": "markdown",
   "metadata": {},
   "source": [
    "Наиболее перспективные гипотезы по методу RICE - 7, 2 и 0.\n",
    "Видим, что самые неприоритетные гипотезы, что по методу ICE, так и по методу RICE имеют худшие показатели по обоим методам, в то время как самая приоритетная из гипотез по методу ICE (гипотеза номер 8) спустились на пятое место и ее RICE равен меньше 20% от RICE 7-ой гипотезы. Пятая же по приоритетности гипотеза по методу ICE (гипотеза номер 2), поднялась на второе место по приоритетности по методу RICE. \n",
    "Мы наблюдаем такие изменения, потому что метода RICE так же учитывает фактор reach -  скольких пользователей затронет изменение, которое мы хотим внести. Соотвественно, хоть гипотеза 8 - самая приоритетная по методу ICE, она затронет намного меньше пользователей, чем вторая по приоритету гипотза 0 или третья по приоритету гипотеза номер 7."
   ]
  },
  {
   "cell_type": "markdown",
   "metadata": {},
   "source": [
    "<div class=\"alert alert-success\">\n",
    "<h2> Комментарий ревьюера <a class=\"tocSkip\"> </h2>\n",
    "\n",
    "<b>Все отлично!👍:</b>\n",
    "    \n",
    "В целом ты корректно применила фреймворки и проинтерпретировала результаты, так держать!"
   ]
  },
  {
   "cell_type": "markdown",
   "metadata": {},
   "source": [
    "<div class=\"alert alert-warning\">\n",
    "    <h2> Комментарий ревьюера <a class=\"tocSkip\"> </h2>\n",
    "    \n",
    "<b>Некоторые замечания и рекомендации💡:</b> \n",
    "        \n",
    "И еще несколько рекомендаций:\n",
    "        \n",
    "* гипотезы имеют длинные названия, чтобы они полностью отображались  можно использовать <a href=\"https://pandas.pydata.org/pandas-docs/stable/user_guide/options.html\">опции pandas</a> Кроме того, лучше не использовать `print()` c датафреймами в Jupyter Notebook, ты можешь вызы\n",
    "        \n",
    "* результаты можно было бы объединить в единой таблице для наглядности. Также их можно было бы проранжировать и выделить цветом — https://pandas.pydata.org/pandas-docs/stable/user_guide/style.html\n",
    "\n",
    "* в качестве визуализации изменения приоритетов можно использовать <a href=\"https://datayoga.ru/tpost/zh3s62fori-sloupgraf\">slope graph</a>, <a href=\"https://chart-studio.plotly.com/~pcchang/224/slopegraph-spending-and-academic-performance-by-states-doc/#/\">реализация на plotly</a>\n",
    "        \n",
    "И еще несколько ссылок для ознакомления с тем, как строить такоеи графики:\n",
    "        \n",
    "<a href=\"https://towardsdatascience.com/slope-charts-with-pythons-matplotlib-2c3456c137b8\">раз</a>        \n",
    "      \n",
    "<a href=\"https://cduvallet.github.io/posts/2018/03/slopegraphs-in-python\">два</a>     \n",
    "\n",
    "      \n",
    "<a href=\"https://stackoverflow.com/questions/7941226/how-to-add-line-based-on-slope-and-intercept-in-matplotlib\">три</a>     \n",
    "\n",
    "* отчёте есть формулы для расчёта приоритезации, почему бы их не оформить, для этого есть микропакет для вёрстки `LaTex` - <a href=\"https://www.youtube.com/watch?v=vSc25kdgecg\">Использование LaTex в Jupyter Notebook</a>\n",
    "<br><a href=\"https://www.overleaf.com/static/latex/learn/free-online-introduction-to-latex-part-1.pdf\">LaTex for beginners</a>. Вот так будут выглядеть формулы:👇\n",
    "</ul></div> <br>\n",
    "\n",
    "$$ICE = \\frac{Impact * Confidence}{Efforts}$$\n",
    "\n",
    "$$RICE = \\frac{Rearch * Impact * Confidence}{Efforts}$$\n",
    "\n",
    "<hr style=\"border: 2px solid yellow;\" />"
   ]
  },
  {
   "cell_type": "markdown",
   "metadata": {},
   "source": [
    "# Анализ A/B-теста <a id=\"анализ\"></a>"
   ]
  },
  {
   "cell_type": "code",
   "execution_count": 12,
   "metadata": {},
   "outputs": [
    {
     "name": "stdout",
     "output_type": "stream",
     "text": [
      "        date group  orders  buyers  revenue  visitors\n",
      "0 2019-08-01     A      24      20   148579       719\n",
      "1 2019-08-01     B      21      20   101217       713\n",
      "2 2019-08-02     A      44      38   242401      1338\n",
      "3 2019-08-02     B      45      43   266748      1294\n",
      "4 2019-08-03     A      68      62   354874      1845\n"
     ]
    }
   ],
   "source": [
    "datesGroups = orders[['date','group']].drop_duplicates() \n",
    "#orders[np.logical_and(orders['date'] <= x['date'], orders['group'] == x['group'])]\n",
    "\n",
    "ordersAggregated = datesGroups.apply(lambda x: orders[np.logical_and(orders['date'] <= x['date'], orders['group'] == x['group'])]\\\n",
    ".agg({'date' : 'max', 'group' : 'max', 'transactionId' : pd.Series.nunique, 'visitorId' : pd.Series.nunique, 'revenue' : 'sum'}), axis=1).sort_values(by=['date','group'])\n",
    "\n",
    "visitorsAggregated = datesGroups.apply(lambda x: visitors[np.logical_and(visitors['date'] <= x['date'], visitors['group'] == x['group'])].agg({'date' : 'max', 'group' : 'max', 'visitors' : 'sum'}), axis=1).sort_values(by=['date','group'])\n",
    "\n",
    "# создаем массив уникальных пар значений дат и групп теста\n",
    "datesGroups = orders[['date','group']].drop_duplicates()\n",
    "\n",
    "# получаем агрегированные кумулятивные по дням данные о заказах \n",
    "ordersAggregated = datesGroups.apply(lambda x: orders[np.logical_and(orders['date'] <= x['date'], orders['group'] == x['group'])\n",
    "                                                     ].agg({'date' : 'max', 'group' : 'max', 'transactionId' : pd.Series.nunique, 'visitorId' : pd.Series.nunique, 'revenue' : 'sum'}), axis=1).sort_values(by=['date','group'])\n",
    "\n",
    "# получаем агрегированные кумулятивные по дням данные о посетителях интернет-магазина \n",
    "visitorsAggregated = datesGroups.apply(lambda x: visitors[np.logical_and(visitors['date'] <= x['date'], visitors['group'] == x['group'])].agg({'date' : 'max', 'group' : 'max', 'visitors' : 'sum'}), axis=1).sort_values(by=['date','group'])\n",
    "\n",
    "# объединяем кумулятивные данные в одной таблице и присваиваем ее столбцам понятные названия\n",
    "cumulativeData = ordersAggregated.merge(visitorsAggregated, left_on=['date', 'group'], right_on=['date', 'group'])\n",
    "cumulativeData.columns = [\n",
    "    'date', \n",
    "    'group', \n",
    "    'orders', \n",
    "    'buyers', \n",
    "    'revenue', \n",
    "    'visitors'\n",
    "]\n",
    "\n",
    "print(cumulativeData.head(5))"
   ]
  },
  {
   "cell_type": "markdown",
   "metadata": {},
   "source": [
    "# График кумулятивной выручки по группам <a id=\"кум_груп\"></a>"
   ]
  },
  {
   "cell_type": "code",
   "execution_count": 13,
   "metadata": {},
   "outputs": [
    {
     "name": "stderr",
     "output_type": "stream",
     "text": [
      "/opt/conda/lib/python3.7/site-packages/pandas/plotting/_matplotlib/converter.py:103: FutureWarning: Using an implicitly registered datetime converter for a matplotlib plotting method. The converter was registered by pandas on import. Future versions of pandas will require you to explicitly register matplotlib converters.\n",
      "\n",
      "To register the converters:\n",
      "\t>>> from pandas.plotting import register_matplotlib_converters\n",
      "\t>>> register_matplotlib_converters()\n",
      "  warnings.warn(msg, FutureWarning)\n"
     ]
    },
    {
     "data": {
      "image/png": "[encoded data removed]",
      "text/plain": [
       "<Figure size 1440x720 with 1 Axes>"
      ]
     },
     "metadata": {
      "needs_background": "light"
     },
     "output_type": "display_data"
    }
   ],
   "source": [
    "import matplotlib.pyplot as plt\n",
    "\n",
    "# датафрейм с кумулятивным количеством заказов и кумулятивной выручкой по дням в группе А\n",
    "cumulativeRevenueA = cumulativeData[cumulativeData['group']=='A'][['date','revenue', 'orders']]\n",
    "\n",
    "# датафрейм с кумулятивным количеством заказов и кумулятивной выручкой по дням в группе B\n",
    "cumulativeRevenueB = cumulativeData[cumulativeData['group']=='B'][['date','revenue', 'orders']]\n",
    "\n",
    "fig = plt.figure(figsize=(20,10))\n",
    "\n",
    "# Строим график выручки группы А\n",
    "plt.plot(cumulativeRevenueA['date'], cumulativeRevenueA['revenue'], label='A')\n",
    "\n",
    "# Строим график выручки группы B\n",
    "plt.plot(cumulativeRevenueB['date'], cumulativeRevenueB['revenue'], label='B')\n",
    "\n",
    "plt.legend();"
   ]
  },
  {
   "cell_type": "markdown",
   "metadata": {},
   "source": [
    "Выручка почти равномерно увеличивается в течение всего теста. Хороший знак.\n",
    "Однако графики выручки группы В в нескольких точках резко растет. Это может сигнализировать о всплесках числа заказов, либо о появлении очень дорогих заказов в выборке."
   ]
  },
  {
   "cell_type": "markdown",
   "metadata": {},
   "source": [
    "# График кумулятивного среднего чека по группам <a id=\"кум_чек\"></a>"
   ]
  },
  {
   "cell_type": "code",
   "execution_count": 14,
   "metadata": {},
   "outputs": [
    {
     "data": {
      "image/png": "[encoded data removed]",
      "text/plain": [
       "<Figure size 1440x720 with 1 Axes>"
      ]
     },
     "metadata": {
      "needs_background": "light"
     },
     "output_type": "display_data"
    }
   ],
   "source": [
    "#Построим графики среднего чека по группам — разделим кумулятивную выручку на кумулятивное число заказов\n",
    "fig = plt.figure(figsize=(20,10))\n",
    "plt.plot(cumulativeRevenueA['date'], cumulativeRevenueA['revenue']/cumulativeRevenueA['orders'], label='A')\n",
    "plt.plot(cumulativeRevenueB['date'], cumulativeRevenueB['revenue']/cumulativeRevenueB['orders'], label='B')\n",
    "plt.legend();"
   ]
  },
  {
   "cell_type": "markdown",
   "metadata": {},
   "source": [
    "Средний чек тоже становится равномерным ближе к концу теста для группы А, для группы В чек остается нестабильным до конца графика.Возможно, в группу А во второй половине теста попали крупные заказы (резкий всплеск на графике). Тогда ей нужно больше данных, чтобы прийти к реальному среднему чеку и установиться на его уровне. Давать показания рано, для начала требутся доп ангализ выбросов. "
   ]
  },
  {
   "cell_type": "markdown",
   "metadata": {},
   "source": [
    "# График относительного изменения кумулятивной конверсии группы B к группе A  <a id=\"б_а\"></a>"
   ]
  },
  {
   "cell_type": "code",
   "execution_count": 15,
   "metadata": {},
   "outputs": [
    {
     "data": {
      "image/png": "[encoded data removed]",
      "text/plain": [
       "<Figure size 1440x720 with 1 Axes>"
      ]
     },
     "metadata": {
      "needs_background": "light"
     },
     "output_type": "display_data"
    }
   ],
   "source": [
    "# собираем данные в одном датафрейме\n",
    "mergedCumulativeRevenue = cumulativeRevenueA.merge(cumulativeRevenueB, left_on='date', right_on='date', how='left', suffixes=['A', 'B'])\n",
    "\n",
    "# cтроим отношение средних чеков\n",
    "fig = plt.figure(figsize=(20,10))\n",
    "plt.plot(mergedCumulativeRevenue['date'], (mergedCumulativeRevenue['revenueB']/mergedCumulativeRevenue['ordersB'])/(mergedCumulativeRevenue['revenueA']/mergedCumulativeRevenue['ordersA'])-1)\n",
    "\n",
    "# добавляем ось X\n",
    "plt.axhline( y=0, color='black', linestyle='--');"
   ]
  },
  {
   "cell_type": "markdown",
   "metadata": {},
   "source": [
    "В нескольких точках график различия между сегментами резко «скачет».Видимо, именно тогда были совершены аномальные заказы."
   ]
  },
  {
   "cell_type": "markdown",
   "metadata": {},
   "source": [
    "# График кумулятивной конверсии по группам <a id=\"кум_конв\"></a>"
   ]
  },
  {
   "cell_type": "code",
   "execution_count": 37,
   "metadata": {},
   "outputs": [
    {
     "data": {
      "image/png": "[encoded data removed]",
      "text/plain": [
       "<Figure size 1440x720 with 1 Axes>"
      ]
     },
     "metadata": {
      "needs_background": "light"
     },
     "output_type": "display_data"
    }
   ],
   "source": [
    "# считаем кумулятивную конверсию\n",
    "cumulativeData['conversion'] = cumulativeData['orders']/cumulativeData['visitors']\n",
    "\n",
    "# отделяем данные по группе A\n",
    "cumulativeDataA = cumulativeData[cumulativeData['group']=='A']\n",
    "\n",
    "# отделяем данные по группе B\n",
    "cumulativeDataB = cumulativeData[cumulativeData['group']=='B']\n",
    "\n",
    "# строим графики\n",
    "fig = plt.figure(figsize=(20,10))\n",
    "plt.title('График кумулятивной конверсии по группам')\n",
    "plt.plot(cumulativeDataA['date'], cumulativeDataA['conversion'], label='A')\n",
    "plt.plot(cumulativeDataB['date'], cumulativeDataB['conversion'], label='B')\n",
    "plt.xlabel('day')\n",
    "plt.ylabel('conversion')\n",
    "plt.legend()\n",
    "\n",
    "# задаем масштаб осей\n",
    "plt.axis([\"2019-08-01\", '2019-09-01', 0,  0.05]);"
   ]
  },
  {
   "cell_type": "markdown",
   "metadata": {},
   "source": [
    "В начале сегмента А был выше по показателям, но к концу графика сегмент В выровнялся и зафиксировался в области оодного значения, выше сегмента А"
   ]
  },
  {
   "cell_type": "markdown",
   "metadata": {},
   "source": [
    "<div class=\"alert alert-success\">\n",
    "<h2> Комментарий ревьюера <a class=\"tocSkip\"> </h2>\n",
    "\n",
    "<b>Все отлично!👍:</b>\n",
    "    \n",
    "На этом этапе графики выглядят корректными, ты справилась с этим шагом проекта, согласна с твоими выводами!"
   ]
  },
  {
   "cell_type": "markdown",
   "metadata": {},
   "source": [
    "\n",
    "<div class=\"alert alert-warning\">\n",
    "    <h2> Комментарий ревьюера <a class=\"tocSkip\"> </h2>\n",
    "    \n",
    "<b>Некоторые замечания и рекомендации💡:</b>\n",
    "        \n",
    "Короткая рекомендация по оформлению визуализации: в графиках выше (и ниже) у тебя присутствуют технические строчки типа `<matplotlib.lines.Line2D at 0x7f5183944e90>` при выводе графиков. Их можно убрать, применив `plt.show()` или `;` Также стоит добавить заголовки к графикам и подписи к осям, это увеличит информативность визуализации."
   ]
  },
  {
   "cell_type": "markdown",
   "metadata": {},
   "source": [
    "<div class=\"alert alert-success\">\n",
    "<h2> Комментарий ревьюера: вторая итерация ревью <a class=\"tocSkip\"> </h2>\n",
    "\n",
    "<b>Все отлично!👍:</b> \n",
    " \n",
    "Ок, вижу, что ты немного скорректировала графики. В следующий раз стоит все-таки добавлять заголовки и подписи к осям."
   ]
  },
  {
   "cell_type": "markdown",
   "metadata": {},
   "source": [
    "# Анализ выбросов и всплесков: крайние значения данных\n"
   ]
  },
  {
   "cell_type": "code",
   "execution_count": 17,
   "metadata": {},
   "outputs": [
    {
     "name": "stdout",
     "output_type": "stream",
     "text": [
      " orders revenue max 1294500\n",
      " orders revenue min 50\n"
     ]
    }
   ],
   "source": [
    "print(' orders revenue max {1}\\n orders revenue min {2}'.format(orders.revenue.mean(), orders.revenue.max(), orders.revenue.min()))"
   ]
  },
  {
   "cell_type": "code",
   "execution_count": 18,
   "metadata": {},
   "outputs": [
    {
     "data": {
      "text/html": [
       "<div>\n",
       "<style scoped>\n",
       "    .dataframe tbody tr th:only-of-type {\n",
       "        vertical-align: middle;\n",
       "    }\n",
       "\n",
       "    .dataframe tbody tr th {\n",
       "        vertical-align: top;\n",
       "    }\n",
       "\n",
       "    .dataframe thead th {\n",
       "        text-align: right;\n",
       "    }\n",
       "</style>\n",
       "<table border=\"1\" class=\"dataframe\">\n",
       "  <thead>\n",
       "    <tr style=\"text-align: right;\">\n",
       "      <th></th>\n",
       "      <th>userId</th>\n",
       "      <th>orders</th>\n",
       "    </tr>\n",
       "  </thead>\n",
       "  <tbody>\n",
       "    <tr>\n",
       "      <td>1023</td>\n",
       "      <td>4256040402</td>\n",
       "      <td>11</td>\n",
       "    </tr>\n",
       "    <tr>\n",
       "      <td>591</td>\n",
       "      <td>2458001652</td>\n",
       "      <td>11</td>\n",
       "    </tr>\n",
       "    <tr>\n",
       "      <td>569</td>\n",
       "      <td>2378935119</td>\n",
       "      <td>9</td>\n",
       "    </tr>\n",
       "    <tr>\n",
       "      <td>487</td>\n",
       "      <td>2038680547</td>\n",
       "      <td>8</td>\n",
       "    </tr>\n",
       "    <tr>\n",
       "      <td>44</td>\n",
       "      <td>199603092</td>\n",
       "      <td>5</td>\n",
       "    </tr>\n",
       "    <tr>\n",
       "      <td>744</td>\n",
       "      <td>3062433592</td>\n",
       "      <td>5</td>\n",
       "    </tr>\n",
       "    <tr>\n",
       "      <td>55</td>\n",
       "      <td>237748145</td>\n",
       "      <td>5</td>\n",
       "    </tr>\n",
       "    <tr>\n",
       "      <td>917</td>\n",
       "      <td>3803269165</td>\n",
       "      <td>5</td>\n",
       "    </tr>\n",
       "    <tr>\n",
       "      <td>299</td>\n",
       "      <td>1230306981</td>\n",
       "      <td>5</td>\n",
       "    </tr>\n",
       "    <tr>\n",
       "      <td>897</td>\n",
       "      <td>3717692402</td>\n",
       "      <td>5</td>\n",
       "    </tr>\n",
       "  </tbody>\n",
       "</table>\n",
       "</div>"
      ],
      "text/plain": [
       "          userId  orders\n",
       "1023  4256040402      11\n",
       "591   2458001652      11\n",
       "569   2378935119       9\n",
       "487   2038680547       8\n",
       "44     199603092       5\n",
       "744   3062433592       5\n",
       "55     237748145       5\n",
       "917   3803269165       5\n",
       "299   1230306981       5\n",
       "897   3717692402       5"
      ]
     },
     "metadata": {},
     "output_type": "display_data"
    }
   ],
   "source": [
    "ordersByUsers = (\n",
    "    orders.drop(['group', 'revenue', 'date'], axis=1)\n",
    "    .groupby('visitorId', as_index=False)\n",
    "    .agg({'transactionId': pd.Series.nunique})\n",
    ")\n",
    "\n",
    "ordersByUsers.columns = ['userId', 'orders']\n",
    "\n",
    "display(ordersByUsers.sort_values(by='orders', ascending=False).head(10)) "
   ]
  },
  {
   "cell_type": "markdown",
   "metadata": {},
   "source": [
    "# Точечный график количества заказов по пользователям <a id=\"кол_зак\"></a>"
   ]
  },
  {
   "cell_type": "code",
   "execution_count": 19,
   "metadata": {},
   "outputs": [
    {
     "data": {
      "image/png": "[encoded data removed]",
      "text/plain": [
       "<Figure size 432x288 with 1 Axes>"
      ]
     },
     "metadata": {
      "needs_background": "light"
     },
     "output_type": "display_data"
    }
   ],
   "source": [
    "plt.hist(ordersByUsers['orders']);"
   ]
  },
  {
   "cell_type": "markdown",
   "metadata": {},
   "source": [
    "Большинство покупателей заказывали только один раз. Однако доля пользователей с 2-4 заказами тоже значительна.\n",
    "Построим точечную диаграмму числа заказов на одного пользователя:"
   ]
  },
  {
   "cell_type": "code",
   "execution_count": 39,
   "metadata": {},
   "outputs": [
    {
     "data": {
      "image/png": "[encoded data removed]",
      "text/plain": [
       "<Figure size 432x288 with 1 Axes>"
      ]
     },
     "metadata": {
      "needs_background": "light"
     },
     "output_type": "display_data"
    }
   ],
   "source": [
    "plt.xlabel('visitors')\n",
    "plt.ylabel('orders')\n",
    "plt.title('Orders per user by groups')\n",
    "x_values = pd.Series(range(0, len(ordersByUsers)))\n",
    "plt.scatter(x_values, ordersByUsers['orders']);"
   ]
  },
  {
   "cell_type": "markdown",
   "metadata": {},
   "source": [
    "Выводы подтверждаются: много пользователей с 1-2 заказами. Их точная доля не ясна — непонятно, считать их аномалиями или нет.\n",
    "Посчитаем выборочные перцентили количества заказов на одного пользователя:"
   ]
  },
  {
   "cell_type": "code",
   "execution_count": 21,
   "metadata": {},
   "outputs": [
    {
     "name": "stdout",
     "output_type": "stream",
     "text": [
      "[2. 4.]\n"
     ]
    }
   ],
   "source": [
    "print(np.percentile(ordersByUsers['orders'], [95,99])) "
   ]
  },
  {
   "cell_type": "markdown",
   "metadata": {},
   "source": [
    "Не более 5% пользователей оформляли больше чем 2 заказа. И 1% пользователей заказывали более четырех раз."
   ]
  },
  {
   "cell_type": "markdown",
   "metadata": {},
   "source": [
    "# Точечный график стоимостей заказов <a id=\"стоим\"></a>"
   ]
  },
  {
   "cell_type": "code",
   "execution_count": 22,
   "metadata": {},
   "outputs": [
    {
     "data": {
      "image/png": "[encoded data removed]",
      "text/plain": [
       "<Figure size 432x288 with 1 Axes>"
      ]
     },
     "metadata": {
      "needs_background": "light"
     },
     "output_type": "display_data"
    }
   ],
   "source": [
    "plt.hist(orders['revenue']);"
   ]
  },
  {
   "cell_type": "code",
   "execution_count": 43,
   "metadata": {},
   "outputs": [
    {
     "data": {
      "image/png": "[encoded data removed]",
      "text/plain": [
       "<Figure size 432x288 with 1 Axes>"
      ]
     },
     "metadata": {
      "needs_background": "light"
     },
     "output_type": "display_data"
    }
   ],
   "source": [
    "plt.xlabel('visitors')\n",
    "plt.ylabel('sum')\n",
    "plt.title('Точечный график стоимостей заказов ')\n",
    "x_values = pd.Series(range(0,len(orders['revenue'])))\n",
    "plt.scatter(x_values, orders['revenue']);"
   ]
  },
  {
   "cell_type": "markdown",
   "metadata": {},
   "source": [
    "Наблюдается выброс в размере более, чем на 1 млн рублей."
   ]
  },
  {
   "cell_type": "code",
   "execution_count": 24,
   "metadata": {},
   "outputs": [
    {
     "name": "stdout",
     "output_type": "stream",
     "text": [
      "[28000.  58233.2]\n"
     ]
    }
   ],
   "source": [
    "print(np.percentile(orders['revenue'], [95, 99]))"
   ]
  },
  {
   "cell_type": "markdown",
   "metadata": {},
   "source": [
    "Не более 5% пользователей купили больше, чем на 28  тыс рублей. И только 1% купил свыше, чем 58,2 тыс рублей"
   ]
  },
  {
   "cell_type": "code",
   "execution_count": 25,
   "metadata": {},
   "outputs": [
    {
     "data": {
      "image/png": "[encoded data removed]",
      "text/plain": [
       "<Figure size 432x288 with 1 Axes>"
      ]
     },
     "metadata": {
      "needs_background": "light"
     },
     "output_type": "display_data"
    }
   ],
   "source": [
    "import seaborn as sns\n",
    "orders = orders.rename(columns = {'visitorId' : 'userId'})\n",
    "orders_and_ordersbyuser = orders.merge(ordersByUsers,on = 'userId')\n",
    "df_new = orders_and_ordersbyuser[(orders_and_ordersbyuser['revenue'] < 40000) & (orders_and_ordersbyuser['orders'] < 4 )]\n",
    "sns.distplot(df_new['revenue'], rug=True, norm_hist=True);\n",
    "#Эти данные в предеоах 1% от заказоы и 5% от суммы"
   ]
  },
  {
   "cell_type": "markdown",
   "metadata": {},
   "source": [
    "<div class=\"alert alert-success\">\n",
    "<h2> Комментарий ревьюера <a class=\"tocSkip\"> </h2>\n",
    "\n",
    "<b>Все отлично!👍:</b>\n",
    "    \n",
    "В целом, границы выбросов определены верно!"
   ]
  },
  {
   "cell_type": "markdown",
   "metadata": {},
   "source": [
    "\n",
    "<div class=\"alert alert-warning\">\n",
    "    <h2> Комментарий ревьюера <a class=\"tocSkip\"> </h2>\n",
    "    \n",
    "<b>Некоторые замечания и рекомендации💡:</b>\n",
    "        \n",
    "Один момент: если ты все же обнаружишь пользователей, попавших в обе группы и попробуешь их удалить, границы выбросов могут измениться."
   ]
  },
  {
   "cell_type": "markdown",
   "metadata": {},
   "source": [
    "# Анализ A/B-теста "
   ]
  },
  {
   "cell_type": "code",
   "execution_count": 26,
   "metadata": {},
   "outputs": [],
   "source": [
    "visitorsADaily = visitors[visitors['group'] == 'A'][['date', 'visitors']]\n",
    "visitorsADaily.columns = ['date', 'visitorsPerDateA']\n",
    "\n",
    "visitorsACummulative = visitorsADaily.apply(\n",
    "    lambda x: visitorsADaily[visitorsADaily['date'] <= x['date']].agg(\n",
    "        {'date': 'max', 'visitorsPerDateA': 'sum'}\n",
    "    ),\n",
    "    axis=1,\n",
    ")\n",
    "visitorsACummulative.columns = ['date', 'visitorsCummulativeA']\n",
    "\n",
    "visitorsBDaily = visitors[visitors['group'] == 'B'][['date', 'visitors']]\n",
    "visitorsBDaily.columns = ['date', 'visitorsPerDateB']\n",
    "\n",
    "visitorsBCummulative = visitorsBDaily.apply(\n",
    "    lambda x: visitorsBDaily[visitorsBDaily['date'] <= x['date']].agg(\n",
    "        {'date': 'max', 'visitorsPerDateB': 'sum'}\n",
    "    ),\n",
    "    axis=1,\n",
    ")\n",
    "visitorsBCummulative.columns = ['date', 'visitorsCummulativeB']"
   ]
  },
  {
   "cell_type": "code",
   "execution_count": 27,
   "metadata": {},
   "outputs": [
    {
     "data": {
      "text/html": [
       "<div>\n",
       "<style scoped>\n",
       "    .dataframe tbody tr th:only-of-type {\n",
       "        vertical-align: middle;\n",
       "    }\n",
       "\n",
       "    .dataframe tbody tr th {\n",
       "        vertical-align: top;\n",
       "    }\n",
       "\n",
       "    .dataframe thead th {\n",
       "        text-align: right;\n",
       "    }\n",
       "</style>\n",
       "<table border=\"1\" class=\"dataframe\">\n",
       "  <thead>\n",
       "    <tr style=\"text-align: right;\">\n",
       "      <th></th>\n",
       "      <th>date</th>\n",
       "      <th>ordersPerDateA</th>\n",
       "      <th>revenuePerDateA</th>\n",
       "      <th>ordersPerDateB</th>\n",
       "      <th>revenuePerDateB</th>\n",
       "      <th>ordersCummulativeA</th>\n",
       "      <th>revenueCummulativeA</th>\n",
       "      <th>ordersCummulativeB</th>\n",
       "      <th>revenueCummulativeB</th>\n",
       "      <th>visitorsPerDateA</th>\n",
       "      <th>visitorsPerDateB</th>\n",
       "      <th>visitorsCummulativeA</th>\n",
       "      <th>visitorsCummulativeB</th>\n",
       "    </tr>\n",
       "  </thead>\n",
       "  <tbody>\n",
       "    <tr>\n",
       "      <td>0</td>\n",
       "      <td>2019-08-01</td>\n",
       "      <td>24</td>\n",
       "      <td>148579</td>\n",
       "      <td>21</td>\n",
       "      <td>101217</td>\n",
       "      <td>24</td>\n",
       "      <td>148579</td>\n",
       "      <td>21</td>\n",
       "      <td>101217</td>\n",
       "      <td>719</td>\n",
       "      <td>713</td>\n",
       "      <td>719</td>\n",
       "      <td>713</td>\n",
       "    </tr>\n",
       "    <tr>\n",
       "      <td>1</td>\n",
       "      <td>2019-08-02</td>\n",
       "      <td>20</td>\n",
       "      <td>93822</td>\n",
       "      <td>24</td>\n",
       "      <td>165531</td>\n",
       "      <td>44</td>\n",
       "      <td>242401</td>\n",
       "      <td>45</td>\n",
       "      <td>266748</td>\n",
       "      <td>619</td>\n",
       "      <td>581</td>\n",
       "      <td>1338</td>\n",
       "      <td>1294</td>\n",
       "    </tr>\n",
       "    <tr>\n",
       "      <td>2</td>\n",
       "      <td>2019-08-03</td>\n",
       "      <td>24</td>\n",
       "      <td>112473</td>\n",
       "      <td>16</td>\n",
       "      <td>114248</td>\n",
       "      <td>68</td>\n",
       "      <td>354874</td>\n",
       "      <td>61</td>\n",
       "      <td>380996</td>\n",
       "      <td>507</td>\n",
       "      <td>509</td>\n",
       "      <td>1845</td>\n",
       "      <td>1803</td>\n",
       "    </tr>\n",
       "    <tr>\n",
       "      <td>3</td>\n",
       "      <td>2019-08-04</td>\n",
       "      <td>16</td>\n",
       "      <td>70825</td>\n",
       "      <td>17</td>\n",
       "      <td>108571</td>\n",
       "      <td>84</td>\n",
       "      <td>425699</td>\n",
       "      <td>78</td>\n",
       "      <td>489567</td>\n",
       "      <td>717</td>\n",
       "      <td>770</td>\n",
       "      <td>2562</td>\n",
       "      <td>2573</td>\n",
       "    </tr>\n",
       "    <tr>\n",
       "      <td>4</td>\n",
       "      <td>2019-08-05</td>\n",
       "      <td>25</td>\n",
       "      <td>124218</td>\n",
       "      <td>23</td>\n",
       "      <td>92428</td>\n",
       "      <td>109</td>\n",
       "      <td>549917</td>\n",
       "      <td>101</td>\n",
       "      <td>581995</td>\n",
       "      <td>756</td>\n",
       "      <td>707</td>\n",
       "      <td>3318</td>\n",
       "      <td>3280</td>\n",
       "    </tr>\n",
       "  </tbody>\n",
       "</table>\n",
       "</div>"
      ],
      "text/plain": [
       "        date  ordersPerDateA  revenuePerDateA  ordersPerDateB  \\\n",
       "0 2019-08-01              24           148579              21   \n",
       "1 2019-08-02              20            93822              24   \n",
       "2 2019-08-03              24           112473              16   \n",
       "3 2019-08-04              16            70825              17   \n",
       "4 2019-08-05              25           124218              23   \n",
       "\n",
       "   revenuePerDateB  ordersCummulativeA  revenueCummulativeA  \\\n",
       "0           101217                  24               148579   \n",
       "1           165531                  44               242401   \n",
       "2           114248                  68               354874   \n",
       "3           108571                  84               425699   \n",
       "4            92428                 109               549917   \n",
       "\n",
       "   ordersCummulativeB  revenueCummulativeB  visitorsPerDateA  \\\n",
       "0                  21               101217               719   \n",
       "1                  45               266748               619   \n",
       "2                  61               380996               507   \n",
       "3                  78               489567               717   \n",
       "4                 101               581995               756   \n",
       "\n",
       "   visitorsPerDateB  visitorsCummulativeA  visitorsCummulativeB  \n",
       "0               713                   719                   713  \n",
       "1               581                  1338                  1294  \n",
       "2               509                  1845                  1803  \n",
       "3               770                  2562                  2573  \n",
       "4               707                  3318                  3280  "
      ]
     },
     "metadata": {},
     "output_type": "display_data"
    }
   ],
   "source": [
    "ordersADaily = (\n",
    "    orders[orders['group'] == 'A'][['date', 'transactionId', 'userId', 'revenue']]\n",
    "    .groupby('date', as_index=False)\n",
    "    .agg({'transactionId': pd.Series.nunique, 'revenue': 'sum'})\n",
    ")\n",
    "ordersADaily.columns = ['date', 'ordersPerDateA', 'revenuePerDateA']\n",
    "\n",
    "ordersACummulative = ordersADaily.apply(\n",
    "    lambda x: ordersADaily[ordersADaily['date'] <= x['date']].agg(\n",
    "        {'date': 'max', 'ordersPerDateA': 'sum', 'revenuePerDateA': 'sum'}\n",
    "    ),\n",
    "    axis=1,\n",
    ").sort_values(by=['date'])\n",
    "ordersACummulative.columns = [\n",
    "    'date',\n",
    "    'ordersCummulativeA',\n",
    "    'revenueCummulativeA',\n",
    "]\n",
    "\n",
    "ordersBDaily = (\n",
    "    orders[orders['group'] == 'B'][['date', 'transactionId', 'userId', 'revenue']]\n",
    "    .groupby('date', as_index=False)\n",
    "    .agg({'transactionId': pd.Series.nunique, 'revenue': 'sum'})\n",
    ")\n",
    "ordersBDaily.columns = ['date', 'ordersPerDateB', 'revenuePerDateB']\n",
    "\n",
    "ordersBCummulative = ordersBDaily.apply(\n",
    "    lambda x: ordersBDaily[ordersBDaily['date'] <= x['date']].agg(\n",
    "        {'date': 'max', 'ordersPerDateB': 'sum', 'revenuePerDateB': 'sum'}\n",
    "    ),\n",
    "    axis=1,\n",
    ").sort_values(by=['date'])\n",
    "ordersBCummulative.columns = [\n",
    "    'date',\n",
    "    'ordersCummulativeB',\n",
    "    'revenueCummulativeB',\n",
    "]\n",
    "\n",
    "data = (\n",
    "    ordersADaily.merge(\n",
    "        ordersBDaily, left_on='date', right_on='date', how='left'\n",
    "    )\n",
    "    .merge(ordersACummulative, left_on='date', right_on='date', how='left')\n",
    "    .merge(ordersBCummulative, left_on='date', right_on='date', how='left')\n",
    "    .merge(visitorsADaily, left_on='date', right_on='date', how='left')\n",
    "    .merge(visitorsBDaily, left_on='date', right_on='date', how='left')\n",
    "    .merge(visitorsACummulative, left_on='date', right_on='date', how='left')\n",
    "    .merge(visitorsBCummulative, left_on='date', right_on='date', how='left')\n",
    ")\n",
    "\n",
    "display(data.head(5))"
   ]
  },
  {
   "cell_type": "markdown",
   "metadata": {},
   "source": [
    "- date — дата;\n",
    "- ordersPerDateA — количество заказов в выбранную дату в группе A;\n",
    "- revenuePerDateA — суммарная выручка в выбранную дату в группе A;\n",
    "- ordersPerDateB — количество заказов в выбранную дату в группе B;\n",
    "- revenuePerDateB — суммарная выручка в выбранную дату в группе B;\n",
    "- ordersCummulativeA — суммарное число заказов до выбранной даты включительно в группе A;\n",
    "- revenueCummulativeA — суммарная выручка до выбранной даты включительно в группе A;\n",
    "- ordersCummulativeB — суммарное количество заказов до выбранной даты включительно в группе B;\n",
    "- revenueCummulativeB — суммарная выручка до выбранной даты включительно в группе B;\n",
    "- visitorsPerDateA — количество пользователей в выбранную дату в группе A;\n",
    "- visitorsPerDateB — количество пользователей в выбранную дату в группе B;\n",
    "- visitorsCummulativeA — количество пользователей до выбранной даты включительно в группе A;\n",
    "- visitorsCummulativeB — количество пользователей до выбранной даты включительно в группе B."
   ]
  },
  {
   "cell_type": "markdown",
   "metadata": {},
   "source": [
    "# Статистическая значимость различий в конверсии между группами по «сырым» данным  <a id=\"сырой_конв\"></a>"
   ]
  },
  {
   "cell_type": "markdown",
   "metadata": {},
   "source": [
    "Посчитаем статистическую значимость различия в конверсии между группами."
   ]
  },
  {
   "cell_type": "code",
   "execution_count": 28,
   "metadata": {},
   "outputs": [
    {
     "name": "stdout",
     "output_type": "stream",
     "text": [
      "pvalue = 0.008\n",
      "Относительный прирост конверсии группы В к групе А равен = 13.808%\n"
     ]
    }
   ],
   "source": [
    "ordersByUsersA = (\n",
    "    orders[orders['group'] == 'A']\n",
    "    .groupby('userId', as_index=False)\n",
    "    .agg({'transactionId': pd.Series.nunique})\n",
    ")\n",
    "ordersByUsersA.columns = ['userId', 'orders']\n",
    "\n",
    "ordersByUsersB = (\n",
    "    orders[orders['group'] == 'B']\n",
    "    .groupby('userId', as_index=False)\n",
    "    .agg({'transactionId': pd.Series.nunique})\n",
    ")\n",
    "ordersByUsersB.columns = ['userId', 'orders']\n",
    "\n",
    "sampleA = pd.concat(\n",
    "    [\n",
    "        ordersByUsersA['orders'],\n",
    "        pd.Series(\n",
    "            0,\n",
    "            index=np.arange(\n",
    "                data['visitorsPerDateA'].sum() - len(ordersByUsersA['orders'])\n",
    "            ),\n",
    "            name='orders',\n",
    "        ),\n",
    "    ],\n",
    "    axis=0,\n",
    ")\n",
    "\n",
    "sampleB = pd.concat(\n",
    "    [\n",
    "        ordersByUsersB['orders'],\n",
    "        pd.Series(\n",
    "            0,\n",
    "            index=np.arange(\n",
    "                data['visitorsPerDateB'].sum() - len(ordersByUsersB['orders'])\n",
    "            ),\n",
    "            name='orders',\n",
    "        ),\n",
    "    ],\n",
    "    axis=0,\n",
    ")\n",
    "\n",
    "print(\"pvalue = {0:.3f}\".format(stats.mannwhitneyu(sampleA, sampleB)[1]))\n",
    "\n",
    "print(\"Относительный прирост конверсии группы В к групе А равен = {0:.3%}\".format(sampleB.mean() / sampleA.mean() - 1))"
   ]
  },
  {
   "cell_type": "markdown",
   "metadata": {},
   "source": [
    "Первое число — p-value = 0.008 меньше 0.05. Значит, нулевую гипотезу отвергаем. Относительный прирост конверсии группы В к групе А равен 13%"
   ]
  },
  {
   "cell_type": "markdown",
   "metadata": {},
   "source": [
    "Чтобы рассчитать статистическую значимость различий в среднем чеке между сегментами, передадим критерию mannwhitneyu() данные о выручке с заказов.\n",
    "А ещё найдём относительные различия в среднем чеке между группами:\n"
   ]
  },
  {
   "cell_type": "markdown",
   "metadata": {},
   "source": [
    "# Статистическая значимость различий в среднем чеке заказа между группами по «сырым» данным <a id=\"сырой_чек\"></a>"
   ]
  },
  {
   "cell_type": "code",
   "execution_count": 29,
   "metadata": {},
   "outputs": [
    {
     "name": "stdout",
     "output_type": "stream",
     "text": [
      "pvalue = 0.365\n",
      "Различие между чеками А и В = 25.871%\n"
     ]
    }
   ],
   "source": [
    "print('pvalue = {0:.3f}'.format(stats.mannwhitneyu(orders[orders['group']=='A']['revenue'], orders[orders['group']=='B']['revenue'])[1]))\n",
    "print('Различие между чеками А и В = {0:.3%}'.format(orders[orders['group']=='B']['revenue'].mean()/orders[orders['group']=='A']['revenue'].mean()-1))"
   ]
  },
  {
   "cell_type": "markdown",
   "metadata": {},
   "source": [
    "P-value = 0.364, что значительно больше 0.05. Значит, причин отвергать нулевую гипотезу и считать, что в среднем чеке есть различия, нет. Различие между чеками А и В - 26%. Средний чек группы B значительно выше среднего чека группы A."
   ]
  },
  {
   "cell_type": "markdown",
   "metadata": {},
   "source": [
    "# Статистическая значимость  различий в конверсии между группами по «очищенным» данным <a id=\"чис_конв\"></a>"
   ]
  },
  {
   "cell_type": "markdown",
   "metadata": {},
   "source": [
    "Найденные выше 95-й и 99-й перцентили средних чеков равны 35 485 и 58 233 рублям. А 95-й и 99-й перцентили количества заказов на одного пользователя равны 2 и 4 заказа на пользователя. Примем за аномальных пользователей тех, кто совершил от 2 заказов или совершил заказ дороже 35000 рублей. Так мы уберём 5% пользователей с наибольшим числом заказов и от 1% до 5% пользователей с дорогими заказами."
   ]
  },
  {
   "cell_type": "code",
   "execution_count": 30,
   "metadata": {},
   "outputs": [
    {
     "name": "stdout",
     "output_type": "stream",
     "text": [
      "1099    148427295\n",
      "18      199603092\n",
      "23      237748145\n",
      "37      249864742\n",
      "684     358944393\n",
      "Name: userId, dtype: int64\n",
      "(53,)\n"
     ]
    }
   ],
   "source": [
    "usersWithManyOrders = pd.concat(\n",
    "    [\n",
    "        ordersByUsersA[ordersByUsersA['orders'] > 2]['userId'],\n",
    "        ordersByUsersB[ordersByUsersB['orders'] > 2]['userId'],\n",
    "    ],\n",
    "    axis=0,\n",
    ")\n",
    "usersWithExpensiveOrders = orders[orders['revenue'] > 35000]['userId']\n",
    "abnormalUsers = (\n",
    "    pd.concat([usersWithManyOrders, usersWithExpensiveOrders], axis=0)\n",
    "    .drop_duplicates()\n",
    "    .sort_values()\n",
    ")\n",
    "print(abnormalUsers.head(5))\n",
    "print(abnormalUsers.shape) "
   ]
  },
  {
   "cell_type": "markdown",
   "metadata": {},
   "source": [
    "Всего 53 аномальных пользователей.\n",
    "Узнаем, как их действия повлияли на результаты теста. Посчитаем статистическую значимость различий в конверсии между группами теста по очищенным данным. Сначала подготовим выборки количества заказов по пользователям по группам теста"
   ]
  },
  {
   "cell_type": "markdown",
   "metadata": {},
   "source": [
    "# Статистическая значимость  различий в среднем чеке заказа между группами по «очищенным» данным <a id=\"чис_чек\"></a>"
   ]
  },
  {
   "cell_type": "code",
   "execution_count": 31,
   "metadata": {},
   "outputs": [],
   "source": [
    "sampleAFiltered = pd.concat(\n",
    "    [\n",
    "        ordersByUsersA[\n",
    "            np.logical_not(ordersByUsersA['userId'].isin(abnormalUsers))\n",
    "        ]['orders'],\n",
    "        pd.Series(\n",
    "            0,\n",
    "            index=np.arange(\n",
    "                data['visitorsPerDateA'].sum() - len(ordersByUsersA['orders'])\n",
    "            ),\n",
    "            name='orders',\n",
    "        ),\n",
    "    ],\n",
    "    axis=0,\n",
    ")\n",
    "\n",
    "sampleBFiltered = pd.concat(\n",
    "    [\n",
    "        ordersByUsersB[\n",
    "            np.logical_not(ordersByUsersB['userId'].isin(abnormalUsers))\n",
    "        ]['orders'],\n",
    "        pd.Series(\n",
    "            0,\n",
    "            index=np.arange(\n",
    "                data['visitorsPerDateB'].sum() - len(ordersByUsersB['orders'])\n",
    "            ),\n",
    "            name='orders',\n",
    "        ),\n",
    "    ],\n",
    "    axis=0,\n",
    ") "
   ]
  },
  {
   "cell_type": "code",
   "execution_count": 32,
   "metadata": {},
   "outputs": [
    {
     "name": "stdout",
     "output_type": "stream",
     "text": [
      "pvalue = 0.005\n",
      "относительно\n",
      "pvalue = 0.008\n",
      "\n",
      "Относительный прирост конверсии группы В к групе А равен = 17.9%\n",
      "относительно\n",
      "Относительный прирост конверсии группы В к групе А равен = 13.8%\n"
     ]
    }
   ],
   "source": [
    "print('pvalue = {0:.3f}'.format(stats.mannwhitneyu(sampleAFiltered, sampleBFiltered)[1]))\n",
    "print('относительно')\n",
    "print(\"pvalue = {0:.3f}\".format(stats.mannwhitneyu(sampleA, sampleB)[1]))\n",
    "print()\n",
    "print('Относительный прирост конверсии группы В к групе А равен = {0:.1%}'.format(sampleBFiltered.mean()/sampleAFiltered.mean()-1)) \n",
    "print('относительно')\n",
    "print(\"Относительный прирост конверсии группы В к групе А равен = {0:.1%}\".format(sampleB.mean() / sampleA.mean() - 1))"
   ]
  },
  {
   "cell_type": "markdown",
   "metadata": {},
   "source": [
    "Результаты по конверсии практически не изменились. Произошло ли что-нибудь с результатами по среднему чеку?"
   ]
  },
  {
   "cell_type": "markdown",
   "metadata": {},
   "source": [
    "Формулируем нулевую гипотезу (H0):\n",
    "* существует статистическая разница между средним чеком по \"сырым\" данным и \"отчищенным\" данным\n",
    "\n",
    "Формулируем апльтернативную гипотезу (H1):\n",
    "* разницы между средним чеком по \"сырым\" данным и \"отчищенным\" данным не существует"
   ]
  },
  {
   "cell_type": "code",
   "execution_count": 33,
   "metadata": {},
   "outputs": [
    {
     "name": "stdout",
     "output_type": "stream",
     "text": [
      "pvalue = 0.885\n",
      "относительно\n",
      "pvalue = 0.365\n",
      "\n",
      "Различие между чеками А и В по очищенным данным = 2.2%\n",
      "относительно\n",
      "Различие между чеками А и В по сырым данным = 25.9%\n"
     ]
    }
   ],
   "source": [
    "print(\n",
    "    'pvalue = {0:.3f}'.format(\n",
    "        stats.mannwhitneyu(\n",
    "            orders[\n",
    "                np.logical_and(\n",
    "                    orders['group'] == 'A',\n",
    "                    np.logical_not(orders['userId'].isin(abnormalUsers)),\n",
    "                )\n",
    "            ]['revenue'],\n",
    "            orders[\n",
    "                np.logical_and(\n",
    "                    orders['group'] == 'B',\n",
    "                    np.logical_not(orders['userId'].isin(abnormalUsers)),\n",
    "                )\n",
    "            ]['revenue'],\n",
    "         alternative='two-sided')[1]\n",
    "    )\n",
    ")\n",
    "\n",
    "print('относительно')\n",
    "print('pvalue = {:.3f}'.format(stats.mannwhitneyu(orders[orders['group']=='A']['revenue'], orders[orders['group']=='B']['revenue'])[1]))\n",
    "print()\n",
    "print(\n",
    "    \"Различие между чеками А и В по очищенным данным = {0:.1%}\".format(\n",
    "        orders[\n",
    "            np.logical_and(\n",
    "                orders['group'] == 'B',\n",
    "                np.logical_not(orders['userId'].isin(abnormalUsers)),\n",
    "            )\n",
    "        ]['revenue'].mean()\n",
    "        / orders[\n",
    "            np.logical_and(\n",
    "                orders['group'] == 'A',\n",
    "                np.logical_not(orders['userId'].isin(abnormalUsers)),\n",
    "            )\n",
    "        ]['revenue'].mean()\n",
    "        - 1\n",
    "    )\n",
    ") \n",
    "print('относительно')\n",
    "print('Различие между чеками А и В по сырым данным = {:.1%}'.format(orders[orders['group']=='B']['revenue'].mean()/orders[orders['group']=='A']['revenue'].mean()-1))"
   ]
  },
  {
   "cell_type": "markdown",
   "metadata": {},
   "source": [
    "P-value уменьшился, а разница между сегментами уменьшилас с 26% до 2%\n",
    "Хотя общие выводы по результатам теста не изменились, такой пример хорошо показывает, как сильно аномалии могут влиять на результаты A/B-теста\n",
    "\n",
    "Значения p-value до 0,05 считаются незначительными, а в нашем случае оно равно = 0.885. Что означает, нулевая гипотеза подтверждена — статистическая разница между средним чеком по \"сырым\" данным и \"отчищенным\" данным сшуществует.\n",
    "\n",
    "Имеющиеся факты:\n",
    "- Нет статистически значимого различия по конверсии между группами ни по «сырым», ни по данным после фильтрации аномалий;\n",
    "- Нет статистически значимого различия по среднему чеку между группами ни по «сырым», ни по данным после фильтрации аномалий;\n",
    "- График различия конверсии между группами сообщает, что результаты группы B хуже группы A и нет значительной тенденции к улучшению"
   ]
  },
  {
   "cell_type": "markdown",
   "metadata": {},
   "source": [
    "<div class=\"alert alert-success\">\n",
    "<h2> Комментарий ревьюера <a class=\"tocSkip\"> </h2>\n",
    "\n",
    "<b>Все отлично!👍:</b>\n",
    "    \n",
    "Что на этом шаге сделано корректно:\n",
    "    \n",
    "* ты верно выбрала сам тест и верно проинтерпретировала его результаты, за это плюс;\n",
    "    \n",
    "* проверила все требуемые пары гипотез \n"
   ]
  },
  {
   "cell_type": "markdown",
   "metadata": {},
   "source": [
    "<div class=\"alert alert-block alert-danger\">\n",
    "<h2> Комментарий ревьюера <a class=\"tocSkip\"></h2>\n",
    "\n",
    "<b>На доработку🤔:</b>\n",
    "    \n",
    "Что нужно доработать на этом шаге:\n",
    "   \n",
    "* есть особенность в реализации теста Манна-Уитни <code>stats.mannwhitneyu</code>, тест имеет параметр <code>alternative</code>, по-умолчанию, он принимает значение <code>None</code> для совместимости, но в таком случае тест выполняет проверку похожую на одностороннюю, что не корректно для нашего теста. Для получения правильных результатов нужно использовать <code>alternative=\"two-sided\"</code>\n",
    "* важно формулировать гипотезы перед проверками (в случае всех тестов), поэтому, пожалуйста, сформулируй `альтернативную` и `нулевую` гипотезы \n",
    "* разницу в конверсии можно выразить в процентах: для этого здесь `3f` можно использовать знак процента."
   ]
  },
  {
   "cell_type": "markdown",
   "metadata": {},
   "source": [
    "<div class=\"alert alert-success\">\n",
    "<h2> Комментарий Лены <a class=\"tocSkip\"> </h2>\n",
    "\n",
    "    \n",
    "сделала:\n",
    "    \n",
    "* я добавила alternative=\"two-sided\" только для отчищенныъ данных, но не поняла, почему такого не было в практикуме - ситуация буквально одтна и та же \n",
    "    \n",
    "* добавила нулевую гипотезу, но что именно покащывает снижение pvalue в этом случае? Что мы подтвердили гипотезу в для чистых данных и опровергли для сырых?"
   ]
  },
  {
   "cell_type": "markdown",
   "metadata": {},
   "source": [
    "<div class=\"alert alert-warning\">\n",
    "    <h2> Комментарий ревьюера: вторая итерация ревью<a class=\"tocSkip\"> </h2>\n",
    "    \n",
    "<b>Некоторые замечания и рекомендации💡:</b> \n",
    "        \n",
    "Отвечая на твои вопросы:\n",
    "        \n",
    "* ревью для того и есть, чтобы дать немного больше, чем дает теория в тренажере😉, это чуть более углубленный уровень. Вообще в проверке гипотез очень много подводных камней и нюансов, в тренажере дается базовая теория, но на самом деле тонкостей хватает\n",
    "        \n",
    "Подробнее про проблему выбора теста (одностороннего или двустороннего ты можешь почитать по ссылкам ниже:\n",
    "        \n",
    "`A two-tailed test is appropriate if you want to determine if there is any difference between the groups you are comparing. For instance, if you want to see if Group A scored higher or lower than Group B, then you would want to use a two-tailed test. This is because a two-tailed test uses both the positive and negative tails of the distribution. In other words, it tests for the possibility of positive or negative differences.`\n",
    "\n",
    "`A one-tailed test is appropriate if you only want to determine if there is a difference between groups in a specific direction. So, if you are only interested in determining if Group A scored higher than Group B, and you are completely uninterested in possibility of Group A scoring lower than Group B, then you may want to use a one-tailed test.`\n",
    "    \n",
    "Источник: https://www.statisticssolutions.com/should-you-use-a-one-tailed-test-or-a-two-tailed-test-for-your-data-analysis/#:~:text=This%20is%20because%20a%20two,groups%20in%20a%20specific%20direction.\n",
    "    \n",
    "И еще несколько ссылок по этому вопросу:\n",
    "    \n",
    "https://sphweb.bumc.bu.edu/otlt/mph-modules/bs/bs704_nonparametric/bs704_nonparametric4.html\n",
    "    \n",
    "https://stats.idre.ucla.edu/other/mult-pkg/faq/general/faq-what-are-the-differences-between-one-tailed-and-two-tailed-tests/\n",
    "    \n",
    "https://www.statisticshowto.com/probability-and-statistics/hypothesis-testing/one-tailed-test-or-two/\n",
    "        \n",
    "* во-первых, в статистике невозможно \"подтвердить\" гипотезу, можно либо обнаружить статистически значимые различия, т.е. принять альтернативную гипотезу и таким образом опровергнуть нулевую гипотезу, или наоборот; во-вторых, ты проверяешь гипотезы (нулевую и альтернативную) в каждом случае, как на сырых, так и на очищенных данных. Т.е. в каждом из случаев важно формулировать нулевую и альтернативную гипотезы и в каждом случае (сырые и очищенные данные) ты будешь либо принимать альтернативную гипотезу и отвергать нулевую или наоборот.\n",
    "        \n",
    "Пример:\n",
    "`Посчитайте статистическую значимость различий в среднем чеке заказа между группами по «сырым» данным.`\n",
    "        \n",
    "`H0 - \"Средний чек заказа в группе А равен среднему чеку заказа в группе В\". H1 \"Средний чек заказа в группе А НЕ равен среднему чеку заказа в группе В\".` (в случае сырых данных)\n",
    "        \n",
    "`Посчитайте статистическую значимость различий в среднем чеке заказа между группами по «очищенным» данным. Сделайте выводы и предположения.`\n",
    "        \n",
    "`H0 - \"Средний чек заказа в группе А равен среднему чеку заказа в группе В\".  H1: \"Cредний чек заказа в группе А НЕ равен среднему чеку заказа в группе В\"` (в случае очищенных данных)"
   ]
  },
  {
   "cell_type": "markdown",
   "metadata": {},
   "source": [
    "# Вывод <a id=\"вывод\"></a>"
   ]
  },
  {
   "cell_type": "code",
   "execution_count": 34,
   "metadata": {},
   "outputs": [
    {
     "data": {
      "text/plain": [
       "group\n",
       "A    18736\n",
       "B    18916\n",
       "Name: visitors, dtype: int64"
      ]
     },
     "execution_count": 34,
     "metadata": {},
     "output_type": "execute_result"
    }
   ],
   "source": [
    "visitors.groupby('group')['visitors'].sum()"
   ]
  },
  {
   "cell_type": "markdown",
   "metadata": {},
   "source": [
    "Проанализировав данные, можно сдлеать вывод, что нет статистически значимого различия по конверсии между группами ни по «сырым», ни по данным после фильтрации аномалий;\n",
    "Нет статистически значимого различия по среднему чеку между группами ни по «сырым», ни по данным после фильтрации аномалий;\n",
    "График различия конверсии между группами сообщает, что результаты группы B хуже группы A и нет значительной тенденции к улучшению.\n",
    "Исходя из фактов выше нам следует остановить тест, признать его успешным и перейти к проверке следующей гипотезы.\n",
    "\n",
    "Вероятной причиной проблемы может быть некоректное деление трафика.  Например, пользователи распределились между сегментами неравномерно или не в соответствии с указанными долями, либо когда структура трафика различная.\n",
    "\n",
    "Разные доли также искажают результаты. Видим, что группы нашего теста делятся не 50 на 50, а 49 на 51,  относительное различие количества пользователей будет равно 1-49/51=0.0392 — почти 4%. В нашем случае разница между выручкой составляет 24%, но она улучшилась при отчистке данных. Следует брать в расчет только одинаковые доли, иначе рещультат может быть искажен."
   ]
  },
  {
   "cell_type": "markdown",
   "metadata": {},
   "source": [
    "<div style=\"border:solid Chocolate 2px; padding: 40px\">\n",
    "\n",
    "**Общий вывод по проекту**\n",
    "\n",
    "Елена, спасибо за твой проект! Ты приложила много усилий, чтобы довести его до конца, все задачи в рамках проекта тебе удалось успешно решить, это видно невооруженным глазом, отличная работа! Однако, есть несколько важных моментов, которые стоит улучшить, чтобы проект стал действительно идеальным!\n",
    "\n",
    "**Отмечу отдельные положительные моменты проекта🙂**:\n",
    "* На разных шагах проекта ты предлагала очень интересные решения и методы для их реализации. Хорошая работа!\n",
    "* Ты активно работала с визуализацией, хорошо, что ты не избегаешь этого инструмента для анализа и используешь его на полную! \n",
    "* Ты использовала разные методы для работы с данными, круто, что ты владеешь ими и можешь применять на практике.\n",
    "* Ты формулировала выводы на каждом шаге анализа, виден твой аналитический подход.\n",
    "* Тест для тестирования гипотез был выбран корректно.\n",
    "\n",
    "    \n",
    "**На что стоит обратить внимание:🙂**:\n",
    "\n",
    "*  На первом шаге анализа можно проверить пользователей по группам, есть ли пересечения и если да решить, что делать с такими пользователями.\n",
    "* Важно доработать анализ A/B теста (two-sided alternative) \n",
    "* Стоит сформулировать все пары гипотез в случае каждого теста.\n",
    "* Можно скорректировать графики\n",
    "* Остальные рекомендации ты найдешь в моих комментариях\n",
    "    \n",
    "**Желаю удачи и жду твой проект на повторное ревью!**😉\n",
    "    \n",
    "![gif](https://media.giphy.com/media/USV0ym3bVWQJJmNu3N/giphy.gif)"
   ]
  },
  {
   "cell_type": "markdown",
   "metadata": {},
   "source": [
    "<div style=\"border:solid Chocolate 2px; padding: 40px\">\n",
    "\n",
    "**Общий вывод по проекту: вторая итерация ревью**\n",
    "\n",
    "Елена, спасибо, что прислала проект с доработками! Основное тебе в целом удалось скорректировать, хотя нюансы в формулировании гипотез все еще есть, я оставила свои поясняющие комментарии, надеюсь, они будут понятны. В следующий раз, пожалуйста, старайся также обращать внимание на желтые блоки, это может быть полезным🙂\n",
    "\n",
    "В целом работа выполнена хорошо, поэтому спешу тебе сообщить, что твой проект принят и ты можешь перейти на следующий спринт!\n",
    "    \n",
    "**Желаю тебе крутых и интересных проектов на следующих спринтах!**😉\n",
    "![gif](https://media.giphy.com/media/xUA7aSXE8lpQ7REDfi/giphy.gif)"
   ]
  },
  {
   "cell_type": "code",
   "execution_count": null,
   "metadata": {},
   "outputs": [],
   "source": []
  }
 ],
 "metadata": {
  "ExecuteTimeLog": [
   {
    "duration": 1629,
    "start_time": "2021-07-30T17:03:50.605Z"
   },
   {
    "duration": 87,
    "start_time": "2021-07-30T17:03:52.237Z"
   },
   {
    "duration": 165,
    "start_time": "2021-07-30T17:03:52.327Z"
   },
   {
    "duration": 136,
    "start_time": "2021-07-30T17:03:52.496Z"
   },
   {
    "duration": 23,
    "start_time": "2021-07-30T17:03:52.635Z"
   },
   {
    "duration": 20,
    "start_time": "2021-07-30T17:03:52.660Z"
   },
   {
    "duration": 97,
    "start_time": "2021-07-30T17:03:52.684Z"
   },
   {
    "duration": 28,
    "start_time": "2021-07-30T17:03:52.787Z"
   },
   {
    "duration": 52,
    "start_time": "2021-07-30T17:03:52.818Z"
   },
   {
    "duration": 19,
    "start_time": "2021-07-30T17:03:52.873Z"
   },
   {
    "duration": 24,
    "start_time": "2021-07-30T17:03:52.896Z"
   },
   {
    "duration": 1569,
    "start_time": "2021-07-30T17:03:52.923Z"
   },
   {
    "duration": 766,
    "start_time": "2021-07-30T17:03:54.496Z"
   },
   {
    "duration": 748,
    "start_time": "2021-07-30T17:03:55.269Z"
   },
   {
    "duration": 798,
    "start_time": "2021-07-30T17:03:56.020Z"
   },
   {
    "duration": 669,
    "start_time": "2021-07-30T17:03:56.821Z"
   },
   {
    "duration": 6,
    "start_time": "2021-07-30T17:03:57.493Z"
   },
   {
    "duration": 265,
    "start_time": "2021-07-30T17:03:57.502Z"
   },
   {
    "duration": 282,
    "start_time": "2021-07-30T17:03:57.770Z"
   },
   {
    "duration": 443,
    "start_time": "2021-07-30T17:03:58.054Z"
   },
   {
    "duration": 6,
    "start_time": "2021-07-30T17:03:58.500Z"
   },
   {
    "duration": 316,
    "start_time": "2021-07-30T17:03:58.508Z"
   },
   {
    "duration": 466,
    "start_time": "2021-07-30T17:03:58.829Z"
   },
   {
    "duration": 6,
    "start_time": "2021-07-30T17:03:59.298Z"
   },
   {
    "duration": 313,
    "start_time": "2021-07-30T17:03:59.306Z"
   },
   {
    "duration": 314,
    "start_time": "2021-07-30T17:03:59.621Z"
   },
   {
    "duration": 247,
    "start_time": "2021-07-30T17:03:59.937Z"
   },
   {
    "duration": 15,
    "start_time": "2021-07-30T17:04:00.188Z"
   },
   {
    "duration": 14,
    "start_time": "2021-07-30T17:04:00.205Z"
   },
   {
    "duration": 47,
    "start_time": "2021-07-30T17:04:00.222Z"
   },
   {
    "duration": 13,
    "start_time": "2021-07-30T17:04:00.283Z"
   },
   {
    "duration": 32,
    "start_time": "2021-07-30T17:04:00.299Z"
   },
   {
    "duration": 24,
    "start_time": "2021-07-30T17:04:00.333Z"
   },
   {
    "duration": 268,
    "start_time": "2021-07-31T05:34:19.407Z"
   },
   {
    "duration": 1026,
    "start_time": "2021-07-31T05:34:26.596Z"
   },
   {
    "duration": 137,
    "start_time": "2021-07-31T05:34:27.624Z"
   },
   {
    "duration": 130,
    "start_time": "2021-07-31T05:34:27.763Z"
   },
   {
    "duration": 76,
    "start_time": "2021-07-31T05:34:27.895Z"
   },
   {
    "duration": 13,
    "start_time": "2021-07-31T05:34:27.973Z"
   },
   {
    "duration": 10,
    "start_time": "2021-07-31T05:34:27.987Z"
   },
   {
    "duration": 27,
    "start_time": "2021-07-31T05:34:27.998Z"
   },
   {
    "duration": 15,
    "start_time": "2021-07-31T05:34:28.027Z"
   },
   {
    "duration": 47,
    "start_time": "2021-07-31T05:34:28.045Z"
   },
   {
    "duration": 10,
    "start_time": "2021-07-31T05:34:28.094Z"
   },
   {
    "duration": 8,
    "start_time": "2021-07-31T05:34:28.106Z"
   },
   {
    "duration": 729,
    "start_time": "2021-07-31T05:34:28.116Z"
   },
   {
    "duration": 347,
    "start_time": "2021-07-31T05:34:28.846Z"
   },
   {
    "duration": 322,
    "start_time": "2021-07-31T05:34:29.195Z"
   },
   {
    "duration": 408,
    "start_time": "2021-07-31T05:34:29.518Z"
   },
   {
    "duration": 430,
    "start_time": "2021-07-31T05:34:29.928Z"
   },
   {
    "duration": 4,
    "start_time": "2021-07-31T05:34:30.360Z"
   },
   {
    "duration": 153,
    "start_time": "2021-07-31T05:34:30.365Z"
   },
   {
    "duration": 158,
    "start_time": "2021-07-31T05:34:30.520Z"
   },
   {
    "duration": 268,
    "start_time": "2021-07-31T05:34:30.680Z"
   },
   {
    "duration": 4,
    "start_time": "2021-07-31T05:34:30.950Z"
   },
   {
    "duration": 166,
    "start_time": "2021-07-31T05:34:30.955Z"
   },
   {
    "duration": 254,
    "start_time": "2021-07-31T05:34:31.123Z"
   },
   {
    "duration": 4,
    "start_time": "2021-07-31T05:34:31.378Z"
   },
   {
    "duration": 176,
    "start_time": "2021-07-31T05:34:31.391Z"
   },
   {
    "duration": 153,
    "start_time": "2021-07-31T05:34:31.569Z"
   },
   {
    "duration": 116,
    "start_time": "2021-07-31T05:34:31.726Z"
   },
   {
    "duration": 9,
    "start_time": "2021-07-31T05:34:31.844Z"
   },
   {
    "duration": 8,
    "start_time": "2021-07-31T05:34:31.855Z"
   },
   {
    "duration": 7,
    "start_time": "2021-07-31T05:34:31.864Z"
   },
   {
    "duration": 23,
    "start_time": "2021-07-31T05:34:31.872Z"
   },
   {
    "duration": 320,
    "start_time": "2021-07-31T05:34:31.896Z"
   },
   {
    "duration": 2156,
    "start_time": "2021-07-31T05:34:30.062Z"
   },
   {
    "duration": 259,
    "start_time": "2021-07-31T05:34:57.413Z"
   },
   {
    "duration": 21,
    "start_time": "2021-07-31T05:35:10.052Z"
   },
   {
    "duration": 19,
    "start_time": "2021-07-31T05:39:07.249Z"
   },
   {
    "duration": 19,
    "start_time": "2021-07-31T05:39:21.328Z"
   },
   {
    "duration": 18,
    "start_time": "2021-07-31T05:39:33.349Z"
   },
   {
    "duration": 19,
    "start_time": "2021-07-31T05:39:42.049Z"
   },
   {
    "duration": 18,
    "start_time": "2021-07-31T05:40:02.619Z"
   },
   {
    "duration": 96,
    "start_time": "2021-07-31T05:41:57.248Z"
   },
   {
    "duration": 660,
    "start_time": "2021-07-31T05:42:03.624Z"
   },
   {
    "duration": 20,
    "start_time": "2021-07-31T05:42:11.548Z"
   },
   {
    "duration": 18,
    "start_time": "2021-07-31T05:44:44.448Z"
   },
   {
    "duration": 19,
    "start_time": "2021-07-31T05:44:50.768Z"
   },
   {
    "duration": 18,
    "start_time": "2021-07-31T05:44:57.719Z"
   },
   {
    "duration": 6,
    "start_time": "2021-07-31T05:45:24.849Z"
   },
   {
    "duration": 11,
    "start_time": "2021-07-31T05:48:33.088Z"
   },
   {
    "duration": 11,
    "start_time": "2021-07-31T05:48:53.748Z"
   },
   {
    "duration": 11,
    "start_time": "2021-07-31T05:49:24.918Z"
   },
   {
    "duration": 10,
    "start_time": "2021-07-31T05:49:38.439Z"
   },
   {
    "duration": 11,
    "start_time": "2021-07-31T05:49:58.448Z"
   },
   {
    "duration": 114,
    "start_time": "2021-07-31T05:50:25.629Z"
   },
   {
    "duration": 11,
    "start_time": "2021-07-31T06:01:06.052Z"
   },
   {
    "duration": 250,
    "start_time": "2021-07-31T06:01:46.852Z"
   },
   {
    "duration": 14,
    "start_time": "2021-07-31T06:01:52.101Z"
   },
   {
    "duration": 9,
    "start_time": "2021-07-31T06:02:37.631Z"
   },
   {
    "duration": 8,
    "start_time": "2021-07-31T06:06:38.681Z"
   },
   {
    "duration": 10,
    "start_time": "2021-07-31T06:06:57.712Z"
   },
   {
    "duration": 4,
    "start_time": "2021-07-31T06:08:38.532Z"
   },
   {
    "duration": 7,
    "start_time": "2021-07-31T06:08:43.408Z"
   },
   {
    "duration": 13,
    "start_time": "2021-07-31T06:10:13.471Z"
   },
   {
    "duration": 76,
    "start_time": "2021-07-31T06:10:47.333Z"
   },
   {
    "duration": 80,
    "start_time": "2021-07-31T06:10:54.301Z"
   },
   {
    "duration": 80,
    "start_time": "2021-07-31T06:11:27.219Z"
   },
   {
    "duration": 78,
    "start_time": "2021-07-31T06:11:36.662Z"
   },
   {
    "duration": 81,
    "start_time": "2021-07-31T06:11:41.731Z"
   },
   {
    "duration": 12,
    "start_time": "2021-07-31T06:12:12.052Z"
   },
   {
    "duration": 7,
    "start_time": "2021-07-31T06:13:08.432Z"
   },
   {
    "duration": 10,
    "start_time": "2021-07-31T06:13:13.172Z"
   },
   {
    "duration": 8,
    "start_time": "2021-07-31T06:13:23.051Z"
   },
   {
    "duration": 12,
    "start_time": "2021-07-31T06:13:35.251Z"
   },
   {
    "duration": 250,
    "start_time": "2021-07-31T06:14:19.801Z"
   },
   {
    "duration": 8,
    "start_time": "2021-07-31T06:14:20.411Z"
   },
   {
    "duration": 1020,
    "start_time": "2021-07-31T06:14:29.310Z"
   },
   {
    "duration": 47,
    "start_time": "2021-07-31T06:14:30.332Z"
   },
   {
    "duration": 49,
    "start_time": "2021-07-31T06:14:30.381Z"
   },
   {
    "duration": 45,
    "start_time": "2021-07-31T06:14:30.432Z"
   },
   {
    "duration": 13,
    "start_time": "2021-07-31T06:14:30.479Z"
   },
   {
    "duration": 19,
    "start_time": "2021-07-31T06:14:30.493Z"
   },
   {
    "duration": 41,
    "start_time": "2021-07-31T06:14:30.514Z"
   },
   {
    "duration": 18,
    "start_time": "2021-07-31T06:14:30.557Z"
   },
   {
    "duration": 17,
    "start_time": "2021-07-31T06:14:30.592Z"
   },
   {
    "duration": 11,
    "start_time": "2021-07-31T06:14:30.612Z"
   },
   {
    "duration": 10,
    "start_time": "2021-07-31T06:14:30.625Z"
   },
   {
    "duration": 642,
    "start_time": "2021-07-31T06:14:30.637Z"
   },
   {
    "duration": 353,
    "start_time": "2021-07-31T06:14:31.281Z"
   },
   {
    "duration": 328,
    "start_time": "2021-07-31T06:14:31.636Z"
   },
   {
    "duration": 467,
    "start_time": "2021-07-31T06:14:31.966Z"
   },
   {
    "duration": 328,
    "start_time": "2021-07-31T06:14:32.435Z"
   },
   {
    "duration": 4,
    "start_time": "2021-07-31T06:14:32.765Z"
   },
   {
    "duration": 131,
    "start_time": "2021-07-31T06:14:32.771Z"
   },
   {
    "duration": 142,
    "start_time": "2021-07-31T06:14:32.904Z"
   },
   {
    "duration": 255,
    "start_time": "2021-07-31T06:14:33.047Z"
   },
   {
    "duration": 4,
    "start_time": "2021-07-31T06:14:33.303Z"
   },
   {
    "duration": 164,
    "start_time": "2021-07-31T06:14:33.308Z"
   },
   {
    "duration": 289,
    "start_time": "2021-07-31T06:14:33.474Z"
   },
   {
    "duration": 3,
    "start_time": "2021-07-31T06:14:33.765Z"
   },
   {
    "duration": 28,
    "start_time": "2021-07-31T06:14:33.770Z"
   },
   {
    "duration": 7,
    "start_time": "2021-07-31T06:14:33.799Z"
   },
   {
    "duration": 15,
    "start_time": "2021-07-31T06:14:33.809Z"
   },
   {
    "duration": 183,
    "start_time": "2021-07-31T06:14:33.826Z"
   },
   {
    "duration": 337,
    "start_time": "2021-07-31T06:14:34.011Z"
   },
   {
    "duration": 2026,
    "start_time": "2021-07-31T06:14:32.323Z"
   },
   {
    "duration": 2024,
    "start_time": "2021-07-31T06:14:32.326Z"
   },
   {
    "duration": 2018,
    "start_time": "2021-07-31T06:14:32.333Z"
   },
   {
    "duration": 2017,
    "start_time": "2021-07-31T06:14:32.335Z"
   },
   {
    "duration": 2017,
    "start_time": "2021-07-31T06:14:32.336Z"
   },
   {
    "duration": 2016,
    "start_time": "2021-07-31T06:14:32.338Z"
   },
   {
    "duration": 2015,
    "start_time": "2021-07-31T06:14:32.340Z"
   },
   {
    "duration": 141,
    "start_time": "2021-07-31T06:15:15.655Z"
   },
   {
    "duration": 284,
    "start_time": "2021-07-31T06:15:18.926Z"
   },
   {
    "duration": 112,
    "start_time": "2021-07-31T06:15:29.056Z"
   },
   {
    "duration": 10,
    "start_time": "2021-07-31T06:15:31.735Z"
   },
   {
    "duration": 1916,
    "start_time": "2021-07-31T06:15:38.815Z"
   },
   {
    "duration": 9,
    "start_time": "2021-07-31T06:15:43.495Z"
   },
   {
    "duration": 9,
    "start_time": "2021-07-31T06:15:44.775Z"
   },
   {
    "duration": 11,
    "start_time": "2021-07-31T06:15:45.095Z"
   },
   {
    "duration": 5734,
    "start_time": "2021-07-31T06:15:46.205Z"
   },
   {
    "duration": 5773,
    "start_time": "2021-07-31T06:15:55.616Z"
   },
   {
    "duration": 322,
    "start_time": "2021-07-31T06:16:40.886Z"
   },
   {
    "duration": 6,
    "start_time": "2021-07-31T06:18:33.267Z"
   },
   {
    "duration": 9,
    "start_time": "2021-07-31T06:18:38.026Z"
   },
   {
    "duration": 324,
    "start_time": "2021-07-31T06:21:29.316Z"
   },
   {
    "duration": 311,
    "start_time": "2021-07-31T06:21:37.337Z"
   },
   {
    "duration": 14,
    "start_time": "2021-07-31T06:22:37.576Z"
   },
   {
    "duration": 19,
    "start_time": "2021-07-31T06:23:44.385Z"
   },
   {
    "duration": 5835,
    "start_time": "2021-07-31T06:24:34.036Z"
   },
   {
    "duration": 19,
    "start_time": "2021-07-31T06:24:52.777Z"
   },
   {
    "duration": 10,
    "start_time": "2021-07-31T06:25:26.215Z"
   },
   {
    "duration": 13,
    "start_time": "2021-07-31T06:25:29.824Z"
   },
   {
    "duration": 16,
    "start_time": "2021-07-31T06:25:48.935Z"
   },
   {
    "duration": 20,
    "start_time": "2021-07-31T06:26:09.695Z"
   },
   {
    "duration": 20,
    "start_time": "2021-07-31T06:26:49.175Z"
   },
   {
    "duration": 14,
    "start_time": "2021-07-31T06:26:59.024Z"
   },
   {
    "duration": 16,
    "start_time": "2021-07-31T06:27:04.224Z"
   },
   {
    "duration": 14,
    "start_time": "2021-07-31T06:28:05.945Z"
   },
   {
    "duration": 290,
    "start_time": "2021-07-31T06:28:33.815Z"
   },
   {
    "duration": 14,
    "start_time": "2021-07-31T06:28:55.645Z"
   },
   {
    "duration": 319,
    "start_time": "2021-07-31T06:29:45.205Z"
   },
   {
    "duration": 248,
    "start_time": "2021-07-31T06:30:05.866Z"
   },
   {
    "duration": 8,
    "start_time": "2021-07-31T06:30:14.766Z"
   },
   {
    "duration": 311,
    "start_time": "2021-07-31T06:30:21.376Z"
   },
   {
    "duration": 272,
    "start_time": "2021-07-31T06:30:32.845Z"
   },
   {
    "duration": 9,
    "start_time": "2021-07-31T06:31:05.985Z"
   },
   {
    "duration": 17,
    "start_time": "2021-07-31T06:31:27.165Z"
   },
   {
    "duration": 279,
    "start_time": "2021-07-31T06:40:39.455Z"
   },
   {
    "duration": 360,
    "start_time": "2021-07-31T06:41:19.015Z"
   },
   {
    "duration": 276,
    "start_time": "2021-07-31T06:41:32.055Z"
   },
   {
    "duration": 268,
    "start_time": "2021-07-31T06:42:18.056Z"
   },
   {
    "duration": 327,
    "start_time": "2021-07-31T06:43:19.566Z"
   },
   {
    "duration": 289,
    "start_time": "2021-07-31T06:43:32.215Z"
   },
   {
    "duration": 387,
    "start_time": "2021-07-31T06:43:44.315Z"
   },
   {
    "duration": 1309,
    "start_time": "2021-07-31T10:18:23.774Z"
   },
   {
    "duration": 69,
    "start_time": "2021-07-31T10:18:25.086Z"
   },
   {
    "duration": 71,
    "start_time": "2021-07-31T10:18:25.158Z"
   },
   {
    "duration": 91,
    "start_time": "2021-07-31T10:18:25.232Z"
   },
   {
    "duration": 20,
    "start_time": "2021-07-31T10:18:25.326Z"
   },
   {
    "duration": 16,
    "start_time": "2021-07-31T10:18:25.348Z"
   },
   {
    "duration": 43,
    "start_time": "2021-07-31T10:18:25.366Z"
   },
   {
    "duration": 22,
    "start_time": "2021-07-31T10:18:25.412Z"
   },
   {
    "duration": 58,
    "start_time": "2021-07-31T10:18:25.436Z"
   },
   {
    "duration": 17,
    "start_time": "2021-07-31T10:18:25.496Z"
   },
   {
    "duration": 14,
    "start_time": "2021-07-31T10:18:25.515Z"
   },
   {
    "duration": 1095,
    "start_time": "2021-07-31T10:18:25.531Z"
   },
   {
    "duration": 592,
    "start_time": "2021-07-31T10:18:26.628Z"
   },
   {
    "duration": 582,
    "start_time": "2021-07-31T10:18:27.222Z"
   },
   {
    "duration": 675,
    "start_time": "2021-07-31T10:18:27.807Z"
   },
   {
    "duration": 579,
    "start_time": "2021-07-31T10:18:28.485Z"
   },
   {
    "duration": 16,
    "start_time": "2021-07-31T10:18:29.066Z"
   },
   {
    "duration": 199,
    "start_time": "2021-07-31T10:18:29.084Z"
   },
   {
    "duration": 243,
    "start_time": "2021-07-31T10:18:29.286Z"
   },
   {
    "duration": 357,
    "start_time": "2021-07-31T10:18:29.531Z"
   },
   {
    "duration": 5,
    "start_time": "2021-07-31T10:18:29.890Z"
   },
   {
    "duration": 285,
    "start_time": "2021-07-31T10:18:29.897Z"
   },
   {
    "duration": 374,
    "start_time": "2021-07-31T10:18:30.187Z"
   },
   {
    "duration": 6,
    "start_time": "2021-07-31T10:18:30.564Z"
   },
   {
    "duration": 643,
    "start_time": "2021-07-31T10:18:30.582Z"
   },
   {
    "duration": 188,
    "start_time": "2021-07-31T10:18:31.227Z"
   },
   {
    "duration": 317,
    "start_time": "2021-07-31T10:18:31.417Z"
   },
   {
    "duration": 218,
    "start_time": "2021-07-31T10:18:31.737Z"
   },
   {
    "duration": 24,
    "start_time": "2021-07-31T10:18:31.958Z"
   },
   {
    "duration": 14,
    "start_time": "2021-07-31T10:18:31.985Z"
   },
   {
    "duration": 17,
    "start_time": "2021-07-31T10:18:32.002Z"
   },
   {
    "duration": 21,
    "start_time": "2021-07-31T10:18:32.021Z"
   },
   {
    "duration": 55,
    "start_time": "2021-07-31T10:18:32.045Z"
   },
   {
    "duration": 9,
    "start_time": "2021-07-31T10:18:32.102Z"
   },
   {
    "duration": 1300,
    "start_time": "2021-08-01T05:26:24.134Z"
   },
   {
    "duration": 121,
    "start_time": "2021-08-01T05:26:25.437Z"
   },
   {
    "duration": 163,
    "start_time": "2021-08-01T05:26:25.561Z"
   },
   {
    "duration": 102,
    "start_time": "2021-08-01T05:26:25.727Z"
   },
   {
    "duration": 20,
    "start_time": "2021-08-01T05:26:25.832Z"
   },
   {
    "duration": 20,
    "start_time": "2021-08-01T05:26:25.854Z"
   },
   {
    "duration": 52,
    "start_time": "2021-08-01T05:26:25.876Z"
   },
   {
    "duration": 24,
    "start_time": "2021-08-01T05:26:25.956Z"
   },
   {
    "duration": 18,
    "start_time": "2021-08-01T05:26:25.984Z"
   },
   {
    "duration": 16,
    "start_time": "2021-08-01T05:26:26.005Z"
   },
   {
    "duration": 12,
    "start_time": "2021-08-01T05:26:26.057Z"
   },
   {
    "duration": 1089,
    "start_time": "2021-08-01T05:26:26.071Z"
   },
   {
    "duration": 703,
    "start_time": "2021-08-01T05:26:27.163Z"
   },
   {
    "duration": 560,
    "start_time": "2021-08-01T05:26:27.869Z"
   },
   {
    "duration": 663,
    "start_time": "2021-08-01T05:26:28.431Z"
   },
   {
    "duration": 577,
    "start_time": "2021-08-01T05:26:29.096Z"
   },
   {
    "duration": 6,
    "start_time": "2021-08-01T05:26:29.675Z"
   },
   {
    "duration": 210,
    "start_time": "2021-08-01T05:26:29.683Z"
   },
   {
    "duration": 388,
    "start_time": "2021-08-01T05:26:29.896Z"
   },
   {
    "duration": 344,
    "start_time": "2021-08-01T05:26:30.286Z"
   },
   {
    "duration": 5,
    "start_time": "2021-08-01T05:26:30.633Z"
   },
   {
    "duration": 270,
    "start_time": "2021-08-01T05:26:30.656Z"
   },
   {
    "duration": 407,
    "start_time": "2021-08-01T05:26:30.929Z"
   },
   {
    "duration": 5,
    "start_time": "2021-08-01T05:26:31.338Z"
   },
   {
    "duration": 637,
    "start_time": "2021-08-01T05:26:31.346Z"
   },
   {
    "duration": 196,
    "start_time": "2021-08-01T05:26:31.985Z"
   },
   {
    "duration": 280,
    "start_time": "2021-08-01T05:26:32.187Z"
   },
   {
    "duration": 230,
    "start_time": "2021-08-01T05:26:32.470Z"
   },
   {
    "duration": 13,
    "start_time": "2021-08-01T05:26:32.702Z"
   },
   {
    "duration": 13,
    "start_time": "2021-08-01T05:26:32.718Z"
   },
   {
    "duration": 11,
    "start_time": "2021-08-01T05:26:32.756Z"
   },
   {
    "duration": 28,
    "start_time": "2021-08-01T05:26:32.769Z"
   },
   {
    "duration": 29,
    "start_time": "2021-08-01T05:26:32.800Z"
   },
   {
    "duration": 29,
    "start_time": "2021-08-01T05:26:32.831Z"
   },
   {
    "duration": 480,
    "start_time": "2021-08-01T05:27:08.113Z"
   },
   {
    "duration": 7074,
    "start_time": "2021-08-01T05:27:13.084Z"
   },
   {
    "duration": 6569,
    "start_time": "2021-08-01T05:27:30.524Z"
   },
   {
    "duration": 272,
    "start_time": "2021-08-01T05:27:53.155Z"
   },
   {
    "duration": 224,
    "start_time": "2021-08-01T05:28:05.794Z"
   },
   {
    "duration": 16,
    "start_time": "2021-08-01T05:28:09.633Z"
   },
   {
    "duration": 13,
    "start_time": "2021-08-01T05:28:11.424Z"
   },
   {
    "duration": 11,
    "start_time": "2021-08-01T05:28:14.285Z"
   },
   {
    "duration": 15,
    "start_time": "2021-08-01T05:28:15.345Z"
   },
   {
    "duration": 30,
    "start_time": "2021-08-01T05:28:20.014Z"
   },
   {
    "duration": 1219,
    "start_time": "2021-08-01T05:29:13.607Z"
   },
   {
    "duration": 80,
    "start_time": "2021-08-01T05:29:14.829Z"
   },
   {
    "duration": 71,
    "start_time": "2021-08-01T05:29:14.912Z"
   },
   {
    "duration": 66,
    "start_time": "2021-08-01T05:29:14.986Z"
   },
   {
    "duration": 22,
    "start_time": "2021-08-01T05:29:15.054Z"
   },
   {
    "duration": 33,
    "start_time": "2021-08-01T05:29:15.079Z"
   },
   {
    "duration": 52,
    "start_time": "2021-08-01T05:29:15.114Z"
   },
   {
    "duration": 24,
    "start_time": "2021-08-01T05:29:15.168Z"
   },
   {
    "duration": 19,
    "start_time": "2021-08-01T05:29:15.196Z"
   },
   {
    "duration": 54,
    "start_time": "2021-08-01T05:29:15.218Z"
   },
   {
    "duration": 14,
    "start_time": "2021-08-01T05:29:15.274Z"
   },
   {
    "duration": 1152,
    "start_time": "2021-08-01T05:29:15.291Z"
   },
   {
    "duration": 610,
    "start_time": "2021-08-01T05:29:16.446Z"
   },
   {
    "duration": 611,
    "start_time": "2021-08-01T05:29:17.058Z"
   },
   {
    "duration": 651,
    "start_time": "2021-08-01T05:29:17.672Z"
   },
   {
    "duration": 603,
    "start_time": "2021-08-01T05:29:18.325Z"
   },
   {
    "duration": 5,
    "start_time": "2021-08-01T05:29:18.931Z"
   },
   {
    "duration": 203,
    "start_time": "2021-08-01T05:29:18.938Z"
   },
   {
    "duration": 255,
    "start_time": "2021-08-01T05:29:19.143Z"
   },
   {
    "duration": 367,
    "start_time": "2021-08-01T05:29:19.400Z"
   },
   {
    "duration": 6,
    "start_time": "2021-08-01T05:29:19.770Z"
   },
   {
    "duration": 292,
    "start_time": "2021-08-01T05:29:19.778Z"
   },
   {
    "duration": 391,
    "start_time": "2021-08-01T05:29:20.073Z"
   },
   {
    "duration": 6,
    "start_time": "2021-08-01T05:29:20.467Z"
   },
   {
    "duration": 672,
    "start_time": "2021-08-01T05:29:20.475Z"
   },
   {
    "duration": 188,
    "start_time": "2021-08-01T05:29:21.150Z"
   },
   {
    "duration": 271,
    "start_time": "2021-08-01T05:29:21.359Z"
   },
   {
    "duration": 243,
    "start_time": "2021-08-01T05:29:21.633Z"
   },
   {
    "duration": 13,
    "start_time": "2021-08-01T05:29:21.879Z"
   },
   {
    "duration": 14,
    "start_time": "2021-08-01T05:29:21.894Z"
   },
   {
    "duration": 11,
    "start_time": "2021-08-01T05:29:21.910Z"
   },
   {
    "duration": 15,
    "start_time": "2021-08-01T05:29:21.956Z"
   },
   {
    "duration": 29,
    "start_time": "2021-08-01T05:29:21.973Z"
   },
   {
    "duration": 9,
    "start_time": "2021-08-01T05:29:22.004Z"
   },
   {
    "duration": 589,
    "start_time": "2021-08-01T05:49:09.567Z"
   },
   {
    "duration": 555,
    "start_time": "2021-08-01T05:49:27.927Z"
   },
   {
    "duration": 566,
    "start_time": "2021-08-01T05:49:54.527Z"
   },
   {
    "duration": 406,
    "start_time": "2021-08-01T05:51:04.727Z"
   },
   {
    "duration": 347,
    "start_time": "2021-08-01T05:51:08.287Z"
   },
   {
    "duration": 380,
    "start_time": "2021-08-01T05:51:27.967Z"
   },
   {
    "duration": 370,
    "start_time": "2021-08-01T05:51:40.486Z"
   },
   {
    "duration": 511,
    "start_time": "2021-08-01T05:51:47.647Z"
   },
   {
    "duration": 410,
    "start_time": "2021-08-01T05:51:57.007Z"
   }
  ],
  "kernelspec": {
   "display_name": "Python 3",
   "language": "python",
   "name": "python3"
  },
  "language_info": {
   "codemirror_mode": {
    "name": "ipython",
    "version": 3
   },
   "file_extension": ".py",
   "mimetype": "text/x-python",
   "name": "python",
   "nbconvert_exporter": "python",
   "pygments_lexer": "ipython3",
   "version": "3.7.8"
  },
  "toc": {
   "base_numbering": 1,
   "nav_menu": {},
   "number_sections": true,
   "sideBar": true,
   "skip_h1_title": true,
   "title_cell": "Table of Contents",
   "title_sidebar": "Contents",
   "toc_cell": false,
   "toc_position": {},
   "toc_section_display": true,
   "toc_window_display": false
  }
 },
 "nbformat": 4,
 "nbformat_minor": 4
}
