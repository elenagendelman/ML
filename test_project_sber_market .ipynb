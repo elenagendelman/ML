{
 "cells": [
  {
   "cell_type": "markdown",
   "metadata": {},
   "source": [
    "* [Метрики](#метрики)\n",
    "* [Разбор аномалий и закономерностей](#аномалий)\n",
    "   * [Разбор таблицы orders](#orders)\n",
    "       * [Разбор аномалий по сумме доставки](#доставки)\n",
    "       * [Разбор аномалий по колиечству товара](#количество)\n",
    "       * [Разбор аномалий по  среднему чеку](#чеку)\n",
    "       * [Чистка данных](#Чистка)\n",
    "       * [Среднее количествo покупателей](#покупателей) \n",
    "       * [Средний чек](#Срчек) \n",
    "       * [Средний вес](#вес)\n",
    "       * [Среднее количество товаров](#количествотоваров)\n",
    "       * [Средняя сумма доставки](#суммадоставки)\n",
    "       * [Разбор отмененных доставок](#отмененных)\n",
    "   * [Разбор таблицы replacements](#replacements)\n",
    "       * [Среднее количество замен](#замен) \n",
    "   * [Разбор таблицы cancellations](#cancellations)\n",
    "       * [Среднее количество отмен](#отмен) \n",
    "   * [Разбор таблицы delivery_windows](#delivery_windows)\n",
    "       * [Время одидания доставки](#ожидания) \n",
    "* [Вывод](#вывод) "
   ]
  },
  {
   "cell_type": "markdown",
   "metadata": {},
   "source": [
    "# Метрики <a id=\"метрики\"></a> "
   ]
  },
  {
   "cell_type": "markdown",
   "metadata": {},
   "source": [
    "Исходя из специфики индустрии и бизнес-модели СберМаркета, я бы отразила данные метрики:\n",
    "\n",
    "1. Метрики покупок DAU, WAU и MAU, чтобы понимать, в какое время дня, недели и месяца клиент покупает наибольшее количество товаров. Также актуально для распознования сезонной изменчивости, такой как Новогодние праздники, Черная пятница в ноябре и далее. Зная эту данные, можно предложить клиенту более актуальную рекламу или скидку.\n",
    "\n",
    "2. Одной из самых важных метрик можно считать средний чек за период или сезон. Понимая, сколько приносит каждый заказ, можно корректировать свою стратегию развития. Опираясь на значения трафика и конверсии, размер среднего чека позволяет прогнозировать выручку интернет-магазина.\n",
    "\n",
    "3. Метрика Отмен и Замен. Важно изучать, какую операцию с товаром, которого не оказлось в магазине, предпочитает клиент (заменять или отменять) и процент замененных товаров относительно отмененных заказов. Можно предположить, что если у нас намного больше отмен, чем замен, то покупателю могут плохо предоставлять опции замены или не дожидаться ответа клиента на звонок по поводу замены (позвонить в неподходящее время)\n",
    "\n",
    "4. \n",
    "    1. Имея данные за почти полтора года (а это наш нынешний фрейм), мы можем разделить наших покупателей на когорты и наблюдать за совокупной ценностью клиента за опреденный период. Когорты могут быть, например, такими: кто заказал один раз, кто сделал больше среднего количкства заказов и так далее. Важно считать ценность не всех клиентов сразу, а конкретной группы — так эффект от изменений получается более наглядными. \n",
    "\n",
    "    2. Так же в дальшнейшем можно привязать данные знания о клиентах к локациям и посмотреть, какой машазин \"проседает\" относительно других и начать выялвлять причину - все это можно связать с затратами на рекламу и смотреть на соотношение, когда наши точки выходят в плюс и выходит ли. \n",
    "\n",
    "5. Важно отметить, какое впечатление производит на покупателя доставщик, поскольку он - единтсвенное лицо, которое встречает покупатель за все время работы с приложением. В данном фрейме нет, но веротяно в целом имеется система оценки курьера, по которой можно судить в каких районах/городах курьеры наименее приятны покупателю и понять почему. "
   ]
  },
  {
   "cell_type": "markdown",
   "metadata": {},
   "source": [
    "# Разбор аномалий и закономерностей <a id=\"аномалий\"></a> "
   ]
  },
  {
   "cell_type": "code",
   "execution_count": 1,
   "metadata": {},
   "outputs": [],
   "source": [
    "import psycopg2\n",
    "import pandas as pd\n",
    "import plotly.express as px\n",
    "import matplotlib.pyplot as plt\n",
    "import seaborn as sns\n",
    "from matplotlib import pyplot\n",
    "import numpy as np\n",
    "import pylab as pl"
   ]
  },
  {
   "cell_type": "code",
   "execution_count": 2,
   "metadata": {},
   "outputs": [],
   "source": [
    "\n",
    "#import plotly_express as px\n",
    "\n",
    "pd.set_option('max_rows', 12)\n",
    "\n",
    "conn = psycopg2.connect(\n",
    "            host='rc1c-fhrb9f1e0l9g611h.mdb.yandexcloud.net',\n",
    "            port=6432,\n",
    "            dbname='hr-analytics',\n",
    "            sslmode='require',\n",
    "            user='analytics',\n",
    "            password='HRanalytics')\n",
    "\n",
    "cur = conn.cursor()"
   ]
  },
  {
   "cell_type": "markdown",
   "metadata": {},
   "source": [
    "##  Разбор таблицы orders <a id=\"orders\"></a> "
   ]
  },
  {
   "cell_type": "code",
   "execution_count": 3,
   "metadata": {},
   "outputs": [
    {
     "data": {
      "text/html": [
       "<div>\n",
       "<style scoped>\n",
       "    .dataframe tbody tr th:only-of-type {\n",
       "        vertical-align: middle;\n",
       "    }\n",
       "\n",
       "    .dataframe tbody tr th {\n",
       "        vertical-align: top;\n",
       "    }\n",
       "\n",
       "    .dataframe thead th {\n",
       "        text-align: right;\n",
       "    }\n",
       "</style>\n",
       "<table border=\"1\" class=\"dataframe\">\n",
       "  <thead>\n",
       "    <tr style=\"text-align: right;\">\n",
       "      <th></th>\n",
       "      <th>id</th>\n",
       "      <th>user_id</th>\n",
       "      <th>total_cost</th>\n",
       "      <th>cost</th>\n",
       "      <th>item_total</th>\n",
       "      <th>promo_total</th>\n",
       "      <th>total_weight</th>\n",
       "      <th>total_quantity</th>\n",
       "      <th>state</th>\n",
       "      <th>shipped_at</th>\n",
       "      <th>created_at</th>\n",
       "      <th>ship_address_id</th>\n",
       "      <th>store_id</th>\n",
       "      <th>delivery_window_id</th>\n",
       "      <th>created_at_year</th>\n",
       "      <th>created_at_month</th>\n",
       "      <th>created_at_month_year</th>\n",
       "    </tr>\n",
       "  </thead>\n",
       "  <tbody>\n",
       "    <tr>\n",
       "      <th>0</th>\n",
       "      <td>756927</td>\n",
       "      <td>139676</td>\n",
       "      <td>0.0</td>\n",
       "      <td>0.0</td>\n",
       "      <td>5015</td>\n",
       "      <td>0.0</td>\n",
       "      <td>37708</td>\n",
       "      <td>39</td>\n",
       "      <td>shipped</td>\n",
       "      <td>2018-08-26 15:01:42</td>\n",
       "      <td>2018-08-26 02:06:55</td>\n",
       "      <td>888330</td>\n",
       "      <td>1</td>\n",
       "      <td>226459</td>\n",
       "      <td>2018</td>\n",
       "      <td>8</td>\n",
       "      <td>2018-08</td>\n",
       "    </tr>\n",
       "    <tr>\n",
       "      <th>1</th>\n",
       "      <td>756963</td>\n",
       "      <td>139682</td>\n",
       "      <td>0.0</td>\n",
       "      <td>0.0</td>\n",
       "      <td>7096</td>\n",
       "      <td>0.0</td>\n",
       "      <td>49435</td>\n",
       "      <td>71</td>\n",
       "      <td>shipped</td>\n",
       "      <td>2018-08-26 16:28:41</td>\n",
       "      <td>2018-08-26 05:43:20</td>\n",
       "      <td>888394</td>\n",
       "      <td>1</td>\n",
       "      <td>226460</td>\n",
       "      <td>2018</td>\n",
       "      <td>8</td>\n",
       "      <td>2018-08</td>\n",
       "    </tr>\n",
       "    <tr>\n",
       "      <th>2</th>\n",
       "      <td>756983</td>\n",
       "      <td>63967</td>\n",
       "      <td>299.0</td>\n",
       "      <td>299.0</td>\n",
       "      <td>2724</td>\n",
       "      <td>-250.0</td>\n",
       "      <td>11590</td>\n",
       "      <td>32</td>\n",
       "      <td>shipped</td>\n",
       "      <td>2018-08-26 15:09:11</td>\n",
       "      <td>2018-08-26 06:12:13</td>\n",
       "      <td>888420</td>\n",
       "      <td>1</td>\n",
       "      <td>226459</td>\n",
       "      <td>2018</td>\n",
       "      <td>8</td>\n",
       "      <td>2018-08</td>\n",
       "    </tr>\n",
       "    <tr>\n",
       "      <th>3</th>\n",
       "      <td>756985</td>\n",
       "      <td>139687</td>\n",
       "      <td>0.0</td>\n",
       "      <td>0.0</td>\n",
       "      <td>3471</td>\n",
       "      <td>0.0</td>\n",
       "      <td>9915</td>\n",
       "      <td>13</td>\n",
       "      <td>shipped</td>\n",
       "      <td>2018-08-26 18:57:01</td>\n",
       "      <td>2018-08-26 06:13:59</td>\n",
       "      <td>888422</td>\n",
       "      <td>1</td>\n",
       "      <td>226462</td>\n",
       "      <td>2018</td>\n",
       "      <td>8</td>\n",
       "      <td>2018-08</td>\n",
       "    </tr>\n",
       "    <tr>\n",
       "      <th>4</th>\n",
       "      <td>757066</td>\n",
       "      <td>119006</td>\n",
       "      <td>299.0</td>\n",
       "      <td>299.0</td>\n",
       "      <td>1254</td>\n",
       "      <td>0.0</td>\n",
       "      <td>15022</td>\n",
       "      <td>24</td>\n",
       "      <td>shipped</td>\n",
       "      <td>2018-08-26 13:46:48</td>\n",
       "      <td>2018-08-26 07:40:58</td>\n",
       "      <td>870688</td>\n",
       "      <td>1</td>\n",
       "      <td>226458</td>\n",
       "      <td>2018</td>\n",
       "      <td>8</td>\n",
       "      <td>2018-08</td>\n",
       "    </tr>\n",
       "  </tbody>\n",
       "</table>\n",
       "</div>"
      ],
      "text/plain": [
       "       id  user_id  total_cost   cost  item_total  promo_total  total_weight  \\\n",
       "0  756927   139676         0.0    0.0        5015          0.0         37708   \n",
       "1  756963   139682         0.0    0.0        7096          0.0         49435   \n",
       "2  756983    63967       299.0  299.0        2724       -250.0         11590   \n",
       "3  756985   139687         0.0    0.0        3471          0.0          9915   \n",
       "4  757066   119006       299.0  299.0        1254          0.0         15022   \n",
       "\n",
       "   total_quantity    state          shipped_at          created_at  \\\n",
       "0              39  shipped 2018-08-26 15:01:42 2018-08-26 02:06:55   \n",
       "1              71  shipped 2018-08-26 16:28:41 2018-08-26 05:43:20   \n",
       "2              32  shipped 2018-08-26 15:09:11 2018-08-26 06:12:13   \n",
       "3              13  shipped 2018-08-26 18:57:01 2018-08-26 06:13:59   \n",
       "4              24  shipped 2018-08-26 13:46:48 2018-08-26 07:40:58   \n",
       "\n",
       "   ship_address_id  store_id  delivery_window_id  created_at_year  \\\n",
       "0           888330         1              226459             2018   \n",
       "1           888394         1              226460             2018   \n",
       "2           888420         1              226459             2018   \n",
       "3           888422         1              226462             2018   \n",
       "4           870688         1              226458             2018   \n",
       "\n",
       "   created_at_month created_at_month_year  \n",
       "0                 8               2018-08  \n",
       "1                 8               2018-08  \n",
       "2                 8               2018-08  \n",
       "3                 8               2018-08  \n",
       "4                 8               2018-08  "
      ]
     },
     "metadata": {},
     "output_type": "display_data"
    },
    {
     "data": {
      "text/plain": [
       "(720433, 17)"
      ]
     },
     "execution_count": 3,
     "metadata": {},
     "output_type": "execute_result"
    }
   ],
   "source": [
    "df = pd.read_sql_query('''SELECT * FROM orders''', conn)\n",
    "df['created_at_year'] = pd.DatetimeIndex(df['created_at']).year\n",
    "df['created_at_month'] = pd.DatetimeIndex(df['created_at']).month\n",
    "df['created_at_month_year'] = pd.to_datetime(df['created_at']).dt.to_period('M')\n",
    "display(df.head())\n",
    "df = df.drop_duplicates()\n",
    "df.shape"
   ]
  },
  {
   "cell_type": "code",
   "execution_count": 4,
   "metadata": {},
   "outputs": [
    {
     "name": "stdout",
     "output_type": "stream",
     "text": [
      "2018-08-26 00:05:41\n",
      "2019-12-18 18:02:41\n",
      "\n",
      "2018-08-26 07:46:10\n",
      "2019-12-18 23:47:42\n"
     ]
    }
   ],
   "source": [
    "print(df.created_at.min())\n",
    "print(df.created_at.max())\n",
    "print()\n",
    "print(df.shipped_at.min())\n",
    "print(df.shipped_at.max())\n",
    "\n",
    "#Наш датафрейм катируется датами с 26 августа 2018-го по 18 декаьря 2019. Почти полтора года. "
   ]
  },
  {
   "cell_type": "code",
   "execution_count": 5,
   "metadata": {},
   "outputs": [
    {
     "data": {
      "text/html": [
       "<div>\n",
       "<style scoped>\n",
       "    .dataframe tbody tr th:only-of-type {\n",
       "        vertical-align: middle;\n",
       "    }\n",
       "\n",
       "    .dataframe tbody tr th {\n",
       "        vertical-align: top;\n",
       "    }\n",
       "\n",
       "    .dataframe thead th {\n",
       "        text-align: right;\n",
       "    }\n",
       "</style>\n",
       "<table border=\"1\" class=\"dataframe\">\n",
       "  <thead>\n",
       "    <tr style=\"text-align: right;\">\n",
       "      <th></th>\n",
       "      <th>total_cost</th>\n",
       "      <th>cost</th>\n",
       "      <th>item_total</th>\n",
       "      <th>total_quantity</th>\n",
       "    </tr>\n",
       "  </thead>\n",
       "  <tbody>\n",
       "    <tr>\n",
       "      <th>count</th>\n",
       "      <td>720433.000000</td>\n",
       "      <td>720433.000000</td>\n",
       "      <td>720433.000000</td>\n",
       "      <td>720433.000000</td>\n",
       "    </tr>\n",
       "    <tr>\n",
       "      <th>mean</th>\n",
       "      <td>171.820556</td>\n",
       "      <td>252.459416</td>\n",
       "      <td>4936.180057</td>\n",
       "      <td>42.923062</td>\n",
       "    </tr>\n",
       "    <tr>\n",
       "      <th>std</th>\n",
       "      <td>152.639804</td>\n",
       "      <td>144.192244</td>\n",
       "      <td>4801.748586</td>\n",
       "      <td>79.485753</td>\n",
       "    </tr>\n",
       "    <tr>\n",
       "      <th>min</th>\n",
       "      <td>-148.000000</td>\n",
       "      <td>0.000000</td>\n",
       "      <td>0.000000</td>\n",
       "      <td>0.000000</td>\n",
       "    </tr>\n",
       "    <tr>\n",
       "      <th>50%</th>\n",
       "      <td>158.000000</td>\n",
       "      <td>249.000000</td>\n",
       "      <td>3964.000000</td>\n",
       "      <td>32.000000</td>\n",
       "    </tr>\n",
       "    <tr>\n",
       "      <th>75%</th>\n",
       "      <td>263.000000</td>\n",
       "      <td>299.000000</td>\n",
       "      <td>5918.000000</td>\n",
       "      <td>50.000000</td>\n",
       "    </tr>\n",
       "    <tr>\n",
       "      <th>90%</th>\n",
       "      <td>304.000000</td>\n",
       "      <td>344.000000</td>\n",
       "      <td>8744.000000</td>\n",
       "      <td>77.000000</td>\n",
       "    </tr>\n",
       "    <tr>\n",
       "      <th>99%</th>\n",
       "      <td>609.000000</td>\n",
       "      <td>695.000000</td>\n",
       "      <td>19564.680000</td>\n",
       "      <td>202.000000</td>\n",
       "    </tr>\n",
       "    <tr>\n",
       "      <th>max</th>\n",
       "      <td>30000.000000</td>\n",
       "      <td>30000.000000</td>\n",
       "      <td>481195.000000</td>\n",
       "      <td>36040.000000</td>\n",
       "    </tr>\n",
       "  </tbody>\n",
       "</table>\n",
       "</div>"
      ],
      "text/plain": [
       "          total_cost           cost     item_total  total_quantity\n",
       "count  720433.000000  720433.000000  720433.000000   720433.000000\n",
       "mean      171.820556     252.459416    4936.180057       42.923062\n",
       "std       152.639804     144.192244    4801.748586       79.485753\n",
       "min      -148.000000       0.000000       0.000000        0.000000\n",
       "50%       158.000000     249.000000    3964.000000       32.000000\n",
       "75%       263.000000     299.000000    5918.000000       50.000000\n",
       "90%       304.000000     344.000000    8744.000000       77.000000\n",
       "99%       609.000000     695.000000   19564.680000      202.000000\n",
       "max     30000.000000   30000.000000  481195.000000    36040.000000"
      ]
     },
     "execution_count": 5,
     "metadata": {},
     "output_type": "execute_result"
    }
   ],
   "source": [
    "df_describe = df.loc[:,['total_cost', 'cost', 'item_total','total_quantity' ]].describe(percentiles = [.75, .9, .99])\n",
    "df_describe"
   ]
  },
  {
   "cell_type": "markdown",
   "metadata": {},
   "source": [
    "Сделаем выборку по чилсенным данным и посмотрим, какие аномалии у нас имеются. \n",
    "- По таблице видно, что в графах total_cost и cost значения сильно похожи, но следует заметить, что минимальное начение для total_cost уходит в минус - значит, кто-то \"заработал\" на скидке. В то же время минимальая цена вданном случае - 0. Максимум ля них обоих - 30.000 рублей за доставку (что характерно только для 1%, для 99: характерны доставки до 700 рублей).\n",
    "- Графа item_total(средний чек)также имеет аномалии - для 90% харктерен средний чек на 8750 рублей и меньше, для оставшихся 10% - почти 20 тыс рублей и для 1% - от 20 тыс рублей до 481.195 тыс рублей (почти полмиллиона рублей!).\n",
    "- Графа total_quantity(Количество единиц товара) варьирует в среднем до 200 товаров для 99% покупателей. Только для 1% характерно покупать на свыше, чем 200 товаров и доходит до своего максимума в 36 тыс единиц товара, купленного за раз.\n",
    "\n",
    "Я бы хотела посмотреть поближе на тех, кто \"заработал\" на доставке, на ех, кто купил товаров на полмиллиона рублей и тех. кто заказ 36 тыс единиц товара. "
   ]
  },
  {
   "cell_type": "code",
   "execution_count": 6,
   "metadata": {},
   "outputs": [],
   "source": [
    "def graph(item):\n",
    "    fig, ax = plt.subplots(figsize=(15, 10))\n",
    "    plt.scatter(range(df.shape[0]), df[item].values, alpha = .2)\n",
    "    plt.title(item)\n",
    "    plt.xlabel(item)\n",
    "    plt.ylabel(\"Clients Amount\");\n",
    "    plt.show()"
   ]
  },
  {
   "cell_type": "code",
   "execution_count": 7,
   "metadata": {
    "scrolled": true
   },
   "outputs": [
    {
     "data": {
      "image/png": "[encoded data removed]",
      "text/plain": [
       "<Figure size 1080x720 with 1 Axes>"
      ]
     },
     "metadata": {
      "needs_background": "light"
     },
     "output_type": "display_data"
    },
    {
     "data": {
      "image/png": "[encoded data removed]",
      "text/plain": [
       "<Figure size 1080x720 with 1 Axes>"
      ]
     },
     "metadata": {
      "needs_background": "light"
     },
     "output_type": "display_data"
    },
    {
     "data": {
      "image/png": "[encoded data removed]",
      "text/plain": [
       "<Figure size 1080x720 with 1 Axes>"
      ]
     },
     "metadata": {
      "needs_background": "light"
     },
     "output_type": "display_data"
    },
    {
     "data": {
      "image/png": "[encoded data removed]",
      "text/plain": [
       "<Figure size 1080x720 with 1 Axes>"
      ]
     },
     "metadata": {
      "needs_background": "light"
     },
     "output_type": "display_data"
    }
   ],
   "source": [
    "for item in df_describe:\n",
    "    graph(item)"
   ]
  },
  {
   "cell_type": "markdown",
   "metadata": {},
   "source": [
    "Визуализировав данне, четко видим, что есть буквально десяти покупателей, чья доставка обошлась им в больше, чем в 5 тыс рублей до и после скидки. Есть ровно один покупатель, который купил на свыше, чем на 35 тыс единиц товара, 2 покупателя взяли 10 тыс единиц товара и остальные остались за пределами 10 тыс товара (большинство за пределами 1000). В графе \"средний чек\" данные разбросаны намного сильнее, чем в других строках - но все ще не свыше 30-и человек заказали на больше, чем 200 тыс рублей, большинство колеблется на сумме до 100 тысяч. "
   ]
  },
  {
   "cell_type": "markdown",
   "metadata": {},
   "source": [
    "- Разбор аномалий по сумме доставки <a id=\"доставки\"></a> "
   ]
  },
  {
   "cell_type": "code",
   "execution_count": 8,
   "metadata": {},
   "outputs": [
    {
     "data": {
      "text/html": [
       "<div>\n",
       "<style scoped>\n",
       "    .dataframe tbody tr th:only-of-type {\n",
       "        vertical-align: middle;\n",
       "    }\n",
       "\n",
       "    .dataframe tbody tr th {\n",
       "        vertical-align: top;\n",
       "    }\n",
       "\n",
       "    .dataframe thead th {\n",
       "        text-align: right;\n",
       "    }\n",
       "</style>\n",
       "<table border=\"1\" class=\"dataframe\">\n",
       "  <thead>\n",
       "    <tr style=\"text-align: right;\">\n",
       "      <th></th>\n",
       "      <th>id</th>\n",
       "      <th>user_id</th>\n",
       "      <th>total_cost</th>\n",
       "      <th>cost</th>\n",
       "      <th>item_total</th>\n",
       "      <th>promo_total</th>\n",
       "      <th>total_weight</th>\n",
       "      <th>total_quantity</th>\n",
       "      <th>state</th>\n",
       "      <th>shipped_at</th>\n",
       "      <th>created_at</th>\n",
       "      <th>ship_address_id</th>\n",
       "      <th>store_id</th>\n",
       "      <th>delivery_window_id</th>\n",
       "      <th>created_at_year</th>\n",
       "      <th>created_at_month</th>\n",
       "      <th>created_at_month_year</th>\n",
       "    </tr>\n",
       "  </thead>\n",
       "  <tbody>\n",
       "    <tr>\n",
       "      <th>240505</th>\n",
       "      <td>802572</td>\n",
       "      <td>60247</td>\n",
       "      <td>-148.0</td>\n",
       "      <td>299.0</td>\n",
       "      <td>5615</td>\n",
       "      <td>0.0</td>\n",
       "      <td>35357</td>\n",
       "      <td>43</td>\n",
       "      <td>shipped</td>\n",
       "      <td>2018-09-20 14:36:11</td>\n",
       "      <td>2018-09-19 04:12:17</td>\n",
       "      <td>274349</td>\n",
       "      <td>11</td>\n",
       "      <td>247485</td>\n",
       "      <td>2018</td>\n",
       "      <td>9</td>\n",
       "      <td>2018-09</td>\n",
       "    </tr>\n",
       "    <tr>\n",
       "      <th>381924</th>\n",
       "      <td>795110</td>\n",
       "      <td>4585</td>\n",
       "      <td>-99.0</td>\n",
       "      <td>497.0</td>\n",
       "      <td>3424</td>\n",
       "      <td>0.0</td>\n",
       "      <td>17877</td>\n",
       "      <td>64</td>\n",
       "      <td>shipped</td>\n",
       "      <td>2018-10-10 17:31:12</td>\n",
       "      <td>2018-09-15 12:18:13</td>\n",
       "      <td>940822</td>\n",
       "      <td>21</td>\n",
       "      <td>264264</td>\n",
       "      <td>2018</td>\n",
       "      <td>9</td>\n",
       "      <td>2018-09</td>\n",
       "    </tr>\n",
       "    <tr>\n",
       "      <th>382148</th>\n",
       "      <td>802465</td>\n",
       "      <td>19214</td>\n",
       "      <td>-99.0</td>\n",
       "      <td>299.0</td>\n",
       "      <td>2139</td>\n",
       "      <td>0.0</td>\n",
       "      <td>35228</td>\n",
       "      <td>31</td>\n",
       "      <td>shipped</td>\n",
       "      <td>2018-09-20 12:11:22</td>\n",
       "      <td>2018-09-18 22:45:05</td>\n",
       "      <td>858935</td>\n",
       "      <td>21</td>\n",
       "      <td>247582</td>\n",
       "      <td>2018</td>\n",
       "      <td>9</td>\n",
       "      <td>2018-09</td>\n",
       "    </tr>\n",
       "  </tbody>\n",
       "</table>\n",
       "</div>"
      ],
      "text/plain": [
       "            id  user_id  total_cost   cost  item_total  promo_total  \\\n",
       "240505  802572    60247      -148.0  299.0        5615          0.0   \n",
       "381924  795110     4585       -99.0  497.0        3424          0.0   \n",
       "382148  802465    19214       -99.0  299.0        2139          0.0   \n",
       "\n",
       "        total_weight  total_quantity    state          shipped_at  \\\n",
       "240505         35357              43  shipped 2018-09-20 14:36:11   \n",
       "381924         17877              64  shipped 2018-10-10 17:31:12   \n",
       "382148         35228              31  shipped 2018-09-20 12:11:22   \n",
       "\n",
       "                created_at  ship_address_id  store_id  delivery_window_id  \\\n",
       "240505 2018-09-19 04:12:17           274349        11              247485   \n",
       "381924 2018-09-15 12:18:13           940822        21              264264   \n",
       "382148 2018-09-18 22:45:05           858935        21              247582   \n",
       "\n",
       "        created_at_year  created_at_month created_at_month_year  \n",
       "240505             2018                 9               2018-09  \n",
       "381924             2018                 9               2018-09  \n",
       "382148             2018                 9               2018-09  "
      ]
     },
     "execution_count": 8,
     "metadata": {},
     "output_type": "execute_result"
    }
   ],
   "source": [
    "df[df.total_cost < 0].sort_values(by = 'total_cost')"
   ]
  },
  {
   "cell_type": "markdown",
   "metadata": {},
   "source": [
    "Видим, что некотрые клиенты \"заработали\" на скидке. Финальная стоимость доставки выходит ниже нуля для трех случаев. Это может быть связано с ошибкой в системе."
   ]
  },
  {
   "cell_type": "markdown",
   "metadata": {},
   "source": [
    "- Разбор аномалий по колиечству товара <a id=\"количество\"></a> "
   ]
  },
  {
   "cell_type": "code",
   "execution_count": 9,
   "metadata": {},
   "outputs": [
    {
     "name": "stdout",
     "output_type": "stream",
     "text": [
      "Минимум покупок для 0.1% покупателей:  716\n"
     ]
    },
    {
     "data": {
      "text/html": [
       "<div>\n",
       "<style scoped>\n",
       "    .dataframe tbody tr th:only-of-type {\n",
       "        vertical-align: middle;\n",
       "    }\n",
       "\n",
       "    .dataframe tbody tr th {\n",
       "        vertical-align: top;\n",
       "    }\n",
       "\n",
       "    .dataframe thead th {\n",
       "        text-align: right;\n",
       "    }\n",
       "</style>\n",
       "<table border=\"1\" class=\"dataframe\">\n",
       "  <thead>\n",
       "    <tr style=\"text-align: right;\">\n",
       "      <th></th>\n",
       "      <th>quantity_count</th>\n",
       "      <th>quantity_mean</th>\n",
       "    </tr>\n",
       "    <tr>\n",
       "      <th>user_id</th>\n",
       "      <th></th>\n",
       "      <th></th>\n",
       "    </tr>\n",
       "  </thead>\n",
       "  <tbody>\n",
       "    <tr>\n",
       "      <th>32490</th>\n",
       "      <td>92</td>\n",
       "      <td>1117.847826</td>\n",
       "    </tr>\n",
       "    <tr>\n",
       "      <th>31050</th>\n",
       "      <td>41</td>\n",
       "      <td>1123.024390</td>\n",
       "    </tr>\n",
       "    <tr>\n",
       "      <th>314205</th>\n",
       "      <td>22</td>\n",
       "      <td>1661.909091</td>\n",
       "    </tr>\n",
       "    <tr>\n",
       "      <th>165626</th>\n",
       "      <td>21</td>\n",
       "      <td>999.571429</td>\n",
       "    </tr>\n",
       "    <tr>\n",
       "      <th>171371</th>\n",
       "      <td>16</td>\n",
       "      <td>2573.312500</td>\n",
       "    </tr>\n",
       "  </tbody>\n",
       "</table>\n",
       "</div>"
      ],
      "text/plain": [
       "         quantity_count  quantity_mean\n",
       "user_id                               \n",
       "32490                92    1117.847826\n",
       "31050                41    1123.024390\n",
       "314205               22    1661.909091\n",
       "165626               21     999.571429\n",
       "171371               16    2573.312500"
      ]
     },
     "metadata": {},
     "output_type": "display_data"
    },
    {
     "name": "stdout",
     "output_type": "stream",
     "text": [
      "(721, 17)\n"
     ]
    }
   ],
   "source": [
    "total_quantity_99 = df[df.total_quantity > np.percentile(df.total_quantity,99.9)]\n",
    "#df  у которого в списке только покупатели, купившие крупное количество едениц товара\n",
    "\n",
    "print('Минимум покупок для 0.1% покупателей: ', total_quantity_99.total_quantity.min())\n",
    "display(total_quantity_99.groupby('user_id').agg(quantity_count=('total_quantity', 'count'),\n",
    "                                         quantity_mean=('total_quantity', 'mean')).sort_values(by = 'quantity_count',\n",
    "                                                                                              ascending = False).head())\n",
    "print(total_quantity_99.shape)"
   ]
  },
  {
   "cell_type": "code",
   "execution_count": 10,
   "metadata": {},
   "outputs": [
    {
     "data": {
      "text/html": [
       "<div>\n",
       "<style scoped>\n",
       "    .dataframe tbody tr th:only-of-type {\n",
       "        vertical-align: middle;\n",
       "    }\n",
       "\n",
       "    .dataframe tbody tr th {\n",
       "        vertical-align: top;\n",
       "    }\n",
       "\n",
       "    .dataframe thead th {\n",
       "        text-align: right;\n",
       "    }\n",
       "</style>\n",
       "<table border=\"1\" class=\"dataframe\">\n",
       "  <thead>\n",
       "    <tr style=\"text-align: right;\">\n",
       "      <th></th>\n",
       "      <th>quantity_count</th>\n",
       "      <th>quantity_mean</th>\n",
       "    </tr>\n",
       "    <tr>\n",
       "      <th>user_id</th>\n",
       "      <th></th>\n",
       "      <th></th>\n",
       "    </tr>\n",
       "  </thead>\n",
       "  <tbody>\n",
       "    <tr>\n",
       "      <th>1059879</th>\n",
       "      <td>1</td>\n",
       "      <td>36040.0</td>\n",
       "    </tr>\n",
       "    <tr>\n",
       "      <th>1568274</th>\n",
       "      <td>1</td>\n",
       "      <td>10000.0</td>\n",
       "    </tr>\n",
       "    <tr>\n",
       "      <th>229708</th>\n",
       "      <td>1</td>\n",
       "      <td>6124.0</td>\n",
       "    </tr>\n",
       "    <tr>\n",
       "      <th>1207271</th>\n",
       "      <td>1</td>\n",
       "      <td>6000.0</td>\n",
       "    </tr>\n",
       "    <tr>\n",
       "      <th>169427</th>\n",
       "      <td>1</td>\n",
       "      <td>6000.0</td>\n",
       "    </tr>\n",
       "  </tbody>\n",
       "</table>\n",
       "</div>"
      ],
      "text/plain": [
       "         quantity_count  quantity_mean\n",
       "user_id                               \n",
       "1059879               1        36040.0\n",
       "1568274               1        10000.0\n",
       "229708                1         6124.0\n",
       "1207271               1         6000.0\n",
       "169427                1         6000.0"
      ]
     },
     "execution_count": 10,
     "metadata": {},
     "output_type": "execute_result"
    }
   ],
   "source": [
    "total_quantity_99.groupby('user_id').agg(quantity_count=('total_quantity', 'count'),\n",
    "                                         quantity_mean=('total_quantity', 'mean')).sort_values(by = 'quantity_mean',\n",
    "                                                                                              ascending = False).head()"
   ]
  },
  {
   "cell_type": "code",
   "execution_count": 11,
   "metadata": {},
   "outputs": [
    {
     "data": {
      "text/html": [
       "<div>\n",
       "<style scoped>\n",
       "    .dataframe tbody tr th:only-of-type {\n",
       "        vertical-align: middle;\n",
       "    }\n",
       "\n",
       "    .dataframe tbody tr th {\n",
       "        vertical-align: top;\n",
       "    }\n",
       "\n",
       "    .dataframe thead th {\n",
       "        text-align: right;\n",
       "    }\n",
       "</style>\n",
       "<table border=\"1\" class=\"dataframe\">\n",
       "  <thead>\n",
       "    <tr style=\"text-align: right;\">\n",
       "      <th></th>\n",
       "      <th>id</th>\n",
       "      <th>user_id</th>\n",
       "      <th>total_cost</th>\n",
       "      <th>cost</th>\n",
       "      <th>item_total</th>\n",
       "      <th>promo_total</th>\n",
       "      <th>total_weight</th>\n",
       "      <th>total_quantity</th>\n",
       "      <th>state</th>\n",
       "      <th>shipped_at</th>\n",
       "      <th>created_at</th>\n",
       "      <th>ship_address_id</th>\n",
       "      <th>store_id</th>\n",
       "      <th>delivery_window_id</th>\n",
       "      <th>created_at_year</th>\n",
       "      <th>created_at_month</th>\n",
       "      <th>created_at_month_year</th>\n",
       "    </tr>\n",
       "  </thead>\n",
       "  <tbody>\n",
       "    <tr>\n",
       "      <th>410838</th>\n",
       "      <td>2755501</td>\n",
       "      <td>1059879</td>\n",
       "      <td>0.0</td>\n",
       "      <td>846.0</td>\n",
       "      <td>25708</td>\n",
       "      <td>0.0</td>\n",
       "      <td>200000</td>\n",
       "      <td>36040</td>\n",
       "      <td>shipped</td>\n",
       "      <td>2019-10-18 09:02:36</td>\n",
       "      <td>2019-10-15 06:49:57</td>\n",
       "      <td>3977452</td>\n",
       "      <td>21</td>\n",
       "      <td>791510</td>\n",
       "      <td>2019</td>\n",
       "      <td>10</td>\n",
       "      <td>2019-10</td>\n",
       "    </tr>\n",
       "  </tbody>\n",
       "</table>\n",
       "</div>"
      ],
      "text/plain": [
       "             id  user_id  total_cost   cost  item_total  promo_total  \\\n",
       "410838  2755501  1059879         0.0  846.0       25708          0.0   \n",
       "\n",
       "        total_weight  total_quantity    state          shipped_at  \\\n",
       "410838        200000           36040  shipped 2019-10-18 09:02:36   \n",
       "\n",
       "                created_at  ship_address_id  store_id  delivery_window_id  \\\n",
       "410838 2019-10-15 06:49:57          3977452        21              791510   \n",
       "\n",
       "        created_at_year  created_at_month created_at_month_year  \n",
       "410838             2019                10               2019-10  "
      ]
     },
     "execution_count": 11,
     "metadata": {},
     "output_type": "execute_result"
    }
   ],
   "source": [
    "df[df.user_id == 1059879]"
   ]
  },
  {
   "cell_type": "markdown",
   "metadata": {},
   "source": [
    "Я выделила отдельную группу тех клиентов, которые больше всего заказывают товаров (а именно таких товаров, которых по количеству заказывает только 0.1% клиентов) и обнаружила, что один из клиентов встречается 92 раза в списке, сделав закз в среднем на 1117 единиц товара. Есть клиент, который также встречается в списке 41 раз и делает покупки на в среднем 1123 единицы товара. Также нам попадает клиент, которые единожды сделал заказ на максимальное число товров - 36040 единиц весом в 20 кг. Примечательно, что это его единичное появление на сайте в целом, и его покупка составила 25.7 тыс рублей. Поскольку заказ отправлен и не отменен, сложно назвать данную аномалию ошибкой, но сами ее истоки мне вычеслить не удалось."
   ]
  },
  {
   "cell_type": "markdown",
   "metadata": {},
   "source": [
    "- Разбор аномалий по  среднему чеку <a id=\"чеку\"></a> "
   ]
  },
  {
   "cell_type": "code",
   "execution_count": 12,
   "metadata": {},
   "outputs": [
    {
     "name": "stdout",
     "output_type": "stream",
     "text": [
      "(156, 17)\n"
     ]
    },
    {
     "data": {
      "text/html": [
       "<div>\n",
       "<style scoped>\n",
       "    .dataframe tbody tr th:only-of-type {\n",
       "        vertical-align: middle;\n",
       "    }\n",
       "\n",
       "    .dataframe tbody tr th {\n",
       "        vertical-align: top;\n",
       "    }\n",
       "\n",
       "    .dataframe thead th {\n",
       "        text-align: right;\n",
       "    }\n",
       "</style>\n",
       "<table border=\"1\" class=\"dataframe\">\n",
       "  <thead>\n",
       "    <tr style=\"text-align: right;\">\n",
       "      <th></th>\n",
       "      <th>item_total_count</th>\n",
       "      <th>item_total_mean</th>\n",
       "    </tr>\n",
       "    <tr>\n",
       "      <th>user_id</th>\n",
       "      <th></th>\n",
       "      <th></th>\n",
       "    </tr>\n",
       "  </thead>\n",
       "  <tbody>\n",
       "    <tr>\n",
       "      <th>165626</th>\n",
       "      <td>23</td>\n",
       "      <td>125482.043478</td>\n",
       "    </tr>\n",
       "    <tr>\n",
       "      <th>32490</th>\n",
       "      <td>17</td>\n",
       "      <td>107708.529412</td>\n",
       "    </tr>\n",
       "    <tr>\n",
       "      <th>171371</th>\n",
       "      <td>15</td>\n",
       "      <td>245655.466667</td>\n",
       "    </tr>\n",
       "    <tr>\n",
       "      <th>131162</th>\n",
       "      <td>4</td>\n",
       "      <td>130643.750000</td>\n",
       "    </tr>\n",
       "    <tr>\n",
       "      <th>56017</th>\n",
       "      <td>4</td>\n",
       "      <td>131822.750000</td>\n",
       "    </tr>\n",
       "  </tbody>\n",
       "</table>\n",
       "</div>"
      ],
      "text/plain": [
       "         item_total_count  item_total_mean\n",
       "user_id                                   \n",
       "165626                 23    125482.043478\n",
       "32490                  17    107708.529412\n",
       "171371                 15    245655.466667\n",
       "131162                  4    130643.750000\n",
       "56017                   4    131822.750000"
      ]
     },
     "execution_count": 12,
     "metadata": {},
     "output_type": "execute_result"
    }
   ],
   "source": [
    "item_total_100 = df[df.item_total > 100000].sort_values(by = 'item_total', ascending = False)\n",
    "print(item_total_100.shape)\n",
    "# на графике виден большой разброс, поэтому я решила брать только тех пользователей, которые купили на больше, чем 100 тыс рублей за один раз\n",
    "item_total_100.groupby('user_id').agg(item_total_count=('item_total', 'count'),\n",
    "                                         item_total_mean=('item_total', 'mean')).sort_values(by = 'item_total_count',\n",
    "                                                                                              ascending = False).head()"
   ]
  },
  {
   "cell_type": "code",
   "execution_count": 13,
   "metadata": {},
   "outputs": [
    {
     "data": {
      "text/html": [
       "<div>\n",
       "<style scoped>\n",
       "    .dataframe tbody tr th:only-of-type {\n",
       "        vertical-align: middle;\n",
       "    }\n",
       "\n",
       "    .dataframe tbody tr th {\n",
       "        vertical-align: top;\n",
       "    }\n",
       "\n",
       "    .dataframe thead th {\n",
       "        text-align: right;\n",
       "    }\n",
       "</style>\n",
       "<table border=\"1\" class=\"dataframe\">\n",
       "  <thead>\n",
       "    <tr style=\"text-align: right;\">\n",
       "      <th></th>\n",
       "      <th>item_total_count</th>\n",
       "      <th>item_total_mean</th>\n",
       "    </tr>\n",
       "    <tr>\n",
       "      <th>user_id</th>\n",
       "      <th></th>\n",
       "      <th></th>\n",
       "    </tr>\n",
       "  </thead>\n",
       "  <tbody>\n",
       "    <tr>\n",
       "      <th>182865</th>\n",
       "      <td>1</td>\n",
       "      <td>481195.0</td>\n",
       "    </tr>\n",
       "    <tr>\n",
       "      <th>526921</th>\n",
       "      <td>1</td>\n",
       "      <td>442615.0</td>\n",
       "    </tr>\n",
       "    <tr>\n",
       "      <th>537166</th>\n",
       "      <td>1</td>\n",
       "      <td>376684.0</td>\n",
       "    </tr>\n",
       "    <tr>\n",
       "      <th>1181022</th>\n",
       "      <td>1</td>\n",
       "      <td>308060.0</td>\n",
       "    </tr>\n",
       "    <tr>\n",
       "      <th>1673764</th>\n",
       "      <td>2</td>\n",
       "      <td>303230.0</td>\n",
       "    </tr>\n",
       "  </tbody>\n",
       "</table>\n",
       "</div>"
      ],
      "text/plain": [
       "         item_total_count  item_total_mean\n",
       "user_id                                   \n",
       "182865                  1         481195.0\n",
       "526921                  1         442615.0\n",
       "537166                  1         376684.0\n",
       "1181022                 1         308060.0\n",
       "1673764                 2         303230.0"
      ]
     },
     "execution_count": 13,
     "metadata": {},
     "output_type": "execute_result"
    }
   ],
   "source": [
    "item_total_100.groupby('user_id').agg(item_total_count=('item_total', 'count'),\n",
    "                                         item_total_mean=('item_total', 'mean')).sort_values(by = 'item_total_mean',\n",
    "                                                                                              ascending = False).head()"
   ]
  },
  {
   "cell_type": "code",
   "execution_count": 14,
   "metadata": {},
   "outputs": [
    {
     "data": {
      "text/html": [
       "<div>\n",
       "<style scoped>\n",
       "    .dataframe tbody tr th:only-of-type {\n",
       "        vertical-align: middle;\n",
       "    }\n",
       "\n",
       "    .dataframe tbody tr th {\n",
       "        vertical-align: top;\n",
       "    }\n",
       "\n",
       "    .dataframe thead th {\n",
       "        text-align: right;\n",
       "    }\n",
       "</style>\n",
       "<table border=\"1\" class=\"dataframe\">\n",
       "  <thead>\n",
       "    <tr style=\"text-align: right;\">\n",
       "      <th></th>\n",
       "      <th>id</th>\n",
       "      <th>user_id</th>\n",
       "      <th>total_cost</th>\n",
       "      <th>cost</th>\n",
       "      <th>item_total</th>\n",
       "      <th>promo_total</th>\n",
       "      <th>total_weight</th>\n",
       "      <th>total_quantity</th>\n",
       "      <th>state</th>\n",
       "      <th>shipped_at</th>\n",
       "      <th>created_at</th>\n",
       "      <th>ship_address_id</th>\n",
       "      <th>store_id</th>\n",
       "      <th>delivery_window_id</th>\n",
       "      <th>created_at_year</th>\n",
       "      <th>created_at_month</th>\n",
       "      <th>created_at_month_year</th>\n",
       "    </tr>\n",
       "  </thead>\n",
       "  <tbody>\n",
       "    <tr>\n",
       "      <th>329283</th>\n",
       "      <td>976744</td>\n",
       "      <td>182865</td>\n",
       "      <td>299.0</td>\n",
       "      <td>299.0</td>\n",
       "      <td>481195</td>\n",
       "      <td>0.0</td>\n",
       "      <td>18401</td>\n",
       "      <td>61</td>\n",
       "      <td>shipped</td>\n",
       "      <td>2018-12-16 06:27:00</td>\n",
       "      <td>2018-12-09 11:48:44</td>\n",
       "      <td>1269805</td>\n",
       "      <td>14</td>\n",
       "      <td>335548</td>\n",
       "      <td>2018</td>\n",
       "      <td>12</td>\n",
       "      <td>2018-12</td>\n",
       "    </tr>\n",
       "    <tr>\n",
       "      <th>327449</th>\n",
       "      <td>913245</td>\n",
       "      <td>182865</td>\n",
       "      <td>0.0</td>\n",
       "      <td>348.0</td>\n",
       "      <td>7169</td>\n",
       "      <td>0.0</td>\n",
       "      <td>31512</td>\n",
       "      <td>83</td>\n",
       "      <td>shipped</td>\n",
       "      <td>2018-11-11 20:06:00</td>\n",
       "      <td>2018-11-11 10:28:18</td>\n",
       "      <td>1161701</td>\n",
       "      <td>14</td>\n",
       "      <td>295819</td>\n",
       "      <td>2018</td>\n",
       "      <td>11</td>\n",
       "      <td>2018-11</td>\n",
       "    </tr>\n",
       "    <tr>\n",
       "      <th>330863</th>\n",
       "      <td>1033459</td>\n",
       "      <td>182865</td>\n",
       "      <td>239.0</td>\n",
       "      <td>239.0</td>\n",
       "      <td>6895</td>\n",
       "      <td>0.0</td>\n",
       "      <td>35901</td>\n",
       "      <td>60</td>\n",
       "      <td>shipped</td>\n",
       "      <td>2019-01-16 17:35:27</td>\n",
       "      <td>2019-01-04 06:56:11</td>\n",
       "      <td>1338798</td>\n",
       "      <td>14</td>\n",
       "      <td>368808</td>\n",
       "      <td>2019</td>\n",
       "      <td>1</td>\n",
       "      <td>2019-01</td>\n",
       "    </tr>\n",
       "    <tr>\n",
       "      <th>332153</th>\n",
       "      <td>1083263</td>\n",
       "      <td>182865</td>\n",
       "      <td>294.0</td>\n",
       "      <td>294.0</td>\n",
       "      <td>6576</td>\n",
       "      <td>0.0</td>\n",
       "      <td>45111</td>\n",
       "      <td>75</td>\n",
       "      <td>shipped</td>\n",
       "      <td>2019-01-25 11:51:00</td>\n",
       "      <td>2019-01-25 08:22:15</td>\n",
       "      <td>1400782</td>\n",
       "      <td>14</td>\n",
       "      <td>378483</td>\n",
       "      <td>2019</td>\n",
       "      <td>1</td>\n",
       "      <td>2019-01</td>\n",
       "    </tr>\n",
       "    <tr>\n",
       "      <th>443354</th>\n",
       "      <td>1659159</td>\n",
       "      <td>182865</td>\n",
       "      <td>0.0</td>\n",
       "      <td>0.0</td>\n",
       "      <td>6455</td>\n",
       "      <td>0.0</td>\n",
       "      <td>23405</td>\n",
       "      <td>65</td>\n",
       "      <td>shipped</td>\n",
       "      <td>2019-06-26 13:18:59</td>\n",
       "      <td>2019-06-25 20:43:27</td>\n",
       "      <td>1734357</td>\n",
       "      <td>70</td>\n",
       "      <td>571099</td>\n",
       "      <td>2019</td>\n",
       "      <td>6</td>\n",
       "      <td>2019-06</td>\n",
       "    </tr>\n",
       "  </tbody>\n",
       "</table>\n",
       "</div>"
      ],
      "text/plain": [
       "             id  user_id  total_cost   cost  item_total  promo_total  \\\n",
       "329283   976744   182865       299.0  299.0      481195          0.0   \n",
       "327449   913245   182865         0.0  348.0        7169          0.0   \n",
       "330863  1033459   182865       239.0  239.0        6895          0.0   \n",
       "332153  1083263   182865       294.0  294.0        6576          0.0   \n",
       "443354  1659159   182865         0.0    0.0        6455          0.0   \n",
       "\n",
       "        total_weight  total_quantity    state          shipped_at  \\\n",
       "329283         18401              61  shipped 2018-12-16 06:27:00   \n",
       "327449         31512              83  shipped 2018-11-11 20:06:00   \n",
       "330863         35901              60  shipped 2019-01-16 17:35:27   \n",
       "332153         45111              75  shipped 2019-01-25 11:51:00   \n",
       "443354         23405              65  shipped 2019-06-26 13:18:59   \n",
       "\n",
       "                created_at  ship_address_id  store_id  delivery_window_id  \\\n",
       "329283 2018-12-09 11:48:44          1269805        14              335548   \n",
       "327449 2018-11-11 10:28:18          1161701        14              295819   \n",
       "330863 2019-01-04 06:56:11          1338798        14              368808   \n",
       "332153 2019-01-25 08:22:15          1400782        14              378483   \n",
       "443354 2019-06-25 20:43:27          1734357        70              571099   \n",
       "\n",
       "        created_at_year  created_at_month created_at_month_year  \n",
       "329283             2018                12               2018-12  \n",
       "327449             2018                11               2018-11  \n",
       "330863             2019                 1               2019-01  \n",
       "332153             2019                 1               2019-01  \n",
       "443354             2019                 6               2019-06  "
      ]
     },
     "execution_count": 14,
     "metadata": {},
     "output_type": "execute_result"
    }
   ],
   "source": [
    "df[df.user_id == 182865].sort_values(by = 'item_total', ascending = False).head()"
   ]
  },
  {
   "cell_type": "markdown",
   "metadata": {},
   "source": [
    "Видим, что один из клиентов в списке из 156 человек с самым высоким средним чеком находится 23 раза (14% от всей группы) со средним чеком в 125 тыс рублей, другой клиент (мы уже встречали его ранее) встретился нам 17 раз и купил товара на 107 тыс рублей в среднем. Клиент под номером 182865 имеет самый высокий средний чек - 482 тыс рублей и встречается нам один раз в данном списке. Присмотревшись, видим, что сумма данной покупки очень сильно отличается от его среднего чека - обычно он не превышает 7200 рублей, хотя по весу и по количеству товара все одинаково. Вероятно, в наш датасет закралась ошибка или у кого-то юблей."
   ]
  },
  {
   "cell_type": "markdown",
   "metadata": {},
   "source": [
    "- Чистка данных <a id=\"Чистка\"></a> "
   ]
  },
  {
   "cell_type": "code",
   "execution_count": 15,
   "metadata": {},
   "outputs": [
    {
     "name": "stdout",
     "output_type": "stream",
     "text": [
      "720433  даннных было до чистки\n",
      "718999  даннных после до чистки\n",
      "Было удалено 1.0%\n"
     ]
    }
   ],
   "source": [
    "df_new = df[df.total_quantity < np.percentile(df.total_quantity,99.9)]\n",
    "df_new = df_new[df_new.item_total < 100000]\n",
    "df_new = df_new[df_new.total_cost < np.percentile(df.total_cost,99.9)]\n",
    "\n",
    "print(len(df),\" даннных было до чистки\")\n",
    "print(len(df_new), \" даннных после до чистки\")\n",
    "print(\"Было удалено {:.1f}%\".format(len(df_new)/len(df)))\n"
   ]
  },
  {
   "cell_type": "markdown",
   "metadata": {},
   "source": [
    "- Среднее количество покупателей <a id=\"покупателей\"></a> "
   ]
  },
  {
   "cell_type": "code",
   "execution_count": 16,
   "metadata": {},
   "outputs": [
    {
     "data": {
      "text/html": [
       "<div>\n",
       "<style scoped>\n",
       "    .dataframe tbody tr th:only-of-type {\n",
       "        vertical-align: middle;\n",
       "    }\n",
       "\n",
       "    .dataframe tbody tr th {\n",
       "        vertical-align: top;\n",
       "    }\n",
       "\n",
       "    .dataframe thead th {\n",
       "        text-align: right;\n",
       "    }\n",
       "</style>\n",
       "<table border=\"1\" class=\"dataframe\">\n",
       "  <thead>\n",
       "    <tr style=\"text-align: right;\">\n",
       "      <th></th>\n",
       "      <th>created_at_month_year</th>\n",
       "      <th>user_id</th>\n",
       "    </tr>\n",
       "  </thead>\n",
       "  <tbody>\n",
       "    <tr>\n",
       "      <th>12</th>\n",
       "      <td>2019-08</td>\n",
       "      <td>46931</td>\n",
       "    </tr>\n",
       "    <tr>\n",
       "      <th>13</th>\n",
       "      <td>2019-09</td>\n",
       "      <td>61459</td>\n",
       "    </tr>\n",
       "    <tr>\n",
       "      <th>14</th>\n",
       "      <td>2019-10</td>\n",
       "      <td>86767</td>\n",
       "    </tr>\n",
       "    <tr>\n",
       "      <th>15</th>\n",
       "      <td>2019-11</td>\n",
       "      <td>149597</td>\n",
       "    </tr>\n",
       "    <tr>\n",
       "      <th>16</th>\n",
       "      <td>2019-12</td>\n",
       "      <td>104023</td>\n",
       "    </tr>\n",
       "  </tbody>\n",
       "</table>\n",
       "</div>"
      ],
      "text/plain": [
       "   created_at_month_year  user_id\n",
       "12               2019-08    46931\n",
       "13               2019-09    61459\n",
       "14               2019-10    86767\n",
       "15               2019-11   149597\n",
       "16               2019-12   104023"
      ]
     },
     "metadata": {},
     "output_type": "display_data"
    },
    {
     "name": "stdout",
     "output_type": "stream",
     "text": [
      "Средний количество пользователей за весь период:  42294.05882352941 клиентов\n"
     ]
    },
    {
     "data": {
      "image/png": "[encoded data removed]",
      "text/plain": [
       "<Figure size 1080x720 with 1 Axes>"
      ]
     },
     "metadata": {
      "needs_background": "light"
     },
     "output_type": "display_data"
    }
   ],
   "source": [
    "users_order = df_new.groupby('created_at_month_year').agg({'user_id':'count'}).reset_index()\n",
    "display(users_order.tail())\n",
    "fig, axs = plt.subplots(figsize=(15, 10))\n",
    "print('Средний количество пользователей за весь период: ', users_order.user_id.mean(), 'клиентов')\n",
    "users_order.plot(x = 'created_at_month_year', kind='bar', rot=0, ax=axs)\n",
    "plt.xlabel(\"Месяц и Год\"); \n",
    "\n",
    "plt.ylabel(\"Кол-во клиентов\");"
   ]
  },
  {
   "cell_type": "code",
   "execution_count": 17,
   "metadata": {},
   "outputs": [
    {
     "data": {
      "text/html": [
       "<div>\n",
       "<style scoped>\n",
       "    .dataframe tbody tr th:only-of-type {\n",
       "        vertical-align: middle;\n",
       "    }\n",
       "\n",
       "    .dataframe tbody tr th {\n",
       "        vertical-align: top;\n",
       "    }\n",
       "\n",
       "    .dataframe thead th {\n",
       "        text-align: right;\n",
       "    }\n",
       "</style>\n",
       "<table border=\"1\" class=\"dataframe\">\n",
       "  <thead>\n",
       "    <tr style=\"text-align: right;\">\n",
       "      <th></th>\n",
       "      <th>created_at_month_year</th>\n",
       "      <th>user_id</th>\n",
       "    </tr>\n",
       "  </thead>\n",
       "  <tbody>\n",
       "    <tr>\n",
       "      <th>12</th>\n",
       "      <td>2019-08</td>\n",
       "      <td>30381</td>\n",
       "    </tr>\n",
       "    <tr>\n",
       "      <th>13</th>\n",
       "      <td>2019-09</td>\n",
       "      <td>38364</td>\n",
       "    </tr>\n",
       "    <tr>\n",
       "      <th>14</th>\n",
       "      <td>2019-10</td>\n",
       "      <td>55919</td>\n",
       "    </tr>\n",
       "    <tr>\n",
       "      <th>15</th>\n",
       "      <td>2019-11</td>\n",
       "      <td>88652</td>\n",
       "    </tr>\n",
       "    <tr>\n",
       "      <th>16</th>\n",
       "      <td>2019-12</td>\n",
       "      <td>71987</td>\n",
       "    </tr>\n",
       "  </tbody>\n",
       "</table>\n",
       "</div>"
      ],
      "text/plain": [
       "   created_at_month_year  user_id\n",
       "12               2019-08    30381\n",
       "13               2019-09    38364\n",
       "14               2019-10    55919\n",
       "15               2019-11    88652\n",
       "16               2019-12    71987"
      ]
     },
     "metadata": {},
     "output_type": "display_data"
    },
    {
     "name": "stdout",
     "output_type": "stream",
     "text": [
      "Средний количество уникаьных пользователей за весь период:  27533.176470588234 клиентов\n"
     ]
    },
    {
     "data": {
      "image/png": "[encoded data removed]",
      "text/plain": [
       "<Figure size 1080x720 with 1 Axes>"
      ]
     },
     "metadata": {
      "needs_background": "light"
     },
     "output_type": "display_data"
    }
   ],
   "source": [
    "users_nunique = df_new.groupby('created_at_month_year').agg({'user_id':'nunique'}).reset_index()\n",
    "display(users_nunique.tail())\n",
    "fig, axs = plt.subplots(figsize=(15, 10))\n",
    "print('Средний количество уникаьных пользователей за весь период: ', users_nunique.user_id.mean(), 'клиентов')\n",
    "users_nunique.plot(x = 'created_at_month_year', kind='bar', rot=0, ax=axs)\n",
    "plt.xlabel(\"Месяц и Год\"); \n",
    "\n",
    "plt.ylabel(\"Кол-во клиентов\");"
   ]
  },
  {
   "cell_type": "markdown",
   "metadata": {},
   "source": [
    "    1. Построив график по количеству клиентаов за данный период, можно заметить резкий рост за ноябрь 2019-ого: у  приложения было почти в два раза больше клиентов, чем в октябрь и на треть больше, чем за декабрь. Может быть много факторов такого спроса - но, вероятнее всего, Черная пятница. \n",
    "    2. Средний количество пользователей за весь период назвать сложно, потому что показатели за разные месяцы очень разные - в среднем за весь период 42.332 человека, но учитывая, что до марта 2019-го пик наших клиентов составлят 2000 человек, то с марта по октябрь мы видим резкий рост от 20.000 тыс до 85.000 и доходит до своего пика в ноябре - 140 тыс пользователей. Вероятно, у компании была какая-то крупная рекламаная акция, которая со временем привела до 120 тыс клиентов\n",
    "    3. В то же время важно анализировать уникальных клиентов - также виден рост начиная с марта 2019-го и пик в ноябре. С марта клиентская база данных выросла от 13 тыс до 88 тыс клиентов"
   ]
  },
  {
   "cell_type": "markdown",
   "metadata": {},
   "source": [
    "-  Средний чек <a id=\"Срчек\"></a> "
   ]
  },
  {
   "cell_type": "code",
   "execution_count": 18,
   "metadata": {
    "scrolled": false
   },
   "outputs": [
    {
     "data": {
      "text/html": [
       "<div>\n",
       "<style scoped>\n",
       "    .dataframe tbody tr th:only-of-type {\n",
       "        vertical-align: middle;\n",
       "    }\n",
       "\n",
       "    .dataframe tbody tr th {\n",
       "        vertical-align: top;\n",
       "    }\n",
       "\n",
       "    .dataframe thead th {\n",
       "        text-align: right;\n",
       "    }\n",
       "</style>\n",
       "<table border=\"1\" class=\"dataframe\">\n",
       "  <thead>\n",
       "    <tr style=\"text-align: right;\">\n",
       "      <th></th>\n",
       "      <th>created_at_month_year</th>\n",
       "      <th>item_total</th>\n",
       "    </tr>\n",
       "  </thead>\n",
       "  <tbody>\n",
       "    <tr>\n",
       "      <th>12</th>\n",
       "      <td>2019-08</td>\n",
       "      <td>4472.648548</td>\n",
       "    </tr>\n",
       "    <tr>\n",
       "      <th>13</th>\n",
       "      <td>2019-09</td>\n",
       "      <td>4466.894076</td>\n",
       "    </tr>\n",
       "    <tr>\n",
       "      <th>14</th>\n",
       "      <td>2019-10</td>\n",
       "      <td>4936.453387</td>\n",
       "    </tr>\n",
       "    <tr>\n",
       "      <th>15</th>\n",
       "      <td>2019-11</td>\n",
       "      <td>5310.106352</td>\n",
       "    </tr>\n",
       "    <tr>\n",
       "      <th>16</th>\n",
       "      <td>2019-12</td>\n",
       "      <td>4789.147708</td>\n",
       "    </tr>\n",
       "  </tbody>\n",
       "</table>\n",
       "</div>"
      ],
      "text/plain": [
       "   created_at_month_year   item_total\n",
       "12               2019-08  4472.648548\n",
       "13               2019-09  4466.894076\n",
       "14               2019-10  4936.453387\n",
       "15               2019-11  5310.106352\n",
       "16               2019-12  4789.147708"
      ]
     },
     "metadata": {},
     "output_type": "display_data"
    },
    {
     "name": "stdout",
     "output_type": "stream",
     "text": [
      "Средний чек за весь период:  4711.5790160684555 рублей\n"
     ]
    },
    {
     "data": {
      "image/png": "[encoded data removed]",
      "text/plain": [
       "<Figure size 1080x720 with 1 Axes>"
      ]
     },
     "metadata": {
      "needs_background": "light"
     },
     "output_type": "display_data"
    }
   ],
   "source": [
    "item_total = df_new.groupby('created_at_month_year').agg({'item_total':'mean'}).reset_index()\n",
    "display(item_total.tail())\n",
    "print('Средний чек за весь период: ', item_total.item_total.mean(), 'рублей')\n",
    "fig, axs = plt.subplots(figsize=(15, 10))\n",
    "item_total.plot(x = 'created_at_month_year', kind='bar', rot=0, ax=axs)\n",
    "\n",
    "plt.xlabel(\"Месяц и Год\"); \n",
    "\n",
    "plt.ylabel(\"Средний чек\");"
   ]
  },
  {
   "cell_type": "markdown",
   "metadata": {},
   "source": [
    "Видно, что пик и по количеству товаров наблюдается в июле и в ноябре и резкий спад в августе и сентбре - веротяно, клиенты экономят после отпуска или их дети активно питаются в школе в первый месяц учебы. Одинаковый спад заметен как в августе 2018, так и в августе 2019. Примечательно, что ноябрь не так сильно выражен в 2018, как в 2019 году, а значит, с прибавлением клиентов средний чек вырос в особенно праздничные дни. Остается загадкой резкий рост для июля, вероятно, сайт предоставлял какую-то очень выгодную сделку, но тем не менее, покупателям она очень пришлась по душе"
   ]
  },
  {
   "cell_type": "markdown",
   "metadata": {},
   "source": [
    "-  Средний вес <a id=\"вес\"></a> "
   ]
  },
  {
   "cell_type": "code",
   "execution_count": 19,
   "metadata": {},
   "outputs": [
    {
     "data": {
      "text/html": [
       "<div>\n",
       "<style scoped>\n",
       "    .dataframe tbody tr th:only-of-type {\n",
       "        vertical-align: middle;\n",
       "    }\n",
       "\n",
       "    .dataframe tbody tr th {\n",
       "        vertical-align: top;\n",
       "    }\n",
       "\n",
       "    .dataframe thead th {\n",
       "        text-align: right;\n",
       "    }\n",
       "</style>\n",
       "<table border=\"1\" class=\"dataframe\">\n",
       "  <thead>\n",
       "    <tr style=\"text-align: right;\">\n",
       "      <th></th>\n",
       "      <th>created_at_month_year</th>\n",
       "      <th>total_weight</th>\n",
       "    </tr>\n",
       "  </thead>\n",
       "  <tbody>\n",
       "    <tr>\n",
       "      <th>12</th>\n",
       "      <td>2019-08</td>\n",
       "      <td>22893.564360</td>\n",
       "    </tr>\n",
       "    <tr>\n",
       "      <th>13</th>\n",
       "      <td>2019-09</td>\n",
       "      <td>22882.501001</td>\n",
       "    </tr>\n",
       "    <tr>\n",
       "      <th>14</th>\n",
       "      <td>2019-10</td>\n",
       "      <td>25129.338377</td>\n",
       "    </tr>\n",
       "    <tr>\n",
       "      <th>15</th>\n",
       "      <td>2019-11</td>\n",
       "      <td>24193.920379</td>\n",
       "    </tr>\n",
       "    <tr>\n",
       "      <th>16</th>\n",
       "      <td>2019-12</td>\n",
       "      <td>21393.948963</td>\n",
       "    </tr>\n",
       "  </tbody>\n",
       "</table>\n",
       "</div>"
      ],
      "text/plain": [
       "   created_at_month_year  total_weight\n",
       "12               2019-08  22893.564360\n",
       "13               2019-09  22882.501001\n",
       "14               2019-10  25129.338377\n",
       "15               2019-11  24193.920379\n",
       "16               2019-12  21393.948963"
      ]
     },
     "metadata": {},
     "output_type": "display_data"
    },
    {
     "name": "stdout",
     "output_type": "stream",
     "text": [
      "Средний вес товаров за весь период:  24.58409669535716 кг\n"
     ]
    },
    {
     "data": {
      "image/png": "[encoded data removed]",
      "text/plain": [
       "<Figure size 1080x720 with 1 Axes>"
      ]
     },
     "metadata": {
      "needs_background": "light"
     },
     "output_type": "display_data"
    }
   ],
   "source": [
    "total_weight = df_new.groupby('created_at_month_year').agg({'total_weight':'mean'}).reset_index()\n",
    "display(total_weight.tail())\n",
    "print('Средний вес товаров за весь период: ', total_weight.total_weight.mean()/1000, 'кг')\n",
    "fig, axs = plt.subplots(figsize=(15, 10))\n",
    "total_weight.plot(x = 'created_at_month_year', kind='bar', rot=0, ax=axs)\n",
    "plt.xlabel(\"Месяц и Год\"); \n",
    "\n",
    "plt.ylabel(\"Вес\");"
   ]
  },
  {
   "cell_type": "markdown",
   "metadata": {},
   "source": [
    "Мы наблюдаем, что несмотря на высокий поток клиентов в ноябре, вес товаров не особо отличаются от среднего - те клиент покупает столько же товаров по весу, как обычно, но за более высокую сумму, что еще ра доказывает, что это обусловлено Черной пятницей. \n",
    "Наблюдая корреляцию за январь 2018-ого по среднему чеку и среднему весу, можно сказать, что клиенты покупают больше товаров за ту же самую цену, а значит, январьская сдлека отлично работает. Также видно резкий спад в августе и сентбре (как и по среднему чеку). Зная данную информацию, можно заказывать меньше быстропортящихся товаров на август и сентябрь, чтобы товар не пропадал от недостатка покупателей на него. "
   ]
  },
  {
   "cell_type": "markdown",
   "metadata": {},
   "source": [
    "- Среднее количество товаров  <a id=\"количествотоваров\"></a> "
   ]
  },
  {
   "cell_type": "code",
   "execution_count": 20,
   "metadata": {},
   "outputs": [
    {
     "data": {
      "text/html": [
       "<div>\n",
       "<style scoped>\n",
       "    .dataframe tbody tr th:only-of-type {\n",
       "        vertical-align: middle;\n",
       "    }\n",
       "\n",
       "    .dataframe tbody tr th {\n",
       "        vertical-align: top;\n",
       "    }\n",
       "\n",
       "    .dataframe thead th {\n",
       "        text-align: right;\n",
       "    }\n",
       "</style>\n",
       "<table border=\"1\" class=\"dataframe\">\n",
       "  <thead>\n",
       "    <tr style=\"text-align: right;\">\n",
       "      <th></th>\n",
       "      <th>created_at_month_year</th>\n",
       "      <th>total_quantity</th>\n",
       "    </tr>\n",
       "  </thead>\n",
       "  <tbody>\n",
       "    <tr>\n",
       "      <th>12</th>\n",
       "      <td>2019-08</td>\n",
       "      <td>39.473418</td>\n",
       "    </tr>\n",
       "    <tr>\n",
       "      <th>13</th>\n",
       "      <td>2019-09</td>\n",
       "      <td>39.839975</td>\n",
       "    </tr>\n",
       "    <tr>\n",
       "      <th>14</th>\n",
       "      <td>2019-10</td>\n",
       "      <td>42.399207</td>\n",
       "    </tr>\n",
       "    <tr>\n",
       "      <th>15</th>\n",
       "      <td>2019-11</td>\n",
       "      <td>43.032340</td>\n",
       "    </tr>\n",
       "    <tr>\n",
       "      <th>16</th>\n",
       "      <td>2019-12</td>\n",
       "      <td>38.862002</td>\n",
       "    </tr>\n",
       "  </tbody>\n",
       "</table>\n",
       "</div>"
      ],
      "text/plain": [
       "   created_at_month_year  total_quantity\n",
       "12               2019-08       39.473418\n",
       "13               2019-09       39.839975\n",
       "14               2019-10       42.399207\n",
       "15               2019-11       43.032340\n",
       "16               2019-12       38.862002"
      ]
     },
     "metadata": {},
     "output_type": "display_data"
    },
    {
     "name": "stdout",
     "output_type": "stream",
     "text": [
      "Среднее количество товаров за весь период:  40.828909648242174\n"
     ]
    },
    {
     "data": {
      "image/png": "[encoded data removed]",
      "text/plain": [
       "<Figure size 1080x720 with 1 Axes>"
      ]
     },
     "metadata": {
      "needs_background": "light"
     },
     "output_type": "display_data"
    }
   ],
   "source": [
    "total_quantity = df_new.groupby('created_at_month_year').agg({'total_quantity':'mean'}).reset_index()\n",
    "display(total_quantity.tail())\n",
    "print('Среднее количество товаров за весь период: ', total_quantity.total_quantity.mean())\n",
    "fig, axs = plt.subplots(figsize=(15, 10))\n",
    "total_quantity.plot(x = 'created_at_month_year', kind='bar', rot=0, ax=axs)\n",
    "plt.xlabel(\"Месяц и Год\"); \n",
    "\n",
    "plt.ylabel(\"Среднее количество товаров\");"
   ]
  },
  {
   "cell_type": "markdown",
   "metadata": {},
   "source": [
    "Своего максимума по количеству товаров график достигает в точках за июль и ноябрь, и снова спад в августе и сентябре. Минимум товаров было продано за февраль 2018-ого - сложно сказать почему, учитывая, что и вес, и средний чек не вызывают вопросов остаются в норме. "
   ]
  },
  {
   "cell_type": "markdown",
   "metadata": {},
   "source": [
    "- Средняя сумма доставки  <a id=\"суммадоставки\"></a> "
   ]
  },
  {
   "cell_type": "code",
   "execution_count": 21,
   "metadata": {},
   "outputs": [
    {
     "data": {
      "text/html": [
       "<div>\n",
       "<style scoped>\n",
       "    .dataframe tbody tr th:only-of-type {\n",
       "        vertical-align: middle;\n",
       "    }\n",
       "\n",
       "    .dataframe tbody tr th {\n",
       "        vertical-align: top;\n",
       "    }\n",
       "\n",
       "    .dataframe thead th {\n",
       "        text-align: right;\n",
       "    }\n",
       "</style>\n",
       "<table border=\"1\" class=\"dataframe\">\n",
       "  <thead>\n",
       "    <tr style=\"text-align: right;\">\n",
       "      <th></th>\n",
       "      <th>created_at_month_year</th>\n",
       "      <th>total_cost</th>\n",
       "    </tr>\n",
       "  </thead>\n",
       "  <tbody>\n",
       "    <tr>\n",
       "      <th>12</th>\n",
       "      <td>2019-08</td>\n",
       "      <td>138.705299</td>\n",
       "    </tr>\n",
       "    <tr>\n",
       "      <th>13</th>\n",
       "      <td>2019-09</td>\n",
       "      <td>140.050521</td>\n",
       "    </tr>\n",
       "    <tr>\n",
       "      <th>14</th>\n",
       "      <td>2019-10</td>\n",
       "      <td>148.702084</td>\n",
       "    </tr>\n",
       "    <tr>\n",
       "      <th>15</th>\n",
       "      <td>2019-11</td>\n",
       "      <td>191.249915</td>\n",
       "    </tr>\n",
       "    <tr>\n",
       "      <th>16</th>\n",
       "      <td>2019-12</td>\n",
       "      <td>181.931241</td>\n",
       "    </tr>\n",
       "  </tbody>\n",
       "</table>\n",
       "</div>"
      ],
      "text/plain": [
       "   created_at_month_year  total_cost\n",
       "12               2019-08  138.705299\n",
       "13               2019-09  140.050521\n",
       "14               2019-10  148.702084\n",
       "15               2019-11  191.249915\n",
       "16               2019-12  181.931241"
      ]
     },
     "metadata": {},
     "output_type": "display_data"
    },
    {
     "name": "stdout",
     "output_type": "stream",
     "text": [
      "Средняя сумма доставки за весь период:  174.598356016976 рублей\n"
     ]
    },
    {
     "data": {
      "image/png": "[encoded data removed]",
      "text/plain": [
       "<Figure size 1080x720 with 1 Axes>"
      ]
     },
     "metadata": {
      "needs_background": "light"
     },
     "output_type": "display_data"
    }
   ],
   "source": [
    "total_cost = df_new.groupby('created_at_month_year').agg({'total_cost':'mean'}).reset_index()\n",
    "display(total_cost.tail())\n",
    "print('Средняя сумма доставки за весь период: ', total_cost.total_cost.mean(), 'рублей')\n",
    "fig, axs = plt.subplots(figsize=(15, 10))\n",
    "total_cost.plot(x = 'created_at_month_year', kind='bar', rot=0, ax=axs)\n",
    "\n",
    "plt.xlabel(\"Месяц и Год\"); \n",
    "\n",
    "plt.ylabel(\"Сумма доставки\");\n",
    "\n",
    "total_cost = df_new.groupby('created_at_month_year').agg({'total_cost':'mean'}).reset_index()"
   ]
  },
  {
   "cell_type": "markdown",
   "metadata": {},
   "source": [
    "- Разбор отмененных доставок <a id=\"отмененных\"></a>"
   ]
  },
  {
   "cell_type": "code",
   "execution_count": 22,
   "metadata": {},
   "outputs": [
    {
     "name": "stdout",
     "output_type": "stream",
     "text": [
      "27\n"
     ]
    }
   ],
   "source": [
    "cancelation_pending = df[(df.state != 'shipped') & (df.state != 'ready')& (df.state != 'shipping')]\n",
    "print(len(cancelation_pending))"
   ]
  },
  {
   "cell_type": "code",
   "execution_count": 23,
   "metadata": {},
   "outputs": [
    {
     "data": {
      "text/html": [
       "<div>\n",
       "<style scoped>\n",
       "    .dataframe tbody tr th:only-of-type {\n",
       "        vertical-align: middle;\n",
       "    }\n",
       "\n",
       "    .dataframe tbody tr th {\n",
       "        vertical-align: top;\n",
       "    }\n",
       "\n",
       "    .dataframe thead th {\n",
       "        text-align: right;\n",
       "    }\n",
       "</style>\n",
       "<table border=\"1\" class=\"dataframe\">\n",
       "  <thead>\n",
       "    <tr style=\"text-align: right;\">\n",
       "      <th></th>\n",
       "      <th>created_at_month_year</th>\n",
       "      <th>state</th>\n",
       "      <th>user_id</th>\n",
       "    </tr>\n",
       "  </thead>\n",
       "  <tbody>\n",
       "    <tr>\n",
       "      <th>9</th>\n",
       "      <td>2019-11</td>\n",
       "      <td>canceled</td>\n",
       "      <td>6</td>\n",
       "    </tr>\n",
       "    <tr>\n",
       "      <th>7</th>\n",
       "      <td>2019-10</td>\n",
       "      <td>canceled</td>\n",
       "      <td>3</td>\n",
       "    </tr>\n",
       "    <tr>\n",
       "      <th>10</th>\n",
       "      <td>2019-11</td>\n",
       "      <td>pending</td>\n",
       "      <td>3</td>\n",
       "    </tr>\n",
       "    <tr>\n",
       "      <th>2</th>\n",
       "      <td>2018-09</td>\n",
       "      <td>pending</td>\n",
       "      <td>2</td>\n",
       "    </tr>\n",
       "    <tr>\n",
       "      <th>4</th>\n",
       "      <td>2018-12</td>\n",
       "      <td>canceled</td>\n",
       "      <td>2</td>\n",
       "    </tr>\n",
       "  </tbody>\n",
       "</table>\n",
       "</div>"
      ],
      "text/plain": [
       "   created_at_month_year     state  user_id\n",
       "9                2019-11  canceled        6\n",
       "7                2019-10  canceled        3\n",
       "10               2019-11   pending        3\n",
       "2                2018-09   pending        2\n",
       "4                2018-12  canceled        2"
      ]
     },
     "execution_count": 23,
     "metadata": {},
     "output_type": "execute_result"
    }
   ],
   "source": [
    "cancelation_pending_grouped = cancelation_pending.groupby(['created_at_month_year', 'state']).agg({'user_id':'count'}).reset_index()\n",
    "cancelation_pending_grouped.sort_values(by = 'user_id', ascending = False).head()"
   ]
  },
  {
   "cell_type": "code",
   "execution_count": 24,
   "metadata": {},
   "outputs": [
    {
     "data": {
      "image/png": "[encoded data removed]",
      "text/plain": [
       "<Figure size 720x576 with 1 Axes>"
      ]
     },
     "metadata": {
      "needs_background": "light"
     },
     "output_type": "display_data"
    }
   ],
   "source": [
    "cancelation_pending_grouped=cancelation_pending_grouped.reset_index()\n",
    "fig, axs = plt.subplots(figsize=(10, 8))\n",
    "\n",
    "\n",
    "sns.barplot(x=\"created_at_month_year\", y=\"user_id\", data=cancelation_pending_grouped, hue = 'state');\n",
    "plt.xlabel(\"Месяц и Год\"); \n",
    "plt.ylabel(\"Количество отмен\")\n",
    "plt.title('Отмененные и отложенные доставки');"
   ]
  },
  {
   "cell_type": "markdown",
   "metadata": {},
   "source": [
    "На графике видно, что больше всего отмен и задержек было выявлено за ноябрь 2019-го (можно ассоциировать с той же Черной пятницей - суммарно) и за октябрь 2018-го. Четко выражен промежуток от января до практически сентября 2019 (одна задержка за весь период) и начиная с октября задержки и отмены заказов доходят до своего пика - 6 отмен заказов и 3 задержки за один месяц. Несмотря на то, что отмен и задержек стало больше, между январем и сентябрем 2019-го наблюдается всего одна задержка, и это учитывая, что клиентов с января стало намного больше, чем было в 2018-ом. Клиентов стало в три раза больше (от 20 тыс до 60 тыс), чем было. \n",
    "Учитывая, что за ноябрь у нас было почти 150 тыс заказов, 6 отмен составляют не больше 0.01%. Тем не менее, они есть, я бы посоветовала обратить внимание на недостоюшие товары в ноябре и декабре, чтобы избежать повтора в следующем году. "
   ]
  },
  {
   "cell_type": "code",
   "execution_count": 25,
   "metadata": {},
   "outputs": [
    {
     "data": {
      "text/html": [
       "<div>\n",
       "<style scoped>\n",
       "    .dataframe tbody tr th:only-of-type {\n",
       "        vertical-align: middle;\n",
       "    }\n",
       "\n",
       "    .dataframe tbody tr th {\n",
       "        vertical-align: top;\n",
       "    }\n",
       "\n",
       "    .dataframe thead th {\n",
       "        text-align: right;\n",
       "    }\n",
       "</style>\n",
       "<table border=\"1\" class=\"dataframe\">\n",
       "  <thead>\n",
       "    <tr style=\"text-align: right;\">\n",
       "      <th></th>\n",
       "      <th>user_id</th>\n",
       "    </tr>\n",
       "    <tr>\n",
       "      <th>store_id</th>\n",
       "      <th></th>\n",
       "    </tr>\n",
       "  </thead>\n",
       "  <tbody>\n",
       "    <tr>\n",
       "      <th>14</th>\n",
       "      <td>6</td>\n",
       "    </tr>\n",
       "    <tr>\n",
       "      <th>8</th>\n",
       "      <td>3</td>\n",
       "    </tr>\n",
       "    <tr>\n",
       "      <th>21</th>\n",
       "      <td>3</td>\n",
       "    </tr>\n",
       "    <tr>\n",
       "      <th>10</th>\n",
       "      <td>2</td>\n",
       "    </tr>\n",
       "    <tr>\n",
       "      <th>11</th>\n",
       "      <td>2</td>\n",
       "    </tr>\n",
       "  </tbody>\n",
       "</table>\n",
       "</div>"
      ],
      "text/plain": [
       "          user_id\n",
       "store_id         \n",
       "14              6\n",
       "8               3\n",
       "21              3\n",
       "10              2\n",
       "11              2"
      ]
     },
     "execution_count": 25,
     "metadata": {},
     "output_type": "execute_result"
    }
   ],
   "source": [
    "cancelation_pending.groupby(['store_id']).agg({'user_id':'count'}).sort_values(by = 'user_id', ascending = False).head()"
   ]
  },
  {
   "cell_type": "markdown",
   "metadata": {},
   "source": [
    "В магазине под номером 14  больше всего отмен и замен заказов - суммарно 6. Обратим на него особое внимание внимание в дальнейшем"
   ]
  },
  {
   "cell_type": "code",
   "execution_count": 26,
   "metadata": {},
   "outputs": [
    {
     "data": {
      "text/html": [
       "<div>\n",
       "<style scoped>\n",
       "    .dataframe tbody tr th:only-of-type {\n",
       "        vertical-align: middle;\n",
       "    }\n",
       "\n",
       "    .dataframe tbody tr th {\n",
       "        vertical-align: top;\n",
       "    }\n",
       "\n",
       "    .dataframe thead th {\n",
       "        text-align: right;\n",
       "    }\n",
       "</style>\n",
       "<table border=\"1\" class=\"dataframe\">\n",
       "  <thead>\n",
       "    <tr style=\"text-align: right;\">\n",
       "      <th></th>\n",
       "      <th>state</th>\n",
       "    </tr>\n",
       "    <tr>\n",
       "      <th>created_at_month_year</th>\n",
       "      <th></th>\n",
       "    </tr>\n",
       "  </thead>\n",
       "  <tbody>\n",
       "    <tr>\n",
       "      <th>2018-09</th>\n",
       "      <td>1</td>\n",
       "    </tr>\n",
       "    <tr>\n",
       "      <th>2018-11</th>\n",
       "      <td>1</td>\n",
       "    </tr>\n",
       "    <tr>\n",
       "      <th>2018-12</th>\n",
       "      <td>1</td>\n",
       "    </tr>\n",
       "    <tr>\n",
       "      <th>2019-11</th>\n",
       "      <td>2</td>\n",
       "    </tr>\n",
       "    <tr>\n",
       "      <th>2019-12</th>\n",
       "      <td>1</td>\n",
       "    </tr>\n",
       "  </tbody>\n",
       "</table>\n",
       "</div>"
      ],
      "text/plain": [
       "                       state\n",
       "created_at_month_year       \n",
       "2018-09                    1\n",
       "2018-11                    1\n",
       "2018-12                    1\n",
       "2019-11                    2\n",
       "2019-12                    1"
      ]
     },
     "execution_count": 26,
     "metadata": {},
     "output_type": "execute_result"
    }
   ],
   "source": [
    "cancelation_pending[cancelation_pending.store_id == 14].groupby('created_at_month_year').agg({'state':'count'})"
   ]
  },
  {
   "cell_type": "markdown",
   "metadata": {},
   "source": [
    "Приглядимся к номеру 14 - отмены и замены его клиентов  распростарнены по всему промежутку, очевидно, магазин плохо справляется со своими обязанностями. Из 27 случае он берет на себя 7 (22%) и значительно портит статистику в этом плане. Важно понять, в чем причины и предпринять подобающие меры для изменения ситуации."
   ]
  },
  {
   "cell_type": "markdown",
   "metadata": {},
   "source": [
    "##  Разбор таблицы replacements <a id=\"replacements\"></a> "
   ]
  },
  {
   "cell_type": "markdown",
   "metadata": {},
   "source": [
    "- Среднее количество замен  <a id=\"замен\"></a> "
   ]
  },
  {
   "cell_type": "code",
   "execution_count": 27,
   "metadata": {},
   "outputs": [
    {
     "data": {
      "text/html": [
       "<div>\n",
       "<style scoped>\n",
       "    .dataframe tbody tr th:only-of-type {\n",
       "        vertical-align: middle;\n",
       "    }\n",
       "\n",
       "    .dataframe tbody tr th {\n",
       "        vertical-align: top;\n",
       "    }\n",
       "\n",
       "    .dataframe thead th {\n",
       "        text-align: right;\n",
       "    }\n",
       "</style>\n",
       "<table border=\"1\" class=\"dataframe\">\n",
       "  <thead>\n",
       "    <tr style=\"text-align: right;\">\n",
       "      <th></th>\n",
       "      <th>order_id</th>\n",
       "      <th>item_id</th>\n",
       "      <th>state</th>\n",
       "    </tr>\n",
       "  </thead>\n",
       "  <tbody>\n",
       "    <tr>\n",
       "      <th>0</th>\n",
       "      <td>480785</td>\n",
       "      <td>6466916</td>\n",
       "      <td>replaced</td>\n",
       "    </tr>\n",
       "    <tr>\n",
       "      <th>1</th>\n",
       "      <td>480785</td>\n",
       "      <td>6466940</td>\n",
       "      <td>replaced</td>\n",
       "    </tr>\n",
       "    <tr>\n",
       "      <th>2</th>\n",
       "      <td>480785</td>\n",
       "      <td>6466778</td>\n",
       "      <td>replaced</td>\n",
       "    </tr>\n",
       "    <tr>\n",
       "      <th>3</th>\n",
       "      <td>480785</td>\n",
       "      <td>6466825</td>\n",
       "      <td>replaced</td>\n",
       "    </tr>\n",
       "    <tr>\n",
       "      <th>4</th>\n",
       "      <td>480786</td>\n",
       "      <td>7261201</td>\n",
       "      <td>replaced</td>\n",
       "    </tr>\n",
       "  </tbody>\n",
       "</table>\n",
       "</div>"
      ],
      "text/plain": [
       "   order_id  item_id     state\n",
       "0    480785  6466916  replaced\n",
       "1    480785  6466940  replaced\n",
       "2    480785  6466778  replaced\n",
       "3    480785  6466825  replaced\n",
       "4    480786  7261201  replaced"
      ]
     },
     "execution_count": 27,
     "metadata": {},
     "output_type": "execute_result"
    }
   ],
   "source": [
    "pd.read_sql_query('''SELECT * FROM replacements LIMIT 5''', conn)\n",
    "#Изначальньо я работала в sql и не в пандас, но решила оставить код как он есть для данного отрезка"
   ]
  },
  {
   "cell_type": "code",
   "execution_count": 28,
   "metadata": {},
   "outputs": [
    {
     "data": {
      "text/html": [
       "<div>\n",
       "<style scoped>\n",
       "    .dataframe tbody tr th:only-of-type {\n",
       "        vertical-align: middle;\n",
       "    }\n",
       "\n",
       "    .dataframe tbody tr th {\n",
       "        vertical-align: top;\n",
       "    }\n",
       "\n",
       "    .dataframe thead th {\n",
       "        text-align: right;\n",
       "    }\n",
       "</style>\n",
       "<table border=\"1\" class=\"dataframe\">\n",
       "  <thead>\n",
       "    <tr style=\"text-align: right;\">\n",
       "      <th></th>\n",
       "      <th>replace_mean</th>\n",
       "    </tr>\n",
       "  </thead>\n",
       "  <tbody>\n",
       "    <tr>\n",
       "      <th>0</th>\n",
       "      <td>2</td>\n",
       "    </tr>\n",
       "  </tbody>\n",
       "</table>\n",
       "</div>"
      ],
      "text/plain": [
       "   replace_mean\n",
       "0             2"
      ]
     },
     "execution_count": 28,
     "metadata": {},
     "output_type": "execute_result"
    }
   ],
   "source": [
    "pd.read_sql_query('''SELECT COUNT(DISTINCT item_id)/COUNT(DISTINCT order_id) as replace_mean  FROM replacements LIMIT 10''', conn)\n",
    "#Обратим внимание, сколько у нас в среднем происходит замен на один заказ, а так же макс кол-во замен"
   ]
  },
  {
   "cell_type": "code",
   "execution_count": 29,
   "metadata": {},
   "outputs": [
    {
     "data": {
      "text/html": [
       "<div>\n",
       "<style scoped>\n",
       "    .dataframe tbody tr th:only-of-type {\n",
       "        vertical-align: middle;\n",
       "    }\n",
       "\n",
       "    .dataframe tbody tr th {\n",
       "        vertical-align: top;\n",
       "    }\n",
       "\n",
       "    .dataframe thead th {\n",
       "        text-align: right;\n",
       "    }\n",
       "</style>\n",
       "<table border=\"1\" class=\"dataframe\">\n",
       "  <thead>\n",
       "    <tr style=\"text-align: right;\">\n",
       "      <th></th>\n",
       "      <th>order_id</th>\n",
       "      <th>state</th>\n",
       "      <th>items_replace_count</th>\n",
       "    </tr>\n",
       "  </thead>\n",
       "  <tbody>\n",
       "    <tr>\n",
       "      <th>0</th>\n",
       "      <td>4155539</td>\n",
       "      <td>replaced</td>\n",
       "      <td>42</td>\n",
       "    </tr>\n",
       "    <tr>\n",
       "      <th>1</th>\n",
       "      <td>4727652</td>\n",
       "      <td>replaced</td>\n",
       "      <td>41</td>\n",
       "    </tr>\n",
       "    <tr>\n",
       "      <th>2</th>\n",
       "      <td>3045592</td>\n",
       "      <td>replaced</td>\n",
       "      <td>40</td>\n",
       "    </tr>\n",
       "    <tr>\n",
       "      <th>3</th>\n",
       "      <td>4581269</td>\n",
       "      <td>replaced</td>\n",
       "      <td>39</td>\n",
       "    </tr>\n",
       "    <tr>\n",
       "      <th>4</th>\n",
       "      <td>4825590</td>\n",
       "      <td>replaced</td>\n",
       "      <td>33</td>\n",
       "    </tr>\n",
       "  </tbody>\n",
       "</table>\n",
       "</div>"
      ],
      "text/plain": [
       "   order_id     state  items_replace_count\n",
       "0   4155539  replaced                   42\n",
       "1   4727652  replaced                   41\n",
       "2   3045592  replaced                   40\n",
       "3   4581269  replaced                   39\n",
       "4   4825590  replaced                   33"
      ]
     },
     "execution_count": 29,
     "metadata": {},
     "output_type": "execute_result"
    }
   ],
   "source": [
    "items_replaced = pd.read_sql_query('''SELECT order_id, state, COUNT(item_id) as items_replace_count FROM replacements GROUP BY order_id, state ORDER BY COUNT(item_id) DESC ''', conn)\n",
    "items_replaced.head()"
   ]
  },
  {
   "cell_type": "code",
   "execution_count": 30,
   "metadata": {},
   "outputs": [
    {
     "data": {
      "text/html": [
       "<div>\n",
       "<style scoped>\n",
       "    .dataframe tbody tr th:only-of-type {\n",
       "        vertical-align: middle;\n",
       "    }\n",
       "\n",
       "    .dataframe tbody tr th {\n",
       "        vertical-align: top;\n",
       "    }\n",
       "\n",
       "    .dataframe thead th {\n",
       "        text-align: right;\n",
       "    }\n",
       "</style>\n",
       "<table border=\"1\" class=\"dataframe\">\n",
       "  <thead>\n",
       "    <tr style=\"text-align: right;\">\n",
       "      <th></th>\n",
       "      <th>order_id</th>\n",
       "      <th>items_replace_count</th>\n",
       "    </tr>\n",
       "  </thead>\n",
       "  <tbody>\n",
       "    <tr>\n",
       "      <th>count</th>\n",
       "      <td>4.491650e+05</td>\n",
       "      <td>449165.000000</td>\n",
       "    </tr>\n",
       "    <tr>\n",
       "      <th>mean</th>\n",
       "      <td>2.861446e+06</td>\n",
       "      <td>2.783485</td>\n",
       "    </tr>\n",
       "    <tr>\n",
       "      <th>std</th>\n",
       "      <td>1.547668e+06</td>\n",
       "      <td>2.295636</td>\n",
       "    </tr>\n",
       "    <tr>\n",
       "      <th>min</th>\n",
       "      <td>4.803750e+05</td>\n",
       "      <td>1.000000</td>\n",
       "    </tr>\n",
       "    <tr>\n",
       "      <th>50%</th>\n",
       "      <td>2.763803e+06</td>\n",
       "      <td>2.000000</td>\n",
       "    </tr>\n",
       "    <tr>\n",
       "      <th>75%</th>\n",
       "      <td>4.335016e+06</td>\n",
       "      <td>4.000000</td>\n",
       "    </tr>\n",
       "    <tr>\n",
       "      <th>95%</th>\n",
       "      <td>5.211216e+06</td>\n",
       "      <td>7.000000</td>\n",
       "    </tr>\n",
       "    <tr>\n",
       "      <th>99%</th>\n",
       "      <td>5.379535e+06</td>\n",
       "      <td>11.000000</td>\n",
       "    </tr>\n",
       "    <tr>\n",
       "      <th>max</th>\n",
       "      <td>5.444744e+06</td>\n",
       "      <td>42.000000</td>\n",
       "    </tr>\n",
       "  </tbody>\n",
       "</table>\n",
       "</div>"
      ],
      "text/plain": [
       "           order_id  items_replace_count\n",
       "count  4.491650e+05        449165.000000\n",
       "mean   2.861446e+06             2.783485\n",
       "std    1.547668e+06             2.295636\n",
       "min    4.803750e+05             1.000000\n",
       "50%    2.763803e+06             2.000000\n",
       "75%    4.335016e+06             4.000000\n",
       "95%    5.211216e+06             7.000000\n",
       "99%    5.379535e+06            11.000000\n",
       "max    5.444744e+06            42.000000"
      ]
     },
     "execution_count": 30,
     "metadata": {},
     "output_type": "execute_result"
    }
   ],
   "source": [
    "items_replaced.describe(percentiles = [.75, .95, .99])"
   ]
  },
  {
   "cell_type": "code",
   "execution_count": 31,
   "metadata": {},
   "outputs": [
    {
     "data": {
      "image/png": "[encoded data removed]",
      "text/plain": [
       "<Figure size 720x360 with 1 Axes>"
      ]
     },
     "metadata": {},
     "output_type": "display_data"
    }
   ],
   "source": [
    "sns.set_theme(style=\"whitegrid\")\n",
    "a4_dims = (10, 5)\n",
    "fig, ax = pyplot.subplots(figsize=a4_dims)\n",
    "sns.boxplot(x = 'items_replace_count', y = 'state', data = items_replaced);"
   ]
  },
  {
   "cell_type": "code",
   "execution_count": 32,
   "metadata": {},
   "outputs": [
    {
     "data": {
      "image/png": "[encoded data removed]",
      "text/plain": [
       "<Figure size 720x360 with 1 Axes>"
      ]
     },
     "metadata": {},
     "output_type": "display_data"
    }
   ],
   "source": [
    "fig = plt.figure(figsize = (10,5))\n",
    "ax = fig.gca()\n",
    "items_replaced.items_replace_count.hist(ax = ax)\n",
    "pl.suptitle(\"Среднее количество замен на заказ\");"
   ]
  },
  {
   "cell_type": "markdown",
   "metadata": {},
   "source": [
    "В среднем у нас производится две замены на заказ, но в топ-10 замен, видно, что бывает и по 30, и по 40 замен на один заказ. Посмотрев на соотношене, видим, что у меньше, чем 25% процентов пользователей происзводится больше 4-ех замен и для всего 5% пользователей производится больше 7-ти замен на один заказ, для всего 1% производится болше 11-ти замен. Это означает, что наши 30 и 40+ замен - составляет меньше одного процента для всех клиентов.Учитывая, что в среднем у нас 42 товара на клиента, замены относятся скорее всего к тем клиентам, которые выходят за 99,9% покупателей в нашем фрейме."
   ]
  },
  {
   "cell_type": "markdown",
   "metadata": {},
   "source": [
    "##  Разбор таблицы cancellations <a id=\"cancellations\"></a> "
   ]
  },
  {
   "cell_type": "markdown",
   "metadata": {},
   "source": [
    "- Среднее количество отмен  <a id=\"отмен\"></a> "
   ]
  },
  {
   "cell_type": "code",
   "execution_count": 33,
   "metadata": {},
   "outputs": [
    {
     "data": {
      "text/html": [
       "<div>\n",
       "<style scoped>\n",
       "    .dataframe tbody tr th:only-of-type {\n",
       "        vertical-align: middle;\n",
       "    }\n",
       "\n",
       "    .dataframe tbody tr th {\n",
       "        vertical-align: top;\n",
       "    }\n",
       "\n",
       "    .dataframe thead th {\n",
       "        text-align: right;\n",
       "    }\n",
       "</style>\n",
       "<table border=\"1\" class=\"dataframe\">\n",
       "  <thead>\n",
       "    <tr style=\"text-align: right;\">\n",
       "      <th></th>\n",
       "      <th>order_id</th>\n",
       "      <th>item_id</th>\n",
       "      <th>state</th>\n",
       "    </tr>\n",
       "  </thead>\n",
       "  <tbody>\n",
       "    <tr>\n",
       "      <th>0</th>\n",
       "      <td>480443</td>\n",
       "      <td>5333890</td>\n",
       "      <td>canceled</td>\n",
       "    </tr>\n",
       "  </tbody>\n",
       "</table>\n",
       "</div>"
      ],
      "text/plain": [
       "   order_id  item_id     state\n",
       "0    480443  5333890  canceled"
      ]
     },
     "execution_count": 33,
     "metadata": {},
     "output_type": "execute_result"
    }
   ],
   "source": [
    "cancellations = pd.read_sql_query('''SELECT * FROM cancellations''', conn)\n",
    "cancellations.head(1)"
   ]
  },
  {
   "cell_type": "code",
   "execution_count": 34,
   "metadata": {},
   "outputs": [
    {
     "data": {
      "text/html": [
       "<div>\n",
       "<style scoped>\n",
       "    .dataframe tbody tr th:only-of-type {\n",
       "        vertical-align: middle;\n",
       "    }\n",
       "\n",
       "    .dataframe tbody tr th {\n",
       "        vertical-align: top;\n",
       "    }\n",
       "\n",
       "    .dataframe thead th {\n",
       "        text-align: right;\n",
       "    }\n",
       "</style>\n",
       "<table border=\"1\" class=\"dataframe\">\n",
       "  <thead>\n",
       "    <tr style=\"text-align: right;\">\n",
       "      <th></th>\n",
       "      <th>order_id</th>\n",
       "      <th>item_id</th>\n",
       "    </tr>\n",
       "  </thead>\n",
       "  <tbody>\n",
       "    <tr>\n",
       "      <th>0</th>\n",
       "      <td>2842837</td>\n",
       "      <td>118</td>\n",
       "    </tr>\n",
       "    <tr>\n",
       "      <th>1</th>\n",
       "      <td>2778719</td>\n",
       "      <td>97</td>\n",
       "    </tr>\n",
       "    <tr>\n",
       "      <th>2</th>\n",
       "      <td>2840178</td>\n",
       "      <td>95</td>\n",
       "    </tr>\n",
       "    <tr>\n",
       "      <th>3</th>\n",
       "      <td>2828961</td>\n",
       "      <td>88</td>\n",
       "    </tr>\n",
       "    <tr>\n",
       "      <th>4</th>\n",
       "      <td>2829861</td>\n",
       "      <td>86</td>\n",
       "    </tr>\n",
       "  </tbody>\n",
       "</table>\n",
       "</div>"
      ],
      "text/plain": [
       "   order_id  item_id\n",
       "0   2842837      118\n",
       "1   2778719       97\n",
       "2   2840178       95\n",
       "3   2828961       88\n",
       "4   2829861       86"
      ]
     },
     "execution_count": 34,
     "metadata": {},
     "output_type": "execute_result"
    }
   ],
   "source": [
    "cancellations_grouped = cancellations.groupby('order_id').agg({'item_id': 'count'}).sort_values(by = 'item_id', ascending = False).reset_index()\n",
    "cancellations_grouped.head()"
   ]
  },
  {
   "cell_type": "code",
   "execution_count": 35,
   "metadata": {},
   "outputs": [
    {
     "data": {
      "text/html": [
       "<div>\n",
       "<style scoped>\n",
       "    .dataframe tbody tr th:only-of-type {\n",
       "        vertical-align: middle;\n",
       "    }\n",
       "\n",
       "    .dataframe tbody tr th {\n",
       "        vertical-align: top;\n",
       "    }\n",
       "\n",
       "    .dataframe thead th {\n",
       "        text-align: right;\n",
       "    }\n",
       "</style>\n",
       "<table border=\"1\" class=\"dataframe\">\n",
       "  <thead>\n",
       "    <tr style=\"text-align: right;\">\n",
       "      <th></th>\n",
       "      <th>order_id</th>\n",
       "      <th>item_id</th>\n",
       "    </tr>\n",
       "  </thead>\n",
       "  <tbody>\n",
       "    <tr>\n",
       "      <th>count</th>\n",
       "      <td>4.939950e+05</td>\n",
       "      <td>493995.000000</td>\n",
       "    </tr>\n",
       "    <tr>\n",
       "      <th>mean</th>\n",
       "      <td>2.633006e+06</td>\n",
       "      <td>2.918258</td>\n",
       "    </tr>\n",
       "    <tr>\n",
       "      <th>std</th>\n",
       "      <td>1.535794e+06</td>\n",
       "      <td>2.759173</td>\n",
       "    </tr>\n",
       "    <tr>\n",
       "      <th>min</th>\n",
       "      <td>4.803330e+05</td>\n",
       "      <td>1.000000</td>\n",
       "    </tr>\n",
       "    <tr>\n",
       "      <th>50%</th>\n",
       "      <td>2.386390e+06</td>\n",
       "      <td>2.000000</td>\n",
       "    </tr>\n",
       "    <tr>\n",
       "      <th>75%</th>\n",
       "      <td>4.089563e+06</td>\n",
       "      <td>4.000000</td>\n",
       "    </tr>\n",
       "    <tr>\n",
       "      <th>95%</th>\n",
       "      <td>5.164394e+06</td>\n",
       "      <td>8.000000</td>\n",
       "    </tr>\n",
       "    <tr>\n",
       "      <th>99%</th>\n",
       "      <td>5.363204e+06</td>\n",
       "      <td>13.000000</td>\n",
       "    </tr>\n",
       "    <tr>\n",
       "      <th>max</th>\n",
       "      <td>5.443796e+06</td>\n",
       "      <td>118.000000</td>\n",
       "    </tr>\n",
       "  </tbody>\n",
       "</table>\n",
       "</div>"
      ],
      "text/plain": [
       "           order_id        item_id\n",
       "count  4.939950e+05  493995.000000\n",
       "mean   2.633006e+06       2.918258\n",
       "std    1.535794e+06       2.759173\n",
       "min    4.803330e+05       1.000000\n",
       "50%    2.386390e+06       2.000000\n",
       "75%    4.089563e+06       4.000000\n",
       "95%    5.164394e+06       8.000000\n",
       "99%    5.363204e+06      13.000000\n",
       "max    5.443796e+06     118.000000"
      ]
     },
     "execution_count": 35,
     "metadata": {},
     "output_type": "execute_result"
    }
   ],
   "source": [
    "cancellations_grouped.describe(percentiles = [.75, .95, .99])"
   ]
  },
  {
   "cell_type": "markdown",
   "metadata": {},
   "source": [
    "Как и в таблице замен - аномалия. Меньше 1% отменяли больше, чем 13 товаров за один заказ, и токльо 1% отменил до 118. Также учитывая, что в среднем у нас приходится 42 товара на человека - отмена 118 товаров что-то из ряда вон выходящее и относится к покупателям, котрые заказли в три раза больше товаров, чем типичный покупатель. 95% пользователей отменили не больше 8 товаров за один заказ. В среднем клиент отменяет от 2 до 3 товаров."
   ]
  },
  {
   "cell_type": "code",
   "execution_count": 36,
   "metadata": {},
   "outputs": [
    {
     "data": {
      "image/png": "[encoded data removed]",
      "text/plain": [
       "<Figure size 720x360 with 1 Axes>"
      ]
     },
     "metadata": {},
     "output_type": "display_data"
    }
   ],
   "source": [
    "fig = plt.figure(figsize = (10,5))\n",
    "ax = fig.gca()\n",
    "cancellations_grouped.item_id.hist(ax = ax)\n",
    "pl.suptitle(\"Среднее количество отмен на заказ\");"
   ]
  },
  {
   "cell_type": "markdown",
   "metadata": {},
   "source": [
    "Также видно на графике - преимущественно большинство отменяет до 10-ти заказов"
   ]
  },
  {
   "cell_type": "markdown",
   "metadata": {},
   "source": [
    "##  Разбор таблицы delivery_windows <a id=\"delivery_windows\"></a> "
   ]
  },
  {
   "cell_type": "markdown",
   "metadata": {},
   "source": [
    "- время ожидания доставки <a id=\"ожидания\"></a> "
   ]
  },
  {
   "cell_type": "code",
   "execution_count": 37,
   "metadata": {},
   "outputs": [
    {
     "data": {
      "text/html": [
       "<div>\n",
       "<style scoped>\n",
       "    .dataframe tbody tr th:only-of-type {\n",
       "        vertical-align: middle;\n",
       "    }\n",
       "\n",
       "    .dataframe tbody tr th {\n",
       "        vertical-align: top;\n",
       "    }\n",
       "\n",
       "    .dataframe thead th {\n",
       "        text-align: right;\n",
       "    }\n",
       "</style>\n",
       "<table border=\"1\" class=\"dataframe\">\n",
       "  <thead>\n",
       "    <tr style=\"text-align: right;\">\n",
       "      <th></th>\n",
       "      <th>store_id</th>\n",
       "      <th>id</th>\n",
       "      <th>starts_at</th>\n",
       "      <th>ends_at</th>\n",
       "      <th>time_zone</th>\n",
       "      <th>delivery_time</th>\n",
       "    </tr>\n",
       "  </thead>\n",
       "  <tbody>\n",
       "    <tr>\n",
       "      <th>0</th>\n",
       "      <td>1</td>\n",
       "      <td>226459</td>\n",
       "      <td>2018-08-26 14:00:00</td>\n",
       "      <td>2018-08-26 16:00:00</td>\n",
       "      <td>Europe/Moscow</td>\n",
       "      <td>0 days 02:00:00</td>\n",
       "    </tr>\n",
       "    <tr>\n",
       "      <th>1</th>\n",
       "      <td>1</td>\n",
       "      <td>226460</td>\n",
       "      <td>2018-08-26 15:00:00</td>\n",
       "      <td>2018-08-26 17:00:00</td>\n",
       "      <td>Europe/Moscow</td>\n",
       "      <td>0 days 02:00:00</td>\n",
       "    </tr>\n",
       "    <tr>\n",
       "      <th>2</th>\n",
       "      <td>1</td>\n",
       "      <td>226462</td>\n",
       "      <td>2018-08-26 17:00:00</td>\n",
       "      <td>2018-08-26 19:00:00</td>\n",
       "      <td>Europe/Moscow</td>\n",
       "      <td>0 days 02:00:00</td>\n",
       "    </tr>\n",
       "    <tr>\n",
       "      <th>3</th>\n",
       "      <td>1</td>\n",
       "      <td>226458</td>\n",
       "      <td>2018-08-26 13:00:00</td>\n",
       "      <td>2018-08-26 15:00:00</td>\n",
       "      <td>Europe/Moscow</td>\n",
       "      <td>0 days 02:00:00</td>\n",
       "    </tr>\n",
       "    <tr>\n",
       "      <th>4</th>\n",
       "      <td>1</td>\n",
       "      <td>227250</td>\n",
       "      <td>2018-08-27 15:00:00</td>\n",
       "      <td>2018-08-27 17:00:00</td>\n",
       "      <td>Europe/Moscow</td>\n",
       "      <td>0 days 02:00:00</td>\n",
       "    </tr>\n",
       "  </tbody>\n",
       "</table>\n",
       "</div>"
      ],
      "text/plain": [
       "   store_id      id           starts_at             ends_at      time_zone  \\\n",
       "0         1  226459 2018-08-26 14:00:00 2018-08-26 16:00:00  Europe/Moscow   \n",
       "1         1  226460 2018-08-26 15:00:00 2018-08-26 17:00:00  Europe/Moscow   \n",
       "2         1  226462 2018-08-26 17:00:00 2018-08-26 19:00:00  Europe/Moscow   \n",
       "3         1  226458 2018-08-26 13:00:00 2018-08-26 15:00:00  Europe/Moscow   \n",
       "4         1  227250 2018-08-27 15:00:00 2018-08-27 17:00:00  Europe/Moscow   \n",
       "\n",
       "    delivery_time  \n",
       "0 0 days 02:00:00  \n",
       "1 0 days 02:00:00  \n",
       "2 0 days 02:00:00  \n",
       "3 0 days 02:00:00  \n",
       "4 0 days 02:00:00  "
      ]
     },
     "execution_count": 37,
     "metadata": {},
     "output_type": "execute_result"
    }
   ],
   "source": [
    "delivery_windows = pd.read_sql_query('''SELECT * FROM delivery_windows ''', conn)\n",
    "delivery_windows['delivery_time'] = delivery_windows.ends_at - delivery_windows.starts_at\n",
    "delivery_windows.head()"
   ]
  },
  {
   "cell_type": "code",
   "execution_count": 38,
   "metadata": {},
   "outputs": [
    {
     "data": {
      "text/html": [
       "<div>\n",
       "<style scoped>\n",
       "    .dataframe tbody tr th:only-of-type {\n",
       "        vertical-align: middle;\n",
       "    }\n",
       "\n",
       "    .dataframe tbody tr th {\n",
       "        vertical-align: top;\n",
       "    }\n",
       "\n",
       "    .dataframe thead th {\n",
       "        text-align: right;\n",
       "    }\n",
       "</style>\n",
       "<table border=\"1\" class=\"dataframe\">\n",
       "  <thead>\n",
       "    <tr style=\"text-align: right;\">\n",
       "      <th></th>\n",
       "      <th>counts</th>\n",
       "      <th>%</th>\n",
       "    </tr>\n",
       "  </thead>\n",
       "  <tbody>\n",
       "    <tr>\n",
       "      <th>0 days 02:00:00</th>\n",
       "      <td>184902</td>\n",
       "      <td>90.49</td>\n",
       "    </tr>\n",
       "    <tr>\n",
       "      <th>0 days 03:00:00</th>\n",
       "      <td>4608</td>\n",
       "      <td>2.26</td>\n",
       "    </tr>\n",
       "    <tr>\n",
       "      <th>0 days 01:00:00</th>\n",
       "      <td>3990</td>\n",
       "      <td>1.95</td>\n",
       "    </tr>\n",
       "    <tr>\n",
       "      <th>0 days 08:00:00</th>\n",
       "      <td>3273</td>\n",
       "      <td>1.60</td>\n",
       "    </tr>\n",
       "    <tr>\n",
       "      <th>0 days 04:00:00</th>\n",
       "      <td>2858</td>\n",
       "      <td>1.40</td>\n",
       "    </tr>\n",
       "  </tbody>\n",
       "</table>\n",
       "</div>"
      ],
      "text/plain": [
       "                 counts      %\n",
       "0 days 02:00:00  184902  90.49\n",
       "0 days 03:00:00    4608   2.26\n",
       "0 days 01:00:00    3990   1.95\n",
       "0 days 08:00:00    3273   1.60\n",
       "0 days 04:00:00    2858   1.40"
      ]
     },
     "execution_count": 38,
     "metadata": {},
     "output_type": "execute_result"
    }
   ],
   "source": [
    "delivery_windows.delivery_time.value_counts()\n",
    "\n",
    "c = delivery_windows.delivery_time.value_counts(dropna=False)\n",
    "p = (delivery_windows.delivery_time.value_counts(dropna=False, normalize=True)*100).round(2)\n",
    "pd.concat([c,p], axis=1, keys=['counts', '%']).head()"
   ]
  },
  {
   "cell_type": "code",
   "execution_count": 39,
   "metadata": {},
   "outputs": [
    {
     "data": {
      "text/html": [
       "<div>\n",
       "<style scoped>\n",
       "    .dataframe tbody tr th:only-of-type {\n",
       "        vertical-align: middle;\n",
       "    }\n",
       "\n",
       "    .dataframe tbody tr th {\n",
       "        vertical-align: top;\n",
       "    }\n",
       "\n",
       "    .dataframe thead th {\n",
       "        text-align: right;\n",
       "    }\n",
       "</style>\n",
       "<table border=\"1\" class=\"dataframe\">\n",
       "  <thead>\n",
       "    <tr style=\"text-align: right;\">\n",
       "      <th></th>\n",
       "      <th>delivery_time</th>\n",
       "      <th>id</th>\n",
       "    </tr>\n",
       "  </thead>\n",
       "  <tbody>\n",
       "    <tr>\n",
       "      <th>count</th>\n",
       "      <td>12</td>\n",
       "      <td>12.000000</td>\n",
       "    </tr>\n",
       "    <tr>\n",
       "      <th>mean</th>\n",
       "      <td>0 days 04:47:30</td>\n",
       "      <td>17028.583333</td>\n",
       "    </tr>\n",
       "    <tr>\n",
       "      <th>std</th>\n",
       "      <td>0 days 03:41:21.874183193</td>\n",
       "      <td>52892.291238</td>\n",
       "    </tr>\n",
       "    <tr>\n",
       "      <th>min</th>\n",
       "      <td>0 days 00:00:00</td>\n",
       "      <td>2.000000</td>\n",
       "    </tr>\n",
       "    <tr>\n",
       "      <th>50%</th>\n",
       "      <td>0 days 04:30:00</td>\n",
       "      <td>1755.000000</td>\n",
       "    </tr>\n",
       "    <tr>\n",
       "      <th>75%</th>\n",
       "      <td>0 days 07:15:00</td>\n",
       "      <td>3452.250000</td>\n",
       "    </tr>\n",
       "    <tr>\n",
       "      <th>95%</th>\n",
       "      <td>0 days 10:27:00</td>\n",
       "      <td>85740.300000</td>\n",
       "    </tr>\n",
       "    <tr>\n",
       "      <th>99%</th>\n",
       "      <td>0 days 10:53:24</td>\n",
       "      <td>165069.660000</td>\n",
       "    </tr>\n",
       "    <tr>\n",
       "      <th>max</th>\n",
       "      <td>0 days 11:00:00</td>\n",
       "      <td>184902.000000</td>\n",
       "    </tr>\n",
       "  </tbody>\n",
       "</table>\n",
       "</div>"
      ],
      "text/plain": [
       "                   delivery_time             id\n",
       "count                         12      12.000000\n",
       "mean             0 days 04:47:30   17028.583333\n",
       "std    0 days 03:41:21.874183193   52892.291238\n",
       "min              0 days 00:00:00       2.000000\n",
       "50%              0 days 04:30:00    1755.000000\n",
       "75%              0 days 07:15:00    3452.250000\n",
       "95%              0 days 10:27:00   85740.300000\n",
       "99%              0 days 10:53:24  165069.660000\n",
       "max              0 days 11:00:00  184902.000000"
      ]
     },
     "metadata": {},
     "output_type": "display_data"
    }
   ],
   "source": [
    "delivery_windows_grouped = delivery_windows.groupby(['delivery_time']).agg({'id':'count'}).reset_index()\n",
    "display(delivery_windows_grouped.describe(percentiles = [.75, .95, .99]))"
   ]
  },
  {
   "cell_type": "code",
   "execution_count": 40,
   "metadata": {},
   "outputs": [
    {
     "data": {
      "text/html": [
       "<div>\n",
       "<style scoped>\n",
       "    .dataframe tbody tr th:only-of-type {\n",
       "        vertical-align: middle;\n",
       "    }\n",
       "\n",
       "    .dataframe tbody tr th {\n",
       "        vertical-align: top;\n",
       "    }\n",
       "\n",
       "    .dataframe thead th {\n",
       "        text-align: right;\n",
       "    }\n",
       "</style>\n",
       "<table border=\"1\" class=\"dataframe\">\n",
       "  <thead>\n",
       "    <tr style=\"text-align: right;\">\n",
       "      <th></th>\n",
       "      <th>delivery_time</th>\n",
       "      <th>id</th>\n",
       "    </tr>\n",
       "  </thead>\n",
       "  <tbody>\n",
       "    <tr>\n",
       "      <th>0</th>\n",
       "      <td>0 days 00:00:00</td>\n",
       "      <td>2</td>\n",
       "    </tr>\n",
       "    <tr>\n",
       "      <th>1</th>\n",
       "      <td>0 days 00:30:00</td>\n",
       "      <td>2626</td>\n",
       "    </tr>\n",
       "    <tr>\n",
       "      <th>2</th>\n",
       "      <td>0 days 01:00:00</td>\n",
       "      <td>3990</td>\n",
       "    </tr>\n",
       "    <tr>\n",
       "      <th>3</th>\n",
       "      <td>0 days 02:00:00</td>\n",
       "      <td>184902</td>\n",
       "    </tr>\n",
       "    <tr>\n",
       "      <th>4</th>\n",
       "      <td>0 days 03:00:00</td>\n",
       "      <td>4608</td>\n",
       "    </tr>\n",
       "  </tbody>\n",
       "</table>\n",
       "</div>"
      ],
      "text/plain": [
       "    delivery_time      id\n",
       "0 0 days 00:00:00       2\n",
       "1 0 days 00:30:00    2626\n",
       "2 0 days 01:00:00    3990\n",
       "3 0 days 02:00:00  184902\n",
       "4 0 days 03:00:00    4608"
      ]
     },
     "metadata": {},
     "output_type": "display_data"
    },
    {
     "data": {
      "image/png": "[encoded data removed]",
      "text/plain": [
       "<Figure size 1080x720 with 1 Axes>"
      ]
     },
     "metadata": {},
     "output_type": "display_data"
    }
   ],
   "source": [
    "display(delivery_windows_grouped.head())\n",
    "fig, axs = plt.subplots(figsize=(15, 10))\n",
    "delivery_windows_grouped.plot(x = 'delivery_time', rot=0, ax=axs)\n",
    "\n",
    "plt.title('Время ожидания доставки')\n",
    "plt.xlabel(\"Время доставки\"); \n",
    "\n",
    "plt.ylabel(\"Количество клиентов\");"
   ]
  },
  {
   "cell_type": "markdown",
   "metadata": {},
   "source": [
    "В среднем клиент получает свой заказ в течение 4 с половиной часов с начала доставки, но есть и такие, кто ждали больше 7-ми часов (25% клиентов), 5% коиентов ждали больше 10 с полвиной часов, и 1% ждал больше 10-ти часов и 53-ех минут. Максимум клиенты ждали 11 часов (45 клиентов - 0.02%). \n",
    "В 90% случаев клиент ждет 2 часа и лишь в 2% - 3 часа. Время одидания до двух часов или больше 3-ех часов составляет меньше 2% для каждого отдельного часа. Время ожидания больше 5-ти часов - меньше полцпроцента для каждого отдельного часа."
   ]
  },
  {
   "cell_type": "code",
   "execution_count": 41,
   "metadata": {},
   "outputs": [
    {
     "data": {
      "text/plain": [
       "array([62, 63])"
      ]
     },
     "execution_count": 41,
     "metadata": {},
     "output_type": "execute_result"
    }
   ],
   "source": [
    "delivery_windows[delivery_windows['delivery_time'] > '0 days 10:00:00'].store_id.unique()\n",
    "#номера магазинов, клиенты которых ждали больше 10-ти часов."
   ]
  },
  {
   "cell_type": "code",
   "execution_count": 42,
   "metadata": {},
   "outputs": [
    {
     "data": {
      "text/html": [
       "<div>\n",
       "<style scoped>\n",
       "    .dataframe tbody tr th:only-of-type {\n",
       "        vertical-align: middle;\n",
       "    }\n",
       "\n",
       "    .dataframe tbody tr th {\n",
       "        vertical-align: top;\n",
       "    }\n",
       "\n",
       "    .dataframe thead th {\n",
       "        text-align: right;\n",
       "    }\n",
       "</style>\n",
       "<table border=\"1\" class=\"dataframe\">\n",
       "  <thead>\n",
       "    <tr style=\"text-align: right;\">\n",
       "      <th></th>\n",
       "      <th>delivery_time</th>\n",
       "    </tr>\n",
       "    <tr>\n",
       "      <th>store_id</th>\n",
       "      <th></th>\n",
       "    </tr>\n",
       "  </thead>\n",
       "  <tbody>\n",
       "    <tr>\n",
       "      <th>62</th>\n",
       "      <td>5416</td>\n",
       "    </tr>\n",
       "  </tbody>\n",
       "</table>\n",
       "</div>"
      ],
      "text/plain": [
       "          delivery_time\n",
       "store_id               \n",
       "62                 5416"
      ]
     },
     "metadata": {},
     "output_type": "display_data"
    },
    {
     "data": {
      "text/html": [
       "<div>\n",
       "<style scoped>\n",
       "    .dataframe tbody tr th:only-of-type {\n",
       "        vertical-align: middle;\n",
       "    }\n",
       "\n",
       "    .dataframe tbody tr th {\n",
       "        vertical-align: top;\n",
       "    }\n",
       "\n",
       "    .dataframe thead th {\n",
       "        text-align: right;\n",
       "    }\n",
       "</style>\n",
       "<table border=\"1\" class=\"dataframe\">\n",
       "  <thead>\n",
       "    <tr style=\"text-align: right;\">\n",
       "      <th></th>\n",
       "      <th>delivery_time</th>\n",
       "    </tr>\n",
       "    <tr>\n",
       "      <th>store_id</th>\n",
       "      <th></th>\n",
       "    </tr>\n",
       "  </thead>\n",
       "  <tbody>\n",
       "    <tr>\n",
       "      <th>63</th>\n",
       "      <td>4622</td>\n",
       "    </tr>\n",
       "  </tbody>\n",
       "</table>\n",
       "</div>"
      ],
      "text/plain": [
       "          delivery_time\n",
       "store_id               \n",
       "63                 4622"
      ]
     },
     "execution_count": 42,
     "metadata": {},
     "output_type": "execute_result"
    }
   ],
   "source": [
    "display(delivery_windows[delivery_windows['store_id'] == 62].groupby('store_id').agg({'delivery_time':'count'}))\n",
    "delivery_windows[delivery_windows['store_id'] == 63].groupby('store_id').agg({'delivery_time':'count'})\n",
    "#Посмотрим, сколько всего заказов выполнили магазины под номерами 62 и 63, это пригодится в дальнейшем"
   ]
  },
  {
   "cell_type": "code",
   "execution_count": 43,
   "metadata": {},
   "outputs": [
    {
     "data": {
      "text/html": [
       "<div>\n",
       "<style scoped>\n",
       "    .dataframe tbody tr th:only-of-type {\n",
       "        vertical-align: middle;\n",
       "    }\n",
       "\n",
       "    .dataframe tbody tr th {\n",
       "        vertical-align: top;\n",
       "    }\n",
       "\n",
       "    .dataframe thead th {\n",
       "        text-align: right;\n",
       "    }\n",
       "</style>\n",
       "<table border=\"1\" class=\"dataframe\">\n",
       "  <thead>\n",
       "    <tr style=\"text-align: right;\">\n",
       "      <th></th>\n",
       "      <th>store_id</th>\n",
       "      <th>delivery_time</th>\n",
       "    </tr>\n",
       "  </thead>\n",
       "  <tbody>\n",
       "    <tr>\n",
       "      <th>0</th>\n",
       "      <td>62</td>\n",
       "      <td>11</td>\n",
       "    </tr>\n",
       "    <tr>\n",
       "      <th>1</th>\n",
       "      <td>63</td>\n",
       "      <td>34</td>\n",
       "    </tr>\n",
       "  </tbody>\n",
       "</table>\n",
       "</div>"
      ],
      "text/plain": [
       "   store_id  delivery_time\n",
       "0        62             11\n",
       "1        63             34"
      ]
     },
     "execution_count": 43,
     "metadata": {},
     "output_type": "execute_result"
    }
   ],
   "source": [
    "delivery_windows_over = delivery_windows[delivery_windows['delivery_time'] > '0 days 10:00:00'].groupby('store_id').agg({'delivery_time':'count'}).reset_index()\n",
    "delivery_windows_over"
   ]
  },
  {
   "cell_type": "markdown",
   "metadata": {},
   "source": [
    "Мы уже встречали до этого магазин под нмоером 63 - один из его клиентов нахоится в списке ожижания pending. Тем не менее, это уже аномалия, что всего два магазина так сильно порятят статистику и 45 только их клиентов ждали доставку еды более 10-ти часов. Магазины под номерами 62 и 63 берут на себя 36% от всех задержек на 10+ часов для всего спсика,"
   ]
  },
  {
   "cell_type": "markdown",
   "metadata": {},
   "source": [
    "# Вывод <a id=\"вывод\"></a> "
   ]
  },
  {
   "cell_type": "code",
   "execution_count": 44,
   "metadata": {},
   "outputs": [
    {
     "name": "stdout",
     "output_type": "stream",
     "text": [
      "Средняя сумма доставки за весь период:  174 рублей\n",
      "Средний количество пользователей за весь период:  42294 человека\n",
      "Средний количество уникаьных пользователей за весь период:  27533 клиентов\n",
      "Средний вес товаров за весь период:  24 кг\n",
      "Среднее количество товаров за весь период:  40 товаров\n",
      "Средний чек за весь период:  4711 рублей\n"
     ]
    }
   ],
   "source": [
    "print('Средняя сумма доставки за весь период: ', int(total_cost.total_cost.mean()), 'рублей')\n",
    "print('Средний количество пользователей за весь период: ', int(users_order.user_id.mean()), 'человека')\n",
    "print('Средний количество уникаьных пользователей за весь период: ', int(users_nunique.user_id.mean()), 'клиентов')\n",
    "print('Средний вес товаров за весь период: ', int(total_weight.total_weight.mean()/1000), 'кг')\n",
    "print('Среднее количество товаров за весь период: ', int(total_quantity.total_quantity.mean()), 'товаров')\n",
    "print('Средний чек за весь период: ', int(item_total.item_total.mean()), 'рублей')"
   ]
  },
  {
   "cell_type": "markdown",
   "metadata": {},
   "source": [
    "Изучив данные срезов, мы нашли разного рода аномалии и изучили их. После чего почистили фрейм от данных аномаий и сделали исследование средних значений. Выделили характеристики среднего покупателя по месяцам. Разберем по порядку, что было обнаружено: \n",
    "\n",
    "- сумма доставки\n",
    "    1. Графы total_cost и cost значения сильно похожи, но следует заметить, что минимальное начение для total_cost уходит в минус - значит, кто-то \"заработал\" на скидке. Максимум для них обоих - 30.000 рублей за доставку (что характерно только для 1%, для 99% характерны доставки суммой до 700 рублей).\n",
    "    2. Некотрые клиенты (три случая) \"заработали\" на скидке - их финальная стоимость доставки выходит ниже нуля. Это может быть связано с ошибкой в системе.\n",
    "    3. Средняя сумма доставки составляет 176 рублей.\n",
    "- количество товара на одного покупателя\n",
    "    1. Графа total_quantity(Количество единиц товара) варьирует в среднем до 200 товаров для 99% покупателей. Только для 1% характерно покупать на свыше, чем 200 товаров и доходит до своего максимума в 36 тыс единиц товара, купленного за раз.\n",
    "    2. Я выделила отдельную группу тех клиентов, которые больше всего заказывают товаров (а именно таких товаров, которых по количеству заказывает только 0.1% клиентов) и обнаружила, что один из клиентов встречается 92 раза в списке, сделав закз в среднем на 1117 единиц товара. Есть клиент, который также встречается в списке 41 раз и делает покупки на в среднем 1123 единицы товара. Также нам попадает клиент, которые единожды сделал заказ на максимальное число товров - 36040 единиц весом в 20 кг. Примечательно, что это его единичное появление на сайте в целом, и его покупка составила 25.7 тыс рублей. Поскольку заказ отправлен и не отменен, сложно назвать данную аномалию ошибкой, но сами ее истоки мне вычеслить не удалось. В дальнейшем я исключила 0.1% для вычисления среднего количества заказов\n",
    "    3. Среднее количество товаров за весь период составило  41 товар на каждого покупателя\n",
    "- средний чек \n",
    "    1. Графа item_total(средний чек)также имеет аномалии - для 90% харктерен средний чек на 8750 рублей и меньше, для оставшихся 10% - почти 20 тыс рублей и для 1% - от 20 тыс рублей до 481.195 тыс рублей (почти полмиллиона рублей).\n",
    "    2. Видим, что один из клиентов в списке из 156 человек с самым высоким средним чеком находится 23 раза (14% от всей группы) со средним чеком в 125 тыс рублей, другой клиент (мы уже встречали его ранее) встретился нам 17 раз и купил товара на 107 тыс рублей в среднем - те есть клиенты, которые в среднем покупают на большие суммы, но многиеих них встречаются не больше одного раза в списке дорогих закупок. Тем не менее, явление все еще достаточно редкое и я включю его скорее в рзряд \"исключений\", нежели повсеместной практики.\n",
    "    3. В графе \"средний чек\" данные разбросаны намного сильнее, чем в других строках - но все еще не свыше 30-и человек заказали на больше, чем 200 тыс рублей, большинство колеблется на сумме до 100 тысяч. В дальнейшем я включу в \"чистую\" таблицу только тех покупателей, которые заказывают товары на сумму до 100 тысяч рублей\n",
    "    4. Средний чек сосавтялет  4732 рублей.\n",
    "- средний вес\n",
    "    1. Мы наблюдаем, что несмотря на высокий поток клиентов в ноябре, вес товаров не особо отличаются от среднего - те клиент покупает столько же товаров по весу, как обычно, но за более высокую сумму, что еще раз доказывает, что это обусловлено Черной пятницей. Наблюдая корреляцию за январь 2018-ого по среднему чеку и среднему весу, можно сказать, что клиенты покупают больше товаров за ту же самую цену (веротяно, распродажа товаров на Новый год, которые не были проданы к сроку). Также видно резкий спад в августе и сентбре (как и по среднему чеку). Зная данную информацию, можно заказывать меньше быстропортящихся товаров на август и сентябрь, чтобы товар не пропадал от недостатка покупателей на него.\n",
    "    2. Средний вес товаров за весь период сосавтялет 24 кг\n",
    "- Среднее количествo покупателей \n",
    "    1. Построив график по количеству клиентаов за данный период, можно заметить резкий рост за ноябрь 2019-ого: у  приложения было почти в два раза больше клиентов, чем в октябрь и на треть больше, чем за декабрь. Может быть много факторов такого спроса - но, вероятнее всего, Черная пятница. \n",
    "    2. Средний количество пользователей за весь период назвать сложно, потому что показатели за разные месяцы очень разные - в среднем за весь период 42.332 человека, но учитывая, что до марта 2019-го пик наших клиентов составлят 2000 человек, то с марта по октябрь мы видим резкий рост от 20.000 тыс до 85.000 и доходит до своего пика в ноябре - 140 тыс пользователей. Вероятно, у компании была какая-то крупная рекламаная акция, которая со временем привела до 120 тыс клиентов\n",
    "    3. В то же время важно анализировать уникальных клиентов - также виден рост начиная с марта 2019-го и пик в ноябре. С марта клиентская база данных выросла от 13 тыс до 88 тыс клиентов и в средем у нас 27533 уникаьных пользователей за весь период.  \n",
    "- Отмененные и отложенные доставки\n",
    "    1. На графике видно, что больше всего отмен и задержек было выявлено за ноябрь 2019-го (можно ассоциировать с той же Черной пятницей - суммарно) и за октябрь 2018-го. Четко выражен промежуток от января до практически сентября 2019 (одна задержка за весь период) и начиная с октября задержки и отмены заказов доходят до своего пика - 6 отмен заказов и 3 задержки за один месяц. Несмотря на то, что отмен и задержек стало больше, между январем и сентябрем 2019-го наблюдается всего одна задержка, и это учитывая, что клиентов с января стало намного больше, чем было в 2018-ом. Клиентов стало в три раза больше (от 20 тыс до 60 тыс), чем было. \n",
    "    2. Учитывая, что за ноябрь у нас было почти 150 тыс заказов, 6 отмен составляют не больше 0.01%. Тем не менее, они есть, я бы посоветовала обратить внимание на недостоюшие товары в ноябре, чтобы избежать повтора в следующем году. Также неудивительно, что у нас практически не было \n",
    "    3. Приглядимся к номеру 14 - отмены и замены его клиентов  распростарнены по всему промежутку, очевидно, магазин плохо справляется со своими обязанностями. Из 27 случае он берет на себя 7 (22%) и значительно портит статистику в этом плане. Важно понять, в чем причины и предпринять подобающие меры для изменения ситуации.\n",
    "- замены\n",
    "    1. В среднем у нас производится две замены на заказ, но в топ-10 замен, видно, что бывает и по 30, и по 40 замен на один заказ. Посмотрев на соотношене, видим, что у меньше, чем 25% процентов пользователей происзводится больше 4-ех замен и для всего 5% пользователей производится больше 7-ти замен на один заказ, для всего 1% производится болше 11-ти замен. Это означает, что наши 30 и 40+ замен - составляет меньше одного процента для всех клиентов.Учитывая, что в среднем у нас 42 товара на клиента, замены относятся скорее всего к тем клиентам, которые выходят за 99,9% покупателей в нашем фрейме.\n",
    "- отмены\n",
    "    1. Как и в таблице замен - аномалия. Меньше 1% отменяли больше, чем 13 товаров за один заказ, и токльо 1% отменил до 118. Также учитывая, что в среднем у нас приходится 42 товара на человека - отмена 118 товаров что-то из ряда вон выходящее и относится к покупателям, котрые заказли в три раза больше товаров, чем типичный покупатель. 95% пользователей отменили не больше 8 товаров за один заказ. В среднем клиент отменяет от 2 до 3 товаров.\n",
    "- время доставки\n",
    "    1. В среднем клиент получает свой заказ в течение 4 с половиной часов с начала доставки, но есть и такие, кто ждали больше 7-ми часов (25% клиентов), 5% коиентов ждали больше 10 с полвиной часов, и 1% ждал больше 10-ти часов и 53-ех минут. Максимум клиенты ждали 11 часов (45 клиентов - 0.02%). В 90% случаев клиент ждет 2 часа и лишь в 2% - 3 часа. Время одидания до двух часов или больше 3-ех часов составляет меньше 2% для каждого отдельного часа. Время ожидания больше 5-ти часов - меньше полцпроцента для каждого отдельного часа."
   ]
  },
  {
   "cell_type": "markdown",
   "metadata": {},
   "source": [
    "# Рекомендации"
   ]
  },
  {
   "cell_type": "markdown",
   "metadata": {},
   "source": [
    "Я бы посоветовала приглядеться к магазинам под номерами 14, 62 и 63. Номер 14 лидирует по отменам и задержкам и значительно портит статистику (берет на себя 22% от всех отмен и задержек заказов). Номера 62 и 63  вместе берут на себя 36% от всех задержек на 10 и более часов ожидания и также значительно портят статистику (45 только их клиентов ждали доставку еды более 10-ти часов.). \n",
    "\n",
    "Я бы также посоветовала проявить больше внимания к концу года, а именно к ноябрю - мы видим колосальный прирост клиентов в особенности в этом месяце по причине, вероятно, Черной пятницы. Количество как уникальных пользователей, так и повторяющихся достигает своего максимума именно в ноябре и сайт \"проседает\" на отменах и заменах также в особенности в ноябре. "
   ]
  },
  {
   "cell_type": "markdown",
   "metadata": {},
   "source": [
    "* [Метрики](#метрики)\n",
    "* [Разбор аномалий и закономерностей](#аномалий)\n",
    "   * [Разбор таблицы orders](#orders)\n",
    "       * [Разбор аномалий по сумме доставки](#доставки)\n",
    "       * [Разбор аномалий по колиечству товара](#количество)\n",
    "       * [Разбор аномалий по  среднему чеку](#чеку)\n",
    "       * [Чистка данных](#Чистка)\n",
    "       * [Среднее количествo покупателей](#покупателей) \n",
    "       * [Средний чек](#Срчек) \n",
    "       * [Средний вес](#вес)\n",
    "       * [Среднее количество товаров](#количествотоваров)\n",
    "       * [Средняя сумма доставки](#суммадоставки)\n",
    "       * [Разбор отмененных доставок](#отмененных)\n",
    "   * [Разбор таблицы replacements](#replacements)\n",
    "       * [Среднее количество замен](#замен) \n",
    "   * [Разбор таблицы cancellations](#cancellations)\n",
    "       * [Среднее количество отмен](#отмен) \n",
    "   * [Разбор таблицы delivery_windows](#delivery_windows)\n",
    "       * [Время одидания доставки](#ожидания) \n",
    "* [Вывод](#вывод) "
   ]
  }
 ],
 "metadata": {
  "kernelspec": {
   "display_name": "Python 3",
   "language": "python",
   "name": "python3"
  },
  "language_info": {
   "codemirror_mode": {
    "name": "ipython",
    "version": 3
   },
   "file_extension": ".py",
   "mimetype": "text/x-python",
   "name": "python",
   "nbconvert_exporter": "python",
   "pygments_lexer": "ipython3",
   "version": "3.8.8"
  }
 },
 "nbformat": 4,
 "nbformat_minor": 4
}
