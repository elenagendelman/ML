{
 "cells": [
  {
   "cell_type": "markdown",
   "metadata": {},
   "source": [
    "<div style=\"border:solid green 2px; padding: 20px\">\n",
    "<b>Елена, привет!</b>\n",
    "\n",
    "Меня зовут Евгений Дащенко, и я буду проверять твой проект. Предлагаю общаться на «ты» 😊 Но если это не удобно - дай знать, и мы перейдем на \"вы\". \n",
    "\n",
    "Моя основная цель — не указать на совершенные тобою ошибки, а поделиться своим опытом и помочь тебе стать аналитиком данных. Ты уже проделал большую работу над проектом, но давай сделаем его еще лучше. Ниже ты найдешь мои комментарии - пожалуйста, не перемещай, не изменяй и не удаляй их. Я буду использовать цветовую разметку:\n",
    "\n",
    "<div class=\"alert alert-danger\">\n",
    "<b>Комментарий ревьюера:</b> Так выделены самые важные замечания. Без их отработки проект не будет принят. </div>\n",
    "\n",
    "<div class=\"alert alert-warning\">\n",
    "<b>Комментарий ревьюера:</b> Так выделены небольшие замечания. Одна-два таких замечания в проекте допустимы, но если их будет больше - тебе будет необходимо внести исправления. Это как тестовое задание при приеме на работу: очень много мелких ошибок могут стать причиной отказа кандидату. \n",
    "\n",
    "</div>\n",
    "\n",
    "<div class=\"alert alert-success\">\n",
    "<b>Комментарий ревьюера:</b> Так я выделяю все остальные комментарии.</div>\n",
    "\n",
    "Давай работать над проектом в диалоге: если ты что-то меняешь в проекте или отвечаешь на мои комменатри — пиши об этом. Мне будет легче отследить изменения, если ты выделишь свои комментарии:\n",
    "<div class=\"alert alert-info\"> <b>Комментарий студента:</b> Например, вот так.</div>\n",
    "\n",
    "Всё это поможет выполнить повторную проверку твоего проекта оперативнее. \n",
    "    "
   ]
  },
  {
   "cell_type": "markdown",
   "metadata": {},
   "source": [
    "* [Описание проекта](#Описание)\n",
    "* [Исследовательский анализ данных EDA](#EDA)\n",
    "   * [Столбчатые гисторграммы](#гисторграммы)\n",
    "   * [Heatmap](#Heatmap)\n",
    "* [Построение моделм прогнозирования оттока пользователей](#Построение)\n",
    "* [Кластеризация пользователей](#Кластеризация)\n",
    "* [Выводы](#Выводы) "
   ]
  },
  {
   "cell_type": "markdown",
   "metadata": {},
   "source": [
    "# Описание проекта <a id=\"Описание\"></a> \n",
    "\n",
    "Сеть фитнес-центров «Культурист-датасаентист» разрабатывает стратегию взаимодействия с пользователями на основе аналитических данных.\n",
    "\n",
    "Распространённая проблема фитнес-клубов и других сервисов — отток клиентов. Как понять, что пользователь больше не с вами? Можно записать в отток тех, кто попросил закрыть договор или удалил аккаунт. Однако клиенты не всегда уходят демонстративно: чаще перестают пользоваться сервисом тихо.\n",
    "Индикаторы оттока зависят от специфики отрасли. Когда пользователь редко, но стабильно закупается в интернет-магазине — не похоже, что он «отвалился». А вот если две недели не заходит на канал с ежедневно обновляемым контентом, дела плохи: подписчик заскучал и, кажется, оставил вас.\n",
    "Для фитнес-центра можно считать, что клиент попал в отток, если за последний месяц ни разу не посетил спортзал. Конечно, не исключено, что он уехал на Бали и по приезде обязательно продолжит ходить на фитнес. Однако чаще бывает наоборот. Если клиент начал новую жизнь с понедельника, немного походил в спортзал, а потом пропал — скорее всего, он не вернётся.\n",
    "\n",
    "Чтобы бороться с оттоком, отдел по работе с клиентами «Культуриста-датасаентиста» перевёл в электронный вид множество анкет пользователей. Ваша задача — провести анализ и подготовить план действий по удержанию клиентов.А именно:\n",
    "\n",
    "- научиться прогнозировать вероятность оттока (на уровне следующего месяца) для каждого клиента;\n",
    "- сформировать типичные портреты пользователей: выделить несколько наиболее ярких групп и охарактеризовать их основные свойства;\n",
    "- проанализировать основные признаки, наиболее сильно влияющие на отток;\n",
    "- сформулировать основные выводы и разработать рекомендации по повышению качества работы с клиентами:\n",
    "     - выделить целевые группы клиентов;\n",
    "     - предложить меры по снижению оттока;\n",
    "     - определить другие особенности взаимодействия с клиентами.\n",
    "\n"
   ]
  },
  {
   "cell_type": "markdown",
   "metadata": {},
   "source": [
    "<div class=\"alert alert-success\">\n",
    "<b>Комментарий ревьюера:</b>\n",
    "\n",
    "Здорово, когда есть вступление в сам проект, каждый сможет быстрее разобраться в концепции / деталях работы. \n",
    "\n",
    "</div>"
   ]
  },
  {
   "cell_type": "code",
   "execution_count": 1,
   "metadata": {},
   "outputs": [],
   "source": [
    "import pandas as pd\n",
    "import seaborn as sns\n",
    "import matplotlib.pyplot as plt\n",
    "from sklearn.preprocessing import StandardScaler\n",
    "from sklearn.model_selection import train_test_split\n",
    "import matplotlib.pyplot as plt\n",
    "\n",
    "from sklearn.linear_model import LogisticRegression\n",
    "from sklearn.ensemble import RandomForestClassifier, GradientBoostingClassifier\n",
    "from sklearn.metrics import accuracy_score, precision_score, recall_score, f1_score\n",
    "\n",
    "from scipy.cluster.hierarchy import dendrogram, linkage \n",
    "from sklearn.cluster import KMeans"
   ]
  },
  {
   "cell_type": "code",
   "execution_count": 2,
   "metadata": {},
   "outputs": [],
   "source": [
    "def print_all_metrics(y_true, y_pred, y_proba, title='Метрики классификации'):\n",
    "    print(title)\n",
    "    print('\\tAccuracy: {:.2f}'.format(accuracy_score(y_true, y_pred)))\n",
    "    print('\\tPrecision: {:.2f}'.format(precision_score(y_true, y_pred)))\n",
    "    print('\\tRecall: {:.2f}'.format(recall_score(y_true, y_pred)))"
   ]
  },
  {
   "cell_type": "markdown",
   "metadata": {},
   "source": [
    "<div class=\"alert alert-success\">\n",
    "<b>Комментарий ревьюера:</b>\n",
    "\n",
    "Отличная функция для расчета метрик, тем самым мы оптимизировали наш код 👍\n",
    "</div>"
   ]
  },
  {
   "cell_type": "code",
   "execution_count": 3,
   "metadata": {},
   "outputs": [],
   "source": [
    "df = pd.read_csv('https://code.s3.yandex.net/datasets/gym_churn.csv')"
   ]
  },
  {
   "cell_type": "code",
   "execution_count": 4,
   "metadata": {},
   "outputs": [
    {
     "name": "stdout",
     "output_type": "stream",
     "text": [
      "(4000, 14)\n"
     ]
    },
    {
     "data": {
      "text/html": [
       "<div>\n",
       "<style scoped>\n",
       "    .dataframe tbody tr th:only-of-type {\n",
       "        vertical-align: middle;\n",
       "    }\n",
       "\n",
       "    .dataframe tbody tr th {\n",
       "        vertical-align: top;\n",
       "    }\n",
       "\n",
       "    .dataframe thead th {\n",
       "        text-align: right;\n",
       "    }\n",
       "</style>\n",
       "<table border=\"1\" class=\"dataframe\">\n",
       "  <thead>\n",
       "    <tr style=\"text-align: right;\">\n",
       "      <th></th>\n",
       "      <th>gender</th>\n",
       "      <th>near_location</th>\n",
       "      <th>partner</th>\n",
       "      <th>promo_friends</th>\n",
       "      <th>phone</th>\n",
       "      <th>contract_period</th>\n",
       "      <th>group_visits</th>\n",
       "      <th>age</th>\n",
       "      <th>avg_additional_charges_total</th>\n",
       "      <th>month_to_end_contract</th>\n",
       "      <th>lifetime</th>\n",
       "      <th>avg_class_frequency_total</th>\n",
       "      <th>avg_class_frequency_current_month</th>\n",
       "      <th>churn</th>\n",
       "    </tr>\n",
       "  </thead>\n",
       "  <tbody>\n",
       "    <tr>\n",
       "      <td>0</td>\n",
       "      <td>1</td>\n",
       "      <td>1</td>\n",
       "      <td>1</td>\n",
       "      <td>1</td>\n",
       "      <td>0</td>\n",
       "      <td>6</td>\n",
       "      <td>1</td>\n",
       "      <td>29</td>\n",
       "      <td>14.227470</td>\n",
       "      <td>5.0</td>\n",
       "      <td>3</td>\n",
       "      <td>0.020398</td>\n",
       "      <td>0.000000</td>\n",
       "      <td>0</td>\n",
       "    </tr>\n",
       "    <tr>\n",
       "      <td>1</td>\n",
       "      <td>0</td>\n",
       "      <td>1</td>\n",
       "      <td>0</td>\n",
       "      <td>0</td>\n",
       "      <td>1</td>\n",
       "      <td>12</td>\n",
       "      <td>1</td>\n",
       "      <td>31</td>\n",
       "      <td>113.202938</td>\n",
       "      <td>12.0</td>\n",
       "      <td>7</td>\n",
       "      <td>1.922936</td>\n",
       "      <td>1.910244</td>\n",
       "      <td>0</td>\n",
       "    </tr>\n",
       "    <tr>\n",
       "      <td>2</td>\n",
       "      <td>0</td>\n",
       "      <td>1</td>\n",
       "      <td>1</td>\n",
       "      <td>0</td>\n",
       "      <td>1</td>\n",
       "      <td>1</td>\n",
       "      <td>0</td>\n",
       "      <td>28</td>\n",
       "      <td>129.448479</td>\n",
       "      <td>1.0</td>\n",
       "      <td>2</td>\n",
       "      <td>1.859098</td>\n",
       "      <td>1.736502</td>\n",
       "      <td>0</td>\n",
       "    </tr>\n",
       "    <tr>\n",
       "      <td>3</td>\n",
       "      <td>0</td>\n",
       "      <td>1</td>\n",
       "      <td>1</td>\n",
       "      <td>1</td>\n",
       "      <td>1</td>\n",
       "      <td>12</td>\n",
       "      <td>1</td>\n",
       "      <td>33</td>\n",
       "      <td>62.669863</td>\n",
       "      <td>12.0</td>\n",
       "      <td>2</td>\n",
       "      <td>3.205633</td>\n",
       "      <td>3.357215</td>\n",
       "      <td>0</td>\n",
       "    </tr>\n",
       "    <tr>\n",
       "      <td>4</td>\n",
       "      <td>1</td>\n",
       "      <td>1</td>\n",
       "      <td>1</td>\n",
       "      <td>1</td>\n",
       "      <td>1</td>\n",
       "      <td>1</td>\n",
       "      <td>0</td>\n",
       "      <td>26</td>\n",
       "      <td>198.362265</td>\n",
       "      <td>1.0</td>\n",
       "      <td>3</td>\n",
       "      <td>1.113884</td>\n",
       "      <td>1.120078</td>\n",
       "      <td>0</td>\n",
       "    </tr>\n",
       "  </tbody>\n",
       "</table>\n",
       "</div>"
      ],
      "text/plain": [
       "   gender  near_location  partner  promo_friends  phone  contract_period  \\\n",
       "0       1              1        1              1      0                6   \n",
       "1       0              1        0              0      1               12   \n",
       "2       0              1        1              0      1                1   \n",
       "3       0              1        1              1      1               12   \n",
       "4       1              1        1              1      1                1   \n",
       "\n",
       "   group_visits  age  avg_additional_charges_total  month_to_end_contract  \\\n",
       "0             1   29                     14.227470                    5.0   \n",
       "1             1   31                    113.202938                   12.0   \n",
       "2             0   28                    129.448479                    1.0   \n",
       "3             1   33                     62.669863                   12.0   \n",
       "4             0   26                    198.362265                    1.0   \n",
       "\n",
       "   lifetime  avg_class_frequency_total  avg_class_frequency_current_month  \\\n",
       "0         3                   0.020398                           0.000000   \n",
       "1         7                   1.922936                           1.910244   \n",
       "2         2                   1.859098                           1.736502   \n",
       "3         2                   3.205633                           3.357215   \n",
       "4         3                   1.113884                           1.120078   \n",
       "\n",
       "   churn  \n",
       "0      0  \n",
       "1      0  \n",
       "2      0  \n",
       "3      0  \n",
       "4      0  "
      ]
     },
     "execution_count": 4,
     "metadata": {},
     "output_type": "execute_result"
    }
   ],
   "source": [
    "print(df.shape)\n",
    "df.columns = df.columns.str.lower()\n",
    "df.head() "
   ]
  },
  {
   "cell_type": "markdown",
   "metadata": {},
   "source": [
    "- 'Churn' — факт оттока в текущем месяце;\n",
    "- Текущие поля в датасете:\n",
    "    - Данные пользователя за предыдущий до проверки факта оттока месяц:\n",
    "        - 'gender' — пол\n",
    "        - 'Near_Location' — проживание или работа в районе, где находится фитнес-центр\n",
    "        - 'Partner' — сотрудник компании-партнёра клуба (сотрудничество с компаниями, чьи сотрудники могут получать скидки на абонемент — в таком случае фитнес-центр хранит информацию о работодателе клиента)\n",
    "        - Promo_friends — факт первоначальной записи в рамках акции «приведи друга» (использовал промо-код от знакомого при оплате первого абонемента)\n",
    "        - 'Phone' — наличие контактного телефона\n",
    "        - 'Age' — возраст\n",
    "        - 'Lifetime' — время с момента первого обращения в фитнес-центр (в месяцах)\n",
    "    - Информация на основе журнала посещений, покупок и информация о текущем статусе абонемента клиента\n",
    "        - 'Contract_period' — длительность текущего действующего абонемента (месяц, 3 месяца, 6 месяцев, год)\n",
    "        - 'Month_to_end_contract' — срок до окончания текущего действующего абонемента (в месяцах)\n",
    "        - 'Group_visits' — факт посещения групповых занятий\n",
    "        - 'Avg_class_frequency_total' — средняя частота посещений в неделю за все время с начала действия абонемента\n",
    "        - 'Avg_class_frequency_current_month' — средняя частота посещений в неделю за предыдущий месяц\n",
    "        - 'Avg_additional_charges_total' — суммарная выручка от других услуг фитнес-центра: кафе, спорт-товары, косметический и массажный салон\n"
   ]
  },
  {
   "cell_type": "code",
   "execution_count": 5,
   "metadata": {
    "scrolled": true
   },
   "outputs": [
    {
     "name": "stdout",
     "output_type": "stream",
     "text": [
      "<class 'pandas.core.frame.DataFrame'>\n",
      "RangeIndex: 4000 entries, 0 to 3999\n",
      "Data columns (total 14 columns):\n",
      "gender                               4000 non-null int64\n",
      "near_location                        4000 non-null int64\n",
      "partner                              4000 non-null int64\n",
      "promo_friends                        4000 non-null int64\n",
      "phone                                4000 non-null int64\n",
      "contract_period                      4000 non-null int64\n",
      "group_visits                         4000 non-null int64\n",
      "age                                  4000 non-null int64\n",
      "avg_additional_charges_total         4000 non-null float64\n",
      "month_to_end_contract                4000 non-null float64\n",
      "lifetime                             4000 non-null int64\n",
      "avg_class_frequency_total            4000 non-null float64\n",
      "avg_class_frequency_current_month    4000 non-null float64\n",
      "churn                                4000 non-null int64\n",
      "dtypes: float64(4), int64(10)\n",
      "memory usage: 437.6 KB\n"
     ]
    }
   ],
   "source": [
    "df.info() #all data is clean"
   ]
  },
  {
   "cell_type": "markdown",
   "metadata": {},
   "source": [
    "# Исследовательский анализ данных (EDA) <a id=\"EDA\"></a> \n"
   ]
  },
  {
   "cell_type": "code",
   "execution_count": 6,
   "metadata": {},
   "outputs": [
    {
     "data": {
      "text/html": [
       "<div>\n",
       "<style scoped>\n",
       "    .dataframe tbody tr th:only-of-type {\n",
       "        vertical-align: middle;\n",
       "    }\n",
       "\n",
       "    .dataframe tbody tr th {\n",
       "        vertical-align: top;\n",
       "    }\n",
       "\n",
       "    .dataframe thead th {\n",
       "        text-align: right;\n",
       "    }\n",
       "</style>\n",
       "<table border=\"1\" class=\"dataframe\">\n",
       "  <thead>\n",
       "    <tr style=\"text-align: right;\">\n",
       "      <th></th>\n",
       "      <th>gender</th>\n",
       "      <th>near_location</th>\n",
       "      <th>partner</th>\n",
       "      <th>promo_friends</th>\n",
       "      <th>phone</th>\n",
       "      <th>contract_period</th>\n",
       "      <th>group_visits</th>\n",
       "      <th>age</th>\n",
       "      <th>avg_additional_charges_total</th>\n",
       "      <th>month_to_end_contract</th>\n",
       "      <th>lifetime</th>\n",
       "      <th>avg_class_frequency_total</th>\n",
       "      <th>avg_class_frequency_current_month</th>\n",
       "      <th>churn</th>\n",
       "    </tr>\n",
       "  </thead>\n",
       "  <tbody>\n",
       "    <tr>\n",
       "      <td>count</td>\n",
       "      <td>4000.000000</td>\n",
       "      <td>4000.000000</td>\n",
       "      <td>4000.000000</td>\n",
       "      <td>4000.000000</td>\n",
       "      <td>4000.000000</td>\n",
       "      <td>4000.000000</td>\n",
       "      <td>4000.000000</td>\n",
       "      <td>4000.000000</td>\n",
       "      <td>4000.000000</td>\n",
       "      <td>4000.000000</td>\n",
       "      <td>4000.000000</td>\n",
       "      <td>4000.000000</td>\n",
       "      <td>4000.000000</td>\n",
       "      <td>4000.000000</td>\n",
       "    </tr>\n",
       "    <tr>\n",
       "      <td>mean</td>\n",
       "      <td>0.510250</td>\n",
       "      <td>0.845250</td>\n",
       "      <td>0.486750</td>\n",
       "      <td>0.308500</td>\n",
       "      <td>0.903500</td>\n",
       "      <td>4.681250</td>\n",
       "      <td>0.412250</td>\n",
       "      <td>29.184250</td>\n",
       "      <td>146.943728</td>\n",
       "      <td>4.322750</td>\n",
       "      <td>3.724750</td>\n",
       "      <td>1.879020</td>\n",
       "      <td>1.767052</td>\n",
       "      <td>0.265250</td>\n",
       "    </tr>\n",
       "    <tr>\n",
       "      <td>std</td>\n",
       "      <td>0.499957</td>\n",
       "      <td>0.361711</td>\n",
       "      <td>0.499887</td>\n",
       "      <td>0.461932</td>\n",
       "      <td>0.295313</td>\n",
       "      <td>4.549706</td>\n",
       "      <td>0.492301</td>\n",
       "      <td>3.258367</td>\n",
       "      <td>96.355602</td>\n",
       "      <td>4.191297</td>\n",
       "      <td>3.749267</td>\n",
       "      <td>0.972245</td>\n",
       "      <td>1.052906</td>\n",
       "      <td>0.441521</td>\n",
       "    </tr>\n",
       "    <tr>\n",
       "      <td>min</td>\n",
       "      <td>0.000000</td>\n",
       "      <td>0.000000</td>\n",
       "      <td>0.000000</td>\n",
       "      <td>0.000000</td>\n",
       "      <td>0.000000</td>\n",
       "      <td>1.000000</td>\n",
       "      <td>0.000000</td>\n",
       "      <td>18.000000</td>\n",
       "      <td>0.148205</td>\n",
       "      <td>1.000000</td>\n",
       "      <td>0.000000</td>\n",
       "      <td>0.000000</td>\n",
       "      <td>0.000000</td>\n",
       "      <td>0.000000</td>\n",
       "    </tr>\n",
       "    <tr>\n",
       "      <td>25%</td>\n",
       "      <td>0.000000</td>\n",
       "      <td>1.000000</td>\n",
       "      <td>0.000000</td>\n",
       "      <td>0.000000</td>\n",
       "      <td>1.000000</td>\n",
       "      <td>1.000000</td>\n",
       "      <td>0.000000</td>\n",
       "      <td>27.000000</td>\n",
       "      <td>68.868830</td>\n",
       "      <td>1.000000</td>\n",
       "      <td>1.000000</td>\n",
       "      <td>1.180875</td>\n",
       "      <td>0.963003</td>\n",
       "      <td>0.000000</td>\n",
       "    </tr>\n",
       "    <tr>\n",
       "      <td>50%</td>\n",
       "      <td>1.000000</td>\n",
       "      <td>1.000000</td>\n",
       "      <td>0.000000</td>\n",
       "      <td>0.000000</td>\n",
       "      <td>1.000000</td>\n",
       "      <td>1.000000</td>\n",
       "      <td>0.000000</td>\n",
       "      <td>29.000000</td>\n",
       "      <td>136.220159</td>\n",
       "      <td>1.000000</td>\n",
       "      <td>3.000000</td>\n",
       "      <td>1.832768</td>\n",
       "      <td>1.719574</td>\n",
       "      <td>0.000000</td>\n",
       "    </tr>\n",
       "    <tr>\n",
       "      <td>75%</td>\n",
       "      <td>1.000000</td>\n",
       "      <td>1.000000</td>\n",
       "      <td>1.000000</td>\n",
       "      <td>1.000000</td>\n",
       "      <td>1.000000</td>\n",
       "      <td>6.000000</td>\n",
       "      <td>1.000000</td>\n",
       "      <td>31.000000</td>\n",
       "      <td>210.949625</td>\n",
       "      <td>6.000000</td>\n",
       "      <td>5.000000</td>\n",
       "      <td>2.536078</td>\n",
       "      <td>2.510336</td>\n",
       "      <td>1.000000</td>\n",
       "    </tr>\n",
       "    <tr>\n",
       "      <td>max</td>\n",
       "      <td>1.000000</td>\n",
       "      <td>1.000000</td>\n",
       "      <td>1.000000</td>\n",
       "      <td>1.000000</td>\n",
       "      <td>1.000000</td>\n",
       "      <td>12.000000</td>\n",
       "      <td>1.000000</td>\n",
       "      <td>41.000000</td>\n",
       "      <td>552.590740</td>\n",
       "      <td>12.000000</td>\n",
       "      <td>31.000000</td>\n",
       "      <td>6.023668</td>\n",
       "      <td>6.146783</td>\n",
       "      <td>1.000000</td>\n",
       "    </tr>\n",
       "  </tbody>\n",
       "</table>\n",
       "</div>"
      ],
      "text/plain": [
       "            gender  near_location      partner  promo_friends        phone  \\\n",
       "count  4000.000000    4000.000000  4000.000000    4000.000000  4000.000000   \n",
       "mean      0.510250       0.845250     0.486750       0.308500     0.903500   \n",
       "std       0.499957       0.361711     0.499887       0.461932     0.295313   \n",
       "min       0.000000       0.000000     0.000000       0.000000     0.000000   \n",
       "25%       0.000000       1.000000     0.000000       0.000000     1.000000   \n",
       "50%       1.000000       1.000000     0.000000       0.000000     1.000000   \n",
       "75%       1.000000       1.000000     1.000000       1.000000     1.000000   \n",
       "max       1.000000       1.000000     1.000000       1.000000     1.000000   \n",
       "\n",
       "       contract_period  group_visits          age  \\\n",
       "count      4000.000000   4000.000000  4000.000000   \n",
       "mean          4.681250      0.412250    29.184250   \n",
       "std           4.549706      0.492301     3.258367   \n",
       "min           1.000000      0.000000    18.000000   \n",
       "25%           1.000000      0.000000    27.000000   \n",
       "50%           1.000000      0.000000    29.000000   \n",
       "75%           6.000000      1.000000    31.000000   \n",
       "max          12.000000      1.000000    41.000000   \n",
       "\n",
       "       avg_additional_charges_total  month_to_end_contract     lifetime  \\\n",
       "count                   4000.000000            4000.000000  4000.000000   \n",
       "mean                     146.943728               4.322750     3.724750   \n",
       "std                       96.355602               4.191297     3.749267   \n",
       "min                        0.148205               1.000000     0.000000   \n",
       "25%                       68.868830               1.000000     1.000000   \n",
       "50%                      136.220159               1.000000     3.000000   \n",
       "75%                      210.949625               6.000000     5.000000   \n",
       "max                      552.590740              12.000000    31.000000   \n",
       "\n",
       "       avg_class_frequency_total  avg_class_frequency_current_month  \\\n",
       "count                4000.000000                        4000.000000   \n",
       "mean                    1.879020                           1.767052   \n",
       "std                     0.972245                           1.052906   \n",
       "min                     0.000000                           0.000000   \n",
       "25%                     1.180875                           0.963003   \n",
       "50%                     1.832768                           1.719574   \n",
       "75%                     2.536078                           2.510336   \n",
       "max                     6.023668                           6.146783   \n",
       "\n",
       "             churn  \n",
       "count  4000.000000  \n",
       "mean      0.265250  \n",
       "std       0.441521  \n",
       "min       0.000000  \n",
       "25%       0.000000  \n",
       "50%       0.000000  \n",
       "75%       1.000000  \n",
       "max       1.000000  "
      ]
     },
     "execution_count": 6,
     "metadata": {},
     "output_type": "execute_result"
    }
   ],
   "source": [
    "df.describe()"
   ]
  },
  {
   "cell_type": "markdown",
   "metadata": {},
   "source": [
    "<div class=\"alert alert-success\">\n",
    "<b>Комментарий ревьюера:</b>\n",
    "\n",
    "Кстати для удобства изучения таблицы мы можем транспонировать расчеты `data.describe().T`    \n",
    "</div>"
   ]
  },
  {
   "cell_type": "markdown",
   "metadata": {},
   "source": [
    "В среднем все спокойно - у нас примерно одинаковый разброс на мужчин и женщин и нет сильной разницы в возрасте. Есть интересный выброс в графе Lifetime - какой-то посетитель занимался в зале 31 месяц (почти 3 года), и в среднем зал посещают до 3 раз в неделю, за исключением человека, который приходит туда 6 дней из 7 с начала дейстия периода. "
   ]
  },
  {
   "cell_type": "code",
   "execution_count": 7,
   "metadata": {},
   "outputs": [
    {
     "data": {
      "text/html": [
       "<div>\n",
       "<style scoped>\n",
       "    .dataframe tbody tr th:only-of-type {\n",
       "        vertical-align: middle;\n",
       "    }\n",
       "\n",
       "    .dataframe tbody tr th {\n",
       "        vertical-align: top;\n",
       "    }\n",
       "\n",
       "    .dataframe thead th {\n",
       "        text-align: right;\n",
       "    }\n",
       "</style>\n",
       "<table border=\"1\" class=\"dataframe\">\n",
       "  <thead>\n",
       "    <tr style=\"text-align: right;\">\n",
       "      <th></th>\n",
       "      <th>gender</th>\n",
       "      <th>near_location</th>\n",
       "      <th>partner</th>\n",
       "      <th>promo_friends</th>\n",
       "      <th>phone</th>\n",
       "      <th>contract_period</th>\n",
       "      <th>group_visits</th>\n",
       "      <th>age</th>\n",
       "      <th>avg_additional_charges_total</th>\n",
       "      <th>month_to_end_contract</th>\n",
       "      <th>lifetime</th>\n",
       "      <th>avg_class_frequency_total</th>\n",
       "      <th>avg_class_frequency_current_month</th>\n",
       "    </tr>\n",
       "    <tr>\n",
       "      <th>churn</th>\n",
       "      <th></th>\n",
       "      <th></th>\n",
       "      <th></th>\n",
       "      <th></th>\n",
       "      <th></th>\n",
       "      <th></th>\n",
       "      <th></th>\n",
       "      <th></th>\n",
       "      <th></th>\n",
       "      <th></th>\n",
       "      <th></th>\n",
       "      <th></th>\n",
       "      <th></th>\n",
       "    </tr>\n",
       "  </thead>\n",
       "  <tbody>\n",
       "    <tr>\n",
       "      <td>0</td>\n",
       "      <td>0.510037</td>\n",
       "      <td>0.873086</td>\n",
       "      <td>0.534195</td>\n",
       "      <td>0.353522</td>\n",
       "      <td>0.903709</td>\n",
       "      <td>5.747193</td>\n",
       "      <td>0.464103</td>\n",
       "      <td>29.976523</td>\n",
       "      <td>158.445715</td>\n",
       "      <td>5.283089</td>\n",
       "      <td>4.711807</td>\n",
       "      <td>2.024876</td>\n",
       "      <td>2.027882</td>\n",
       "    </tr>\n",
       "    <tr>\n",
       "      <td>1</td>\n",
       "      <td>0.510839</td>\n",
       "      <td>0.768143</td>\n",
       "      <td>0.355325</td>\n",
       "      <td>0.183789</td>\n",
       "      <td>0.902922</td>\n",
       "      <td>1.728558</td>\n",
       "      <td>0.268615</td>\n",
       "      <td>26.989632</td>\n",
       "      <td>115.082899</td>\n",
       "      <td>1.662582</td>\n",
       "      <td>0.990575</td>\n",
       "      <td>1.474995</td>\n",
       "      <td>1.044546</td>\n",
       "    </tr>\n",
       "  </tbody>\n",
       "</table>\n",
       "</div>"
      ],
      "text/plain": [
       "         gender  near_location   partner  promo_friends     phone  \\\n",
       "churn                                                               \n",
       "0      0.510037       0.873086  0.534195       0.353522  0.903709   \n",
       "1      0.510839       0.768143  0.355325       0.183789  0.902922   \n",
       "\n",
       "       contract_period  group_visits        age  avg_additional_charges_total  \\\n",
       "churn                                                                           \n",
       "0             5.747193      0.464103  29.976523                    158.445715   \n",
       "1             1.728558      0.268615  26.989632                    115.082899   \n",
       "\n",
       "       month_to_end_contract  lifetime  avg_class_frequency_total  \\\n",
       "churn                                                               \n",
       "0                   5.283089  4.711807                   2.024876   \n",
       "1                   1.662582  0.990575                   1.474995   \n",
       "\n",
       "       avg_class_frequency_current_month  \n",
       "churn                                     \n",
       "0                               2.027882  \n",
       "1                               1.044546  "
      ]
     },
     "execution_count": 7,
     "metadata": {},
     "output_type": "execute_result"
    }
   ],
   "source": [
    "df.groupby('churn').mean()"
   ]
  },
  {
   "cell_type": "markdown",
   "metadata": {},
   "source": [
    "Мы видим, для churn = 0 (те, кто остался) присущи в среднем более взрслые люди (почти 30 лет), со средней частотой посещаяемости зала 2 раза в неделю на предыдущий месяц и являются клиентами зала уже 4 месяца. В большиестве случаев этот клиент получает партнерскую скидку от компании на посещение зала. Его контракт скорее всего на 6 месяцев. \n",
    "Напротив, клиент,котороый покинул зал churn = 1 более молодой в среднем 27 лет, является клиентом в среднем не больше 1 месяца и скорее всего взял аббонимент на 3 месяца. У него реже есть партнерская скидка от компании."
   ]
  },
  {
   "cell_type": "markdown",
   "metadata": {},
   "source": [
    "### Столбчатые гисторграммы <a id=\"гисторграммы\"></a>"
   ]
  },
  {
   "cell_type": "code",
   "execution_count": 8,
   "metadata": {
    "scrolled": true
   },
   "outputs": [
    {
     "data": {
      "image/png": "[encoded data removed]",
      "text/plain": [
       "<Figure size 288x288 with 1 Axes>"
      ]
     },
     "metadata": {
      "needs_background": "light"
     },
     "output_type": "display_data"
    },
    {
     "data": {
      "image/png": "[encoded data removed]",
      "text/plain": [
       "<Figure size 288x288 with 1 Axes>"
      ]
     },
     "metadata": {
      "needs_background": "light"
     },
     "output_type": "display_data"
    },
    {
     "data": {
      "image/png": "[encoded data removed]",
      "text/plain": [
       "<Figure size 288x288 with 1 Axes>"
      ]
     },
     "metadata": {
      "needs_background": "light"
     },
     "output_type": "display_data"
    },
    {
     "data": {
      "image/png": "[encoded data removed]",
      "text/plain": [
       "<Figure size 288x288 with 1 Axes>"
      ]
     },
     "metadata": {
      "needs_background": "light"
     },
     "output_type": "display_data"
    },
    {
     "data": {
      "image/png": "[encoded data removed]",
      "text/plain": [
       "<Figure size 288x288 with 1 Axes>"
      ]
     },
     "metadata": {
      "needs_background": "light"
     },
     "output_type": "display_data"
    },
    {
     "data": {
      "image/png": "[encoded data removed]",
      "text/plain": [
       "<Figure size 288x288 with 1 Axes>"
      ]
     },
     "metadata": {
      "needs_background": "light"
     },
     "output_type": "display_data"
    },
    {
     "data": {
      "image/png": "[encoded data removed]",
      "text/plain": [
       "<Figure size 288x288 with 1 Axes>"
      ]
     },
     "metadata": {
      "needs_background": "light"
     },
     "output_type": "display_data"
    },
    {
     "data": {
      "image/png": "[encoded data removed]",
      "text/plain": [
       "<Figure size 288x288 with 1 Axes>"
      ]
     },
     "metadata": {
      "needs_background": "light"
     },
     "output_type": "display_data"
    },
    {
     "data": {
      "image/png": "[encoded data removed]",
      "text/plain": [
       "<Figure size 288x288 with 1 Axes>"
      ]
     },
     "metadata": {
      "needs_background": "light"
     },
     "output_type": "display_data"
    },
    {
     "data": {
      "image/png": "[encoded data removed]",
      "text/plain": [
       "<Figure size 288x288 with 1 Axes>"
      ]
     },
     "metadata": {
      "needs_background": "light"
     },
     "output_type": "display_data"
    },
    {
     "data": {
      "image/png": "[encoded data removed]",
      "text/plain": [
       "<Figure size 288x288 with 1 Axes>"
      ]
     },
     "metadata": {
      "needs_background": "light"
     },
     "output_type": "display_data"
    },
    {
     "data": {
      "image/png": "[encoded data removed]",
      "text/plain": [
       "<Figure size 288x288 with 1 Axes>"
      ]
     },
     "metadata": {
      "needs_background": "light"
     },
     "output_type": "display_data"
    },
    {
     "data": {
      "image/png": "[encoded data removed]",
      "text/plain": [
       "<Figure size 288x288 with 1 Axes>"
      ]
     },
     "metadata": {
      "needs_background": "light"
     },
     "output_type": "display_data"
    }
   ],
   "source": [
    "for col in df.drop('churn', axis = 1).columns: \n",
    "    plt.figure(figsize=(4, 4))\n",
    "    sns.barplot(x=\"churn\", y=col, data=df, palette=\"Blues_d\")\n",
    "    plt.show()"
   ]
  },
  {
   "cell_type": "markdown",
   "metadata": {},
   "source": [
    "<div class=\"alert alert-success\">\n",
    "<b>Комментарий ревьюера:</b>\n",
    "\n",
    "Отличный способ визуализации, в том числе можно было бы построить наши графики с помощью метода `subplots`, например в 2 колонки, для нашего удоства в их изучении.\n",
    "    \n",
    "Тут можно посмотреть примеры. \n",
    "    \n",
    "- `matplotlib`: https://matplotlib.org/3.3.3/api/_as_gen/matplotlib.pyplot.subplots.html\n",
    "- `plotly` : https://plotly.com/python/subplots/\n",
    "    \n",
    "\n",
    "</div>"
   ]
  },
  {
   "cell_type": "markdown",
   "metadata": {},
   "source": [
    "<div class=\"alert alert-info\"> <b>Комментарий студента:</b> сможешь показать пример?</div>"
   ]
  },
  {
   "cell_type": "markdown",
   "metadata": {},
   "source": [
    "<div class=\"alert alert-success\">\n",
    "<b>Комментарий ревьюера (2):</b>\n",
    "    \n",
    "\n",
    "Оставил пример ниже.\n",
    "    \n",
    "Чтобы автоматизировать нам нужно продумать логику перменной `axs`, обычно это решается за счет функции `enumerate`.\n",
    "    \n",
    "</div>"
   ]
  },
  {
   "cell_type": "code",
   "execution_count": 24,
   "metadata": {
    "scrolled": true
   },
   "outputs": [
    {
     "data": {
      "text/plain": [
       "<matplotlib.axes._subplots.AxesSubplot at 0x7fd367c060d0>"
      ]
     },
     "execution_count": 24,
     "metadata": {},
     "output_type": "execute_result"
    },
    {
     "data": {
      "image/png": "[encoded data removed]",
      "text/plain": [
       "<Figure size 864x288 with 4 Axes>"
      ]
     },
     "metadata": {
      "needs_background": "light"
     },
     "output_type": "display_data"
    }
   ],
   "source": [
    "fig, axs = plt.subplots(2, 2, figsize=(12, 4))\n",
    "\n",
    "sns.barplot(x=\"churn\", y=\"gender\", data=df, palette=\"Blues_d\", ax=axs[0,0])\n",
    "sns.barplot(x=\"churn\", y=\"near_location\", data=df, palette=\"Blues_d\", ax=axs[0,1])\n",
    "sns.barplot(x=\"churn\", y=\"near_location\", data=df, palette=\"Blues_d\", ax=axs[1, 0])\n",
    "sns.barplot(x=\"churn\", y=\"near_location\", data=df, palette=\"Blues_d\", ax=axs[1, 1])"
   ]
  },
  {
   "cell_type": "markdown",
   "metadata": {},
   "source": [
    "### Heatmap <a id=\"Heatmap\"></a>\n"
   ]
  },
  {
   "cell_type": "code",
   "execution_count": 19,
   "metadata": {},
   "outputs": [
    {
     "data": {
      "image/png": "[encoded data removed]",
      "text/plain": [
       "<Figure size 720x720 with 2 Axes>"
      ]
     },
     "metadata": {
      "needs_background": "light"
     },
     "output_type": "display_data"
    }
   ],
   "source": [
    "#построим и отрисуем матрицу корреляций\n",
    "cm = df.corr().round(2) #вычисляем матрицу корреляций\n",
    "\n",
    "#нарисуем тепловую карту с подписями для матрицы корреляций\n",
    "f, ax = plt.subplots(figsize=(10, 10))\n",
    "\n",
    "sns.heatmap(cm, annot = True, square=True)#ваш код здесь\n",
    "ax.set_ylim(\n",
    "    10,0)\n",
    "plt.show()"
   ]
  },
  {
   "cell_type": "markdown",
   "metadata": {},
   "source": [
    "Больше всего связией с оттоком было выявлено в графах \"month_to_end_contract\", возраст и контрактный период. Напротив, гендер и наличие телефонного номера практически не влияют на процент отткока.\n",
    "Клиенты, являющиеся частью программ \"partner\" и \"group_visits\" уходят реже, чем клиенты, не имеющие данной опции. Также, уходят чаще клиенты с более низким контактным периодом - вероятно, это был из пробный трехмесячный период и им что-то не понравилось, они решили не брать более долгосроный период (6 или 12 месяцев) и их lifetime, соответсвенно, значительно ниже.  "
   ]
  },
  {
   "cell_type": "markdown",
   "metadata": {},
   "source": [
    "<div class=\"alert alert-success\">\n",
    "<b>Комментарий ревьюера:</b>\n",
    "\n",
    "Отличные выводы касаемо корреляции 👍    \n",
    "</div>"
   ]
  },
  {
   "cell_type": "markdown",
   "metadata": {},
   "source": [
    "# Построение моделм прогнозирования оттока пользователей <a id=\"Построение\"></a>"
   ]
  },
  {
   "cell_type": "code",
   "execution_count": 20,
   "metadata": {},
   "outputs": [
    {
     "name": "stdout",
     "output_type": "stream",
     "text": [
      "[[-1.01701982  0.43186054  1.03498667  1.51623516  0.32634444  1.61958809\n",
      "  -0.83415434  1.15640413 -0.3468898   1.83723697 -0.19893181  0.1143882\n",
      "   0.16987145]\n",
      " [ 0.98326501  0.43186054 -0.96619602  1.51623516  0.32634444  1.61958809\n",
      "  -0.83415434  0.54666723 -1.18248896  1.83723697  0.32913272  1.35390632\n",
      "   1.29585281]\n",
      " [ 0.98326501  0.43186054  1.03498667  1.51623516 -3.06424712  0.29561775\n",
      "   1.19881892 -0.06306966 -1.38058121  0.16484961 -0.19893181 -1.90275614\n",
      "  -1.67160868]\n",
      " [ 0.98326501  0.43186054  1.03498667 -0.6595283   0.32634444  0.29561775\n",
      "  -0.83415434  0.24179879 -0.27708067  0.40376209 -0.46296407  0.45106072\n",
      "   0.60937504]\n",
      " [ 0.98326501 -2.31556236 -0.96619602 -0.6595283   0.32634444 -0.80769086\n",
      "  -0.83415434  0.54666723 -0.44493237 -0.79080031 -0.72699633  0.07714777\n",
      "   0.29720136]]\n"
     ]
    }
   ],
   "source": [
    "X = df.drop('churn', axis = 1)\n",
    "y = df['churn']\n",
    "\n",
    "#разделяем модель на обучающую и валидационную выборки\n",
    "X_train, X_test, y_train, y_test = train_test_split(X, y, test_size=0.2)\n",
    "\n",
    "#создадим объект класса StandardScaler и применим его к обучающей выборке\n",
    "scaler = StandardScaler()\n",
    "X_train_st = scaler.fit_transform(X_train)\n",
    "\n",
    "print(X_train_st[:5])\n",
    "\n",
    "#применяем стандартизацию к матрице признаков для тестовой выборки\n",
    "X_test_st = scaler.transform(X_test)\n"
   ]
  },
  {
   "cell_type": "markdown",
   "metadata": {},
   "source": [
    "<div class=\"alert alert-success\">\n",
    "<b>Комментарий ревьюера:</b>\n",
    "\n",
    "    \n",
    "В целом выборка разделена верно. \n",
    "Я бы рекомендовал бы ещё использовать атрибут `stratify`, поместив в него целевую переменную. Он дает нам безопасность сохранения 20% значений равного нужного нам количества классов в целевой переменной.\n",
    "    \n",
    "Пример: `stratify=y`\n",
    "    \n",
    "---\n",
    "    \n",
    "Хорошо, что используем параметр `random_state`, чтобы получать одни и те же результаты.\n",
    "    \n",
    "</div>"
   ]
  },
  {
   "cell_type": "code",
   "execution_count": 21,
   "metadata": {},
   "outputs": [
    {
     "name": "stdout",
     "output_type": "stream",
     "text": [
      "Метрики для модели логистической регрессии:\n",
      "\tAccuracy: 0.92\n",
      "\tPrecision: 0.85\n",
      "\tRecall: 0.85\n"
     ]
    },
    {
     "name": "stderr",
     "output_type": "stream",
     "text": [
      "/opt/conda/lib/python3.7/site-packages/sklearn/linear_model/logistic.py:432: FutureWarning: Default solver will be changed to 'lbfgs' in 0.22. Specify a solver to silence this warning.\n",
      "  FutureWarning)\n"
     ]
    }
   ],
   "source": [
    "lr_model = LogisticRegression(random_state=0)\n",
    "# обучим модель\n",
    "lr_model.fit(X_train_st, y_train)\n",
    "# воспользуемся уже обученной моделью, чтобы сделать прогнозы\n",
    "lr_predictions = lr_model.predict(X_test_st)\n",
    "lr_probabilities = lr_model.predict_proba(X_test_st)[:, 1]\n",
    "# выведем все метрики\n",
    "print_all_metrics(\n",
    "    y_test,\n",
    "    lr_predictions,\n",
    "    lr_probabilities,\n",
    "    title='Метрики для модели логистической регрессии:',\n",
    ")"
   ]
  },
  {
   "cell_type": "code",
   "execution_count": 22,
   "metadata": {},
   "outputs": [
    {
     "name": "stdout",
     "output_type": "stream",
     "text": [
      "Метрики для модели случайного леса:\n",
      "\tAccuracy: 0.91\n",
      "\tPrecision: 0.83\n",
      "\tRecall: 0.83\n"
     ]
    }
   ],
   "source": [
    "rf_model = RandomForestClassifier(n_estimators = 100, random_state = 0)  # Ваш код здесь\n",
    "# обучим модель случайного леса\n",
    "rf_model.fit(X_train_st, y_train)\n",
    "# воспользуемся уже обученной моделью, чтобы сделать прогнозы\n",
    "rf_predictions = rf_model.predict(X_test_st) # Ваш код здесь\n",
    "rf_probabilities = rf_model.predict_proba(X_test_st)[:, 1]# Ваш код здесь\n",
    "# выведем все метрики\n",
    "print_all_metrics(\n",
    "    y_test,\n",
    "    rf_predictions,\n",
    "    rf_probabilities,\n",
    "    title='Метрики для модели случайного леса:'\n",
    ")"
   ]
  },
  {
   "cell_type": "markdown",
   "metadata": {},
   "source": [
    "Видим, что Логистичекая регрессия ведет себя лучше по всем показателям (Accuracy, Precision и Recall)"
   ]
  },
  {
   "cell_type": "markdown",
   "metadata": {},
   "source": [
    "<div class=\"alert alert-success\">\n",
    "<b>Комментарий ревьюера:</b>\n",
    "   \n",
    "Обрати внимание, что все рассчитанные метрики по отдельности сложны в интерпритации, хотелось чтобы одна метрика включала в себя самые ключевые параметры. Есть метрика `F1`, которая как раз включает в себя основные параметры точности и полноты. \n",
    "    \n",
    "В том числе рекомендую смотреть на метрику `ROC–AUC`. \n",
    "    \n",
    "    \n",
    "Ниже статья, в которой есть материалы про метрики и как их визуализировать.\n",
    "    \n",
    "https://habr.com/ru/company/ods/blog/328372/\n",
    "    \n",
    "---\n",
    "\n",
    "Можно также попробовать и сравнить параметр `C` у логистической регрессии. У случайного леса количество деревьев (`n_estimators`) и максимальную глубину дерева (`max_depth`), чтобы осуществить поиск лучшей модели.\n",
    "    \n",
    "---\n",
    "    \n",
    "Кстати для автоматического перебора гиперпараметров мы можем использовать готовый метод `GreadSearchCV` в библиотеке `sklearn`. \n",
    "    \n",
    "</div>"
   ]
  },
  {
   "cell_type": "markdown",
   "metadata": {},
   "source": [
    "# Кластеризация пользователей <a id=\"Кластеризация\"></a>"
   ]
  },
  {
   "cell_type": "markdown",
   "metadata": {},
   "source": [
    "# Шаг 4. Сделайте кластеризацию пользователей\n",
    "\n",
    "    Отложите в сторону столбец с оттоком и проведите кластеризацию объектов (пользователей):\n",
    "        Стандартизируйте данные.\n",
    "        Постройте матрицу расстояний функцией linkage() на стандартизованной матрице признаков и нарисуйте дендрограмму. Внимание: отрисовка дендрограммы может занять время! На основании полученного графика предположите, какое количество кластеров можно выделить.\n",
    "        Обучите модель кластеризации на основании алгоритма K-Means и спрогнозируйте кластеры клиентов. Договоримся за число кластеров принять n=5, чтобы ваши результаты можно было сравнивать с результатами остальных студентов. Однако, конечно, в жизни никто не скажет вам правильный ответ, и решение остаётся за вами (на основании изучения графика из предыдущего пункта).\n",
    "        Посмотрите на средние значения признаков для кластеров. Можно ли сразу что-то заметить?\n",
    "        Постройте распределения признаков для кластеров. Можно ли что-то заметить по ним?\n",
    "        Для каждого полученного кластера посчитайте долю оттока (методом groupby()). Отличаются ли они по д"
   ]
  },
  {
   "cell_type": "code",
   "execution_count": 23,
   "metadata": {},
   "outputs": [],
   "source": [
    "sc = StandardScaler()\n",
    "X_sc = sc.fit_transform(df)\n",
    "\n",
    "linked = linkage(X_sc, method = 'ward') "
   ]
  },
  {
   "cell_type": "code",
   "execution_count": null,
   "metadata": {},
   "outputs": [],
   "source": [
    "plt.figure(figsize=(15, 10))  \n",
    "dendrogram(linked, orientation='top')\n",
    "plt.show() \n",
    "#Предложенное оптимальное число кластеров 5 — пять разных цветов на графике."
   ]
  },
  {
   "cell_type": "markdown",
   "metadata": {},
   "source": [
    "<div class=\"alert alert-success\">\n",
    "<b>Комментарий ревьюера:</b>\n",
    "    \n",
    "Отлично 👍\n",
    "\n",
    "В том числе чтобы определить количество кластеров можно использовать метод локтя. \n",
    "    \n",
    "Ниже статья с двумя методами, которые можно в том числе использовать для определения количества кластеров.\n",
    "    \n",
    "https://habr.com/ru/company/jetinfosystems/blog/467745/\n",
    "    \n",
    "</div>"
   ]
  },
  {
   "cell_type": "code",
   "execution_count": 24,
   "metadata": {},
   "outputs": [
    {
     "data": {
      "text/html": [
       "<div>\n",
       "<style scoped>\n",
       "    .dataframe tbody tr th:only-of-type {\n",
       "        vertical-align: middle;\n",
       "    }\n",
       "\n",
       "    .dataframe tbody tr th {\n",
       "        vertical-align: top;\n",
       "    }\n",
       "\n",
       "    .dataframe thead th {\n",
       "        text-align: right;\n",
       "    }\n",
       "</style>\n",
       "<table border=\"1\" class=\"dataframe\">\n",
       "  <thead>\n",
       "    <tr style=\"text-align: right;\">\n",
       "      <th></th>\n",
       "      <th>gender</th>\n",
       "      <th>near_location</th>\n",
       "      <th>partner</th>\n",
       "      <th>promo_friends</th>\n",
       "      <th>phone</th>\n",
       "      <th>contract_period</th>\n",
       "      <th>group_visits</th>\n",
       "      <th>age</th>\n",
       "      <th>avg_additional_charges_total</th>\n",
       "      <th>month_to_end_contract</th>\n",
       "      <th>lifetime</th>\n",
       "      <th>avg_class_frequency_total</th>\n",
       "      <th>avg_class_frequency_current_month</th>\n",
       "      <th>churn</th>\n",
       "    </tr>\n",
       "    <tr>\n",
       "      <th>cluster_km</th>\n",
       "      <th></th>\n",
       "      <th></th>\n",
       "      <th></th>\n",
       "      <th></th>\n",
       "      <th></th>\n",
       "      <th></th>\n",
       "      <th></th>\n",
       "      <th></th>\n",
       "      <th></th>\n",
       "      <th></th>\n",
       "      <th></th>\n",
       "      <th></th>\n",
       "      <th></th>\n",
       "      <th></th>\n",
       "    </tr>\n",
       "  </thead>\n",
       "  <tbody>\n",
       "    <tr>\n",
       "      <td>0</td>\n",
       "      <td>0.503676</td>\n",
       "      <td>0.000000</td>\n",
       "      <td>0.459559</td>\n",
       "      <td>0.075368</td>\n",
       "      <td>0.917279</td>\n",
       "      <td>2.069853</td>\n",
       "      <td>0.211397</td>\n",
       "      <td>28.522059</td>\n",
       "      <td>132.741216</td>\n",
       "      <td>1.950368</td>\n",
       "      <td>2.757353</td>\n",
       "      <td>1.706629</td>\n",
       "      <td>1.515890</td>\n",
       "      <td>0.450368</td>\n",
       "    </tr>\n",
       "    <tr>\n",
       "      <td>1</td>\n",
       "      <td>0.492829</td>\n",
       "      <td>0.936115</td>\n",
       "      <td>0.764016</td>\n",
       "      <td>0.534550</td>\n",
       "      <td>0.919166</td>\n",
       "      <td>10.447197</td>\n",
       "      <td>0.516297</td>\n",
       "      <td>29.962190</td>\n",
       "      <td>161.853561</td>\n",
       "      <td>9.477184</td>\n",
       "      <td>4.833116</td>\n",
       "      <td>2.788103</td>\n",
       "      <td>2.786919</td>\n",
       "      <td>0.007823</td>\n",
       "    </tr>\n",
       "    <tr>\n",
       "      <td>2</td>\n",
       "      <td>0.507917</td>\n",
       "      <td>1.000000</td>\n",
       "      <td>0.323995</td>\n",
       "      <td>0.213155</td>\n",
       "      <td>0.903776</td>\n",
       "      <td>1.546894</td>\n",
       "      <td>0.287454</td>\n",
       "      <td>26.926918</td>\n",
       "      <td>113.173051</td>\n",
       "      <td>1.500609</td>\n",
       "      <td>1.031669</td>\n",
       "      <td>1.449720</td>\n",
       "      <td>1.037592</td>\n",
       "      <td>0.961023</td>\n",
       "    </tr>\n",
       "    <tr>\n",
       "      <td>3</td>\n",
       "      <td>0.521186</td>\n",
       "      <td>0.996610</td>\n",
       "      <td>0.282203</td>\n",
       "      <td>0.208475</td>\n",
       "      <td>0.904237</td>\n",
       "      <td>1.882203</td>\n",
       "      <td>0.452542</td>\n",
       "      <td>30.237288</td>\n",
       "      <td>157.988625</td>\n",
       "      <td>1.794915</td>\n",
       "      <td>4.923729</td>\n",
       "      <td>2.203432</td>\n",
       "      <td>2.207359</td>\n",
       "      <td>0.003390</td>\n",
       "    </tr>\n",
       "    <tr>\n",
       "      <td>4</td>\n",
       "      <td>0.518895</td>\n",
       "      <td>0.968023</td>\n",
       "      <td>0.744186</td>\n",
       "      <td>0.526163</td>\n",
       "      <td>0.873547</td>\n",
       "      <td>8.859012</td>\n",
       "      <td>0.534884</td>\n",
       "      <td>29.728198</td>\n",
       "      <td>162.907495</td>\n",
       "      <td>8.155523</td>\n",
       "      <td>4.411337</td>\n",
       "      <td>0.957744</td>\n",
       "      <td>0.943967</td>\n",
       "      <td>0.024709</td>\n",
       "    </tr>\n",
       "  </tbody>\n",
       "</table>\n",
       "</div>"
      ],
      "text/plain": [
       "              gender  near_location   partner  promo_friends     phone  \\\n",
       "cluster_km                                                               \n",
       "0           0.503676       0.000000  0.459559       0.075368  0.917279   \n",
       "1           0.492829       0.936115  0.764016       0.534550  0.919166   \n",
       "2           0.507917       1.000000  0.323995       0.213155  0.903776   \n",
       "3           0.521186       0.996610  0.282203       0.208475  0.904237   \n",
       "4           0.518895       0.968023  0.744186       0.526163  0.873547   \n",
       "\n",
       "            contract_period  group_visits        age  \\\n",
       "cluster_km                                             \n",
       "0                  2.069853      0.211397  28.522059   \n",
       "1                 10.447197      0.516297  29.962190   \n",
       "2                  1.546894      0.287454  26.926918   \n",
       "3                  1.882203      0.452542  30.237288   \n",
       "4                  8.859012      0.534884  29.728198   \n",
       "\n",
       "            avg_additional_charges_total  month_to_end_contract  lifetime  \\\n",
       "cluster_km                                                                  \n",
       "0                             132.741216               1.950368  2.757353   \n",
       "1                             161.853561               9.477184  4.833116   \n",
       "2                             113.173051               1.500609  1.031669   \n",
       "3                             157.988625               1.794915  4.923729   \n",
       "4                             162.907495               8.155523  4.411337   \n",
       "\n",
       "            avg_class_frequency_total  avg_class_frequency_current_month  \\\n",
       "cluster_km                                                                 \n",
       "0                            1.706629                           1.515890   \n",
       "1                            2.788103                           2.786919   \n",
       "2                            1.449720                           1.037592   \n",
       "3                            2.203432                           2.207359   \n",
       "4                            0.957744                           0.943967   \n",
       "\n",
       "               churn  \n",
       "cluster_km            \n",
       "0           0.450368  \n",
       "1           0.007823  \n",
       "2           0.961023  \n",
       "3           0.003390  \n",
       "4           0.024709  "
      ]
     },
     "execution_count": 24,
     "metadata": {},
     "output_type": "execute_result"
    }
   ],
   "source": [
    "km = KMeans(n_clusters = 5, random_state = 0) # задаём число кластеров, равное 5\n",
    "labels = km.fit_predict(X_sc) # применяем алгоритм к данным и формируем вектор кластеров \n",
    "\n",
    "df['cluster_km'] = labels\n",
    "\n",
    "# выводим статистику по средним значениям наших признаков по кластеру\n",
    "df.groupby('cluster_km').mean()"
   ]
  },
  {
   "cell_type": "markdown",
   "metadata": {},
   "source": [
    "<div class=\"alert alert-warning\">\n",
    "<b>Комментарий ревьюера:</b>\n",
    "    \n",
    "Не забывай про параметр `random_state`, чтобы получать одни и те же результаты нашего скрипта.\n",
    "    \n",
    "Потому что если не указан этот атрибут, то центроид появляется каждый раз в разных местах.\n",
    "    \n",
    "</div>"
   ]
  },
  {
   "cell_type": "markdown",
   "metadata": {},
   "source": [
    "<div class=\"alert alert-success\">\n",
    "<b>Комментарий ревьюера:</b>\n",
    "\n",
    "Супер, теперь у нас есть портреты наших пользователей 👍\n",
    "    \n",
    "</div>"
   ]
  },
  {
   "cell_type": "markdown",
   "metadata": {},
   "source": [
    "Кластелизировав данные, можно заметить, что те, кто ходят на групповые занятия так же являются обладателями Promo_friends и имеют самый длинный контракт в среднем. Самая низкая доля оттока у того кластера,который посещает зал в среднем 2 раза в неделю и имеет самый длинный lifetime (время с момента первого обращения в фитнес-центр). Те, у кого выше всех процесс оттока меньше всех посещают зал и их lifetime самый низкий, также они моложе всех других кластеров."
   ]
  },
  {
   "cell_type": "markdown",
   "metadata": {},
   "source": [
    "<div class=\"alert alert-danger\">\n",
    "<b>Комментарий ревьюера:</b>\n",
    "\n",
    "<s>Нам нужно было также визуализировать распределения признаков среди кластеров.\n",
    "    \n",
    "Давай поправим этот момент.\n",
    "    \n",
    "</div>"
   ]
  },
  {
   "cell_type": "code",
   "execution_count": 25,
   "metadata": {},
   "outputs": [
    {
     "data": {
      "text/plain": [
       "'0.11.2'"
      ]
     },
     "execution_count": 25,
     "metadata": {},
     "output_type": "execute_result"
    }
   ],
   "source": [
    "sns.__version__"
   ]
  },
  {
   "cell_type": "code",
   "execution_count": 26,
   "metadata": {},
   "outputs": [
    {
     "data": {
      "image/png": "[encoded data removed]",
      "text/plain": [
       "<Figure size 422.5x360 with 1 Axes>"
      ]
     },
     "metadata": {
      "needs_background": "light"
     },
     "output_type": "display_data"
    },
    {
     "data": {
      "image/png": "[encoded data removed]",
      "text/plain": [
       "<Figure size 422.5x360 with 1 Axes>"
      ]
     },
     "metadata": {
      "needs_background": "light"
     },
     "output_type": "display_data"
    },
    {
     "data": {
      "image/png": "[encoded data removed]",
      "text/plain": [
       "<Figure size 422.5x360 with 1 Axes>"
      ]
     },
     "metadata": {
      "needs_background": "light"
     },
     "output_type": "display_data"
    },
    {
     "data": {
      "image/png": "[encoded data removed]",
      "text/plain": [
       "<Figure size 422.5x360 with 1 Axes>"
      ]
     },
     "metadata": {
      "needs_background": "light"
     },
     "output_type": "display_data"
    },
    {
     "data": {
      "image/png": "[encoded data removed]",
      "text/plain": [
       "<Figure size 422.5x360 with 1 Axes>"
      ]
     },
     "metadata": {
      "needs_background": "light"
     },
     "output_type": "display_data"
    },
    {
     "data": {
      "image/png": "[encoded data removed]",
      "text/plain": [
       "<Figure size 422.5x360 with 1 Axes>"
      ]
     },
     "metadata": {
      "needs_background": "light"
     },
     "output_type": "display_data"
    },
    {
     "data": {
      "image/png": "[encoded data removed]",
      "text/plain": [
       "<Figure size 422.5x360 with 1 Axes>"
      ]
     },
     "metadata": {
      "needs_background": "light"
     },
     "output_type": "display_data"
    },
    {
     "data": {
      "image/png": "[encoded data removed]",
      "text/plain": [
       "<Figure size 422.5x360 with 1 Axes>"
      ]
     },
     "metadata": {
      "needs_background": "light"
     },
     "output_type": "display_data"
    },
    {
     "data": {
      "image/png": "[encoded data removed]",
      "text/plain": [
       "<Figure size 422.5x360 with 1 Axes>"
      ]
     },
     "metadata": {
      "needs_background": "light"
     },
     "output_type": "display_data"
    },
    {
     "data": {
      "image/png": "[encoded data removed]",
      "text/plain": [
       "<Figure size 422.5x360 with 1 Axes>"
      ]
     },
     "metadata": {
      "needs_background": "light"
     },
     "output_type": "display_data"
    },
    {
     "data": {
      "image/png": "[encoded data removed]",
      "text/plain": [
       "<Figure size 422.5x360 with 1 Axes>"
      ]
     },
     "metadata": {
      "needs_background": "light"
     },
     "output_type": "display_data"
    },
    {
     "data": {
      "image/png": "[encoded data removed]",
      "text/plain": [
       "<Figure size 422.5x360 with 1 Axes>"
      ]
     },
     "metadata": {
      "needs_background": "light"
     },
     "output_type": "display_data"
    }
   ],
   "source": [
    "for col in df.drop(['churn','phone', 'cluster_km'], axis=1):\n",
    "    sns.displot(x = df[col], hue = df['cluster_km'])\n",
    "    plt.title(col + 'cluster distribution')\n",
    "    plt.show()"
   ]
  },
  {
   "cell_type": "markdown",
   "metadata": {},
   "source": [
    "# Выводы <a id=\"Выводы\"></a>"
   ]
  },
  {
   "cell_type": "markdown",
   "metadata": {},
   "source": [
    "После проведения эксперимета, было выявлено, что использование модели Логистическоей регресси является самым разумным - ее метрики заметно лучше справляется с точностью выполнения задачи, в отличие от метрик Случайного леса. Решение было принято на основе метрик Accuracy, Precision и Recall\n",
    "\n",
    "Выжные принципы:\n",
    "- Для удержания клиентов можно каким-либо образом заставить их посещать зал больше 1-ого раза в неделю. Например, давать опреденные бонусы или скидку для тех, кто посетит зал больше условных 9-10 раз в месяц. Скажем, при посещении зала от 10-ти раз в месяц день выдается скидка на покупку нового(трех/полуодового абонимента) абонимента. В среднем для тех, кто посещает зал примерно два раза в неделю, lifetime был выше\n",
    "- Если мы хотим увеличить чисто пользователей с более долгосроным абониментом, мы можем более активно рекламировать программу Promo_friends. Было выявлено, что приглашенные друзья чаще занимаются в групповых занятиях и их контракт один их самых длинных в среднем.\n",
    "- Также было выявлено, что низший процент оттока у клиентов,входящих в графу \"Partner\" — сотрудник компании-партнёра клуба. В таком случае мы могли бы увеличить количество компаний, входящих в данную область. Они же, к слову, чаще всех являются частью акции \"promo_friends\", а значит, заниматься с коллегами-друзьями в зале приятнее, чем одному и увеличивает количество посещений клиента. Они же, видимо, более удовлетворены продукцией зала - их покупательская способность выше всех.\n",
    "- Клиенты с более коротким контрактом уходят чаще, чем клиенты с более длинным контактом. В таком случае, можно уменьшить разницу в цене и сделать шестимесяный период более выгодным для приобретеия. В таком случае у клиента будет больше времени для возврашеия в зал, если абонимет изначально более длинный."
   ]
  },
  {
   "cell_type": "markdown",
   "metadata": {},
   "source": [
    "* [Описание проекта](#Описание)\n",
    "* [Исследовательский анализ данных EDA](#EDA)\n",
    "   * [Столбчатые гисторграммы](#гисторграммы)\n",
    "   * [Heatmap](#Heatmap)\n",
    "* [Построение моделм прогнозирования оттока пользователей](#Построение)\n",
    "* [Кластеризация пользователей](#Кластеризация)\n",
    "* [Выводы](#Выводы) "
   ]
  },
  {
   "cell_type": "markdown",
   "metadata": {},
   "source": [
    "<div class=\"alert alert-success\">\n",
    "<b>Комментарий ревьюера:</b>\n",
    "\n",
    "Выводы понятны и логичны, а самое главное подкреплены выявленными фактами.\n",
    "    \n",
    "Достаточно детально проделанная работа и это не может не радовать 😊\n",
    "    \n",
    "Давай поправим мои комментарии и будем двигаться дальше.\n",
    "    \n",
    "Если у тебя вдруг есчть какие–либо вопросы, то я с радостью отвечу на них 😊\n",
    "       \n",
    "\n",
    "</div>"
   ]
  },
  {
   "cell_type": "markdown",
   "metadata": {},
   "source": [
    "<div class=\"alert alert-success\">\n",
    "<b>Комментарий ревьюера (2):</b>\n",
    "    \n",
    "\n",
    "\n",
    "Здорово, что достаточно оперативно поправили мои комментарии и сделали наш проект еще лучше.\n",
    "       \n",
    "В целом сам проект выполнен на хорошем уровне! На протяжении всей работы чувствуется глубина проработки задачи и это безусловный плюс для нас. Было использовано большое количество методов, которые будут помогать тебе в дальнейших проектах.\n",
    "        \n",
    "Поздравляю с успешным завершением проекта 😊👍\n",
    "    \n",
    "И желаю успехов в новых работах 😊\n",
    "    \n",
    "    \n",
    "Если вдруг будет дополнительный интерес по осовоению дополнительных материалов этой темы, вот достаточно неплохая информация по базовым алгоритмам:\n",
    "    \n",
    "https://compscicenter.ru/courses/data-mining-python/2018-spring/classes/\n",
    "    \n",
    "P.s. Там несколько курсов, по которым можно будет пройтись при желании 😊\n",
    "\n",
    "    \n",
    "</div>"
   ]
  },
  {
   "cell_type": "code",
   "execution_count": null,
   "metadata": {},
   "outputs": [],
   "source": []
  }
 ],
 "metadata": {
  "ExecuteTimeLog": [
   {
    "duration": 1143,
    "start_time": "2021-11-26T21:53:55.176Z"
   },
   {
    "duration": 3,
    "start_time": "2021-11-26T21:53:56.321Z"
   },
   {
    "duration": 207,
    "start_time": "2021-11-26T21:53:56.326Z"
   },
   {
    "duration": 15,
    "start_time": "2021-11-26T21:53:56.535Z"
   },
   {
    "duration": 34,
    "start_time": "2021-11-26T21:53:56.552Z"
   },
   {
    "duration": 50,
    "start_time": "2021-11-26T21:53:56.588Z"
   },
   {
    "duration": 13,
    "start_time": "2021-11-26T21:53:56.639Z"
   },
   {
    "duration": 2832,
    "start_time": "2021-11-26T21:53:56.654Z"
   },
   {
    "duration": 1081,
    "start_time": "2021-11-26T21:53:59.489Z"
   },
   {
    "duration": 12,
    "start_time": "2021-11-26T21:54:00.572Z"
   },
   {
    "duration": 65,
    "start_time": "2021-11-26T21:54:00.586Z"
   },
   {
    "duration": 424,
    "start_time": "2021-11-26T21:54:00.653Z"
   },
   {
    "duration": 526,
    "start_time": "2021-11-26T21:54:01.079Z"
   },
   {
    "duration": 77538,
    "start_time": "2021-11-26T21:54:01.607Z"
   },
   {
    "duration": 1609,
    "start_time": "2021-11-26T21:55:19.146Z"
   },
   {
    "duration": 1193,
    "start_time": "2021-11-27T07:16:00.067Z"
   },
   {
    "duration": 4,
    "start_time": "2021-11-27T07:16:01.263Z"
   },
   {
    "duration": 178,
    "start_time": "2021-11-27T07:16:01.269Z"
   },
   {
    "duration": 17,
    "start_time": "2021-11-27T07:16:01.449Z"
   },
   {
    "duration": 22,
    "start_time": "2021-11-27T07:16:01.468Z"
   },
   {
    "duration": 52,
    "start_time": "2021-11-27T07:16:01.492Z"
   },
   {
    "duration": 15,
    "start_time": "2021-11-27T07:16:01.545Z"
   },
   {
    "duration": 3146,
    "start_time": "2021-11-27T07:16:01.562Z"
   },
   {
    "duration": 1151,
    "start_time": "2021-11-27T07:16:04.711Z"
   },
   {
    "duration": 14,
    "start_time": "2021-11-27T07:16:05.864Z"
   },
   {
    "duration": 79,
    "start_time": "2021-11-27T07:16:05.880Z"
   },
   {
    "duration": 385,
    "start_time": "2021-11-27T07:16:06.049Z"
   },
   {
    "duration": 572,
    "start_time": "2021-11-27T07:16:06.436Z"
   },
   {
    "duration": 80708,
    "start_time": "2021-11-27T07:16:07.010Z"
   },
   {
    "duration": 1939,
    "start_time": "2021-11-27T07:17:27.719Z"
   },
   {
    "duration": 5,
    "start_time": "2021-11-27T07:20:28.581Z"
   },
   {
    "duration": 4,
    "start_time": "2021-11-27T07:34:15.861Z"
   },
   {
    "duration": 384,
    "start_time": "2021-11-27T07:34:23.550Z"
   },
   {
    "duration": 276,
    "start_time": "2021-11-27T07:34:42.985Z"
   },
   {
    "duration": 4278,
    "start_time": "2021-11-27T07:35:39.141Z"
   },
   {
    "duration": 18,
    "start_time": "2021-11-27T07:50:02.390Z"
   },
   {
    "duration": 109,
    "start_time": "2021-11-27T07:52:04.120Z"
   },
   {
    "duration": 3,
    "start_time": "2021-11-27T10:26:02.761Z"
   },
   {
    "duration": 4,
    "start_time": "2021-11-27T10:26:02.843Z"
   },
   {
    "duration": 63,
    "start_time": "2021-11-27T10:26:03.015Z"
   },
   {
    "duration": 13,
    "start_time": "2021-11-27T10:26:03.090Z"
   },
   {
    "duration": 7,
    "start_time": "2021-11-27T10:26:03.259Z"
   },
   {
    "duration": 44,
    "start_time": "2021-11-27T10:26:03.431Z"
   },
   {
    "duration": 15,
    "start_time": "2021-11-27T10:26:04.635Z"
   },
   {
    "duration": 2822,
    "start_time": "2021-11-27T10:26:05.257Z"
   },
   {
    "duration": 1228,
    "start_time": "2021-11-27T10:26:08.081Z"
   },
   {
    "duration": 12,
    "start_time": "2021-11-27T10:26:09.311Z"
   },
   {
    "duration": 535,
    "start_time": "2021-11-27T10:26:12.089Z"
   },
   {
    "duration": 1693,
    "start_time": "2021-11-27T10:26:14.264Z"
   },
   {
    "duration": 271,
    "start_time": "2021-11-27T10:26:17.630Z"
   },
   {
    "duration": 4,
    "start_time": "2021-11-27T10:27:38.609Z"
   },
   {
    "duration": 1123,
    "start_time": "2021-11-27T10:27:57.274Z"
   },
   {
    "duration": 3246,
    "start_time": "2021-11-27T10:28:11.905Z"
   },
   {
    "duration": 4,
    "start_time": "2021-11-27T10:28:18.666Z"
   },
   {
    "duration": 4,
    "start_time": "2021-11-27T10:28:46.500Z"
   },
   {
    "duration": 2449,
    "start_time": "2021-11-27T10:28:48.834Z"
   },
   {
    "duration": 5,
    "start_time": "2021-11-27T10:28:55.304Z"
   },
   {
    "duration": 295,
    "start_time": "2021-11-27T10:29:40.336Z"
   },
   {
    "duration": 1696,
    "start_time": "2021-11-27T10:29:49.667Z"
   },
   {
    "duration": 1242,
    "start_time": "2021-11-27T10:29:57.104Z"
   },
   {
    "duration": 3,
    "start_time": "2021-11-27T10:29:58.348Z"
   },
   {
    "duration": 67,
    "start_time": "2021-11-27T10:29:58.352Z"
   },
   {
    "duration": 19,
    "start_time": "2021-11-27T10:29:58.421Z"
   },
   {
    "duration": 6,
    "start_time": "2021-11-27T10:29:58.442Z"
   },
   {
    "duration": 42,
    "start_time": "2021-11-27T10:29:58.450Z"
   },
   {
    "duration": 18,
    "start_time": "2021-11-27T10:29:58.494Z"
   },
   {
    "duration": 2194,
    "start_time": "2021-11-27T10:29:58.515Z"
   },
   {
    "duration": -10,
    "start_time": "2021-11-27T10:30:00.722Z"
   },
   {
    "duration": -171,
    "start_time": "2021-11-27T10:30:00.884Z"
   },
   {
    "duration": -178,
    "start_time": "2021-11-27T10:30:00.893Z"
   },
   {
    "duration": -180,
    "start_time": "2021-11-27T10:30:00.896Z"
   },
   {
    "duration": -183,
    "start_time": "2021-11-27T10:30:00.900Z"
   },
   {
    "duration": -185,
    "start_time": "2021-11-27T10:30:00.903Z"
   },
   {
    "duration": -186,
    "start_time": "2021-11-27T10:30:00.905Z"
   },
   {
    "duration": -192,
    "start_time": "2021-11-27T10:30:00.912Z"
   },
   {
    "duration": -224,
    "start_time": "2021-11-27T10:30:00.945Z"
   },
   {
    "duration": -235,
    "start_time": "2021-11-27T10:30:00.956Z"
   },
   {
    "duration": 6,
    "start_time": "2021-11-27T10:30:02.599Z"
   },
   {
    "duration": 313,
    "start_time": "2021-11-27T10:30:08.336Z"
   },
   {
    "duration": 4,
    "start_time": "2021-11-27T10:30:12.804Z"
   },
   {
    "duration": 4,
    "start_time": "2021-11-27T10:30:12.898Z"
   },
   {
    "duration": 58,
    "start_time": "2021-11-27T10:30:13.171Z"
   },
   {
    "duration": 12,
    "start_time": "2021-11-27T10:30:13.231Z"
   },
   {
    "duration": 7,
    "start_time": "2021-11-27T10:30:13.344Z"
   },
   {
    "duration": 44,
    "start_time": "2021-11-27T10:30:13.482Z"
   },
   {
    "duration": 15,
    "start_time": "2021-11-27T10:30:16.272Z"
   },
   {
    "duration": 2460,
    "start_time": "2021-11-27T10:30:16.944Z"
   },
   {
    "duration": 1054,
    "start_time": "2021-11-27T10:30:19.406Z"
   },
   {
    "duration": 14,
    "start_time": "2021-11-27T10:30:20.462Z"
   },
   {
    "duration": 75,
    "start_time": "2021-11-27T10:30:20.479Z"
   },
   {
    "duration": 334,
    "start_time": "2021-11-27T10:30:20.645Z"
   },
   {
    "duration": 536,
    "start_time": "2021-11-27T10:30:20.980Z"
   },
   {
    "duration": 1713,
    "start_time": "2021-11-27T10:30:22.443Z"
   },
   {
    "duration": 4,
    "start_time": "2021-11-27T10:30:24.202Z"
   },
   {
    "duration": 11714,
    "start_time": "2021-11-27T10:30:24.685Z"
   },
   {
    "duration": 1596,
    "start_time": "2021-11-27T19:46:25.712Z"
   },
   {
    "duration": 5,
    "start_time": "2021-11-27T19:46:27.310Z"
   },
   {
    "duration": 65,
    "start_time": "2021-11-27T19:46:27.317Z"
   },
   {
    "duration": 23,
    "start_time": "2021-11-27T19:46:27.384Z"
   },
   {
    "duration": 11,
    "start_time": "2021-11-27T19:46:28.405Z"
   },
   {
    "duration": 70,
    "start_time": "2021-11-27T19:46:29.702Z"
   },
   {
    "duration": 24,
    "start_time": "2021-11-27T19:46:30.274Z"
   },
   {
    "duration": 4837,
    "start_time": "2021-11-27T19:46:32.498Z"
   },
   {
    "duration": 1481,
    "start_time": "2021-11-27T19:46:54.127Z"
   },
   {
    "duration": 999,
    "start_time": "2021-11-27T19:47:03.378Z"
   },
   {
    "duration": 801,
    "start_time": "2021-11-27T19:47:18.145Z"
   },
   {
    "duration": 698,
    "start_time": "2021-11-27T19:47:46.944Z"
   },
   {
    "duration": 725,
    "start_time": "2021-11-27T19:47:55.343Z"
   },
   {
    "duration": 762,
    "start_time": "2021-11-27T19:47:59.389Z"
   },
   {
    "duration": 739,
    "start_time": "2021-11-27T19:49:07.218Z"
   },
   {
    "duration": 761,
    "start_time": "2021-11-27T19:49:25.317Z"
   },
   {
    "duration": 773,
    "start_time": "2021-11-27T19:50:08.372Z"
   },
   {
    "duration": 1118,
    "start_time": "2021-11-27T19:51:08.021Z"
   },
   {
    "duration": 750,
    "start_time": "2021-11-27T19:51:13.274Z"
   },
   {
    "duration": 1286,
    "start_time": "2021-11-27T19:51:47.115Z"
   },
   {
    "duration": 1353,
    "start_time": "2021-11-27T19:51:55.422Z"
   },
   {
    "duration": 1271,
    "start_time": "2021-11-27T19:52:09.090Z"
   },
   {
    "duration": 1364,
    "start_time": "2021-11-27T19:52:13.928Z"
   },
   {
    "duration": 1530,
    "start_time": "2021-11-27T19:52:55.181Z"
   }
  ],
  "kernelspec": {
   "display_name": "Python 3",
   "language": "python",
   "name": "python3"
  },
  "language_info": {
   "codemirror_mode": {
    "name": "ipython",
    "version": 3
   },
   "file_extension": ".py",
   "mimetype": "text/x-python",
   "name": "python",
   "nbconvert_exporter": "python",
   "pygments_lexer": "ipython3",
   "version": "3.7.8"
  },
  "toc": {
   "base_numbering": 1,
   "nav_menu": {},
   "number_sections": true,
   "sideBar": true,
   "skip_h1_title": true,
   "title_cell": "Table of Contents",
   "title_sidebar": "Contents",
   "toc_cell": false,
   "toc_position": {},
   "toc_section_display": true,
   "toc_window_display": false
  }
 },
 "nbformat": 4,
 "nbformat_minor": 5
}
